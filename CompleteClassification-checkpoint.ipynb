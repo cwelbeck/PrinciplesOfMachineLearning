{
  "cells": [
    {
      "metadata": {
        "trusted": true
      },
      "cell_type": "code",
      "source": "# Import the Dataset\n\nimport pandas as pd\nimport matplotlib.pyplot as plt\nimport seaborn as sns\nimport numpy as np\nimport numpy.random as nr\nimport math\n\n%matplotlib inline",
      "execution_count": 105,
      "outputs": []
    },
    {
      "metadata": {
        "trusted": true
      },
      "cell_type": "code",
      "source": "# two-class classification using logistic regression\n\nimport pandas as pd\nimport matplotlib.pyplot as plt\nimport seaborn as sns\nimport numpy as np\nimport numpy.random as nr\nimport math\nfrom sklearn import preprocessing\nimport sklearn.model_selection as ms\nfrom sklearn import linear_model\nimport sklearn.metrics as sklm\n\n%matplotlib inline",
      "execution_count": 106,
      "outputs": []
    },
    {
      "metadata": {
        "trusted": true
      },
      "cell_type": "code",
      "source": "# Load the Dataset\nAdvWorksCusts = pd.read_csv('AdvWorksCustsModel.csv', header=None)",
      "execution_count": 107,
      "outputs": []
    },
    {
      "metadata": {
        "trusted": true
      },
      "cell_type": "code",
      "source": "AdvWorksCusts.head()",
      "execution_count": 108,
      "outputs": [
        {
          "output_type": "execute_result",
          "execution_count": 108,
          "data": {
            "text/html": "<div>\n<style scoped>\n    .dataframe tbody tr th:only-of-type {\n        vertical-align: middle;\n    }\n\n    .dataframe tbody tr th {\n        vertical-align: top;\n    }\n\n    .dataframe thead th {\n        text-align: right;\n    }\n</style>\n<table border=\"1\" class=\"dataframe\">\n  <thead>\n    <tr style=\"text-align: right;\">\n      <th></th>\n      <th>0</th>\n      <th>1</th>\n      <th>2</th>\n      <th>3</th>\n      <th>4</th>\n      <th>5</th>\n      <th>6</th>\n      <th>7</th>\n      <th>8</th>\n      <th>9</th>\n      <th>10</th>\n      <th>11</th>\n    </tr>\n  </thead>\n  <tbody>\n    <tr>\n      <th>0</th>\n      <td>CustomerID</td>\n      <td>New_Age</td>\n      <td>New_Education</td>\n      <td>New_Occupation</td>\n      <td>New_Gender</td>\n      <td>New_MaritalStatus</td>\n      <td>HomeOwnerFlag</td>\n      <td>NumberCarsOwned</td>\n      <td>NumberChildrenAtHome</td>\n      <td>TotalChildren</td>\n      <td>YearlyIncome</td>\n      <td>BikeBuyer</td>\n    </tr>\n    <tr>\n      <th>1</th>\n      <td>11000</td>\n      <td>2</td>\n      <td>4</td>\n      <td>4</td>\n      <td>1</td>\n      <td>1</td>\n      <td>1</td>\n      <td>0</td>\n      <td>0</td>\n      <td>2</td>\n      <td>137947</td>\n      <td>0</td>\n    </tr>\n    <tr>\n      <th>2</th>\n      <td>11001</td>\n      <td>2</td>\n      <td>4</td>\n      <td>4</td>\n      <td>1</td>\n      <td>2</td>\n      <td>0</td>\n      <td>1</td>\n      <td>3</td>\n      <td>3</td>\n      <td>101141</td>\n      <td>1</td>\n    </tr>\n    <tr>\n      <th>3</th>\n      <td>11002</td>\n      <td>2</td>\n      <td>4</td>\n      <td>4</td>\n      <td>1</td>\n      <td>1</td>\n      <td>1</td>\n      <td>1</td>\n      <td>3</td>\n      <td>3</td>\n      <td>91945</td>\n      <td>0</td>\n    </tr>\n    <tr>\n      <th>4</th>\n      <td>11003</td>\n      <td>2</td>\n      <td>4</td>\n      <td>4</td>\n      <td>2</td>\n      <td>2</td>\n      <td>0</td>\n      <td>1</td>\n      <td>0</td>\n      <td>0</td>\n      <td>86688</td>\n      <td>0</td>\n    </tr>\n  </tbody>\n</table>\n</div>",
            "text/plain": "           0        1              2               3           4   \\\n0  CustomerID  New_Age  New_Education  New_Occupation  New_Gender   \n1       11000        2              4               4           1   \n2       11001        2              4               4           1   \n3       11002        2              4               4           1   \n4       11003        2              4               4           2   \n\n                  5              6                7                     8   \\\n0  New_MaritalStatus  HomeOwnerFlag  NumberCarsOwned  NumberChildrenAtHome   \n1                  1              1                0                     0   \n2                  2              0                1                     3   \n3                  1              1                1                     3   \n4                  2              0                1                     0   \n\n              9             10         11  \n0  TotalChildren  YearlyIncome  BikeBuyer  \n1              2        137947          0  \n2              3        101141          1  \n3              3         91945          0  \n4              0         86688          0  "
          },
          "metadata": {}
        }
      ]
    },
    {
      "metadata": {
        "trusted": true
      },
      "cell_type": "code",
      "source": "# Make first row the header\n\nnew_header = AdvWorksCusts.iloc[0] #grab the first row for the header\nAdvWorksCusts = AdvWorksCusts[1:] #take the data less the header row\nAdvWorksCusts.columns = new_header #set the header row as the df header",
      "execution_count": 109,
      "outputs": []
    },
    {
      "metadata": {
        "trusted": true
      },
      "cell_type": "code",
      "source": "AdvWorksCusts.head()",
      "execution_count": 110,
      "outputs": [
        {
          "output_type": "execute_result",
          "execution_count": 110,
          "data": {
            "text/html": "<div>\n<style scoped>\n    .dataframe tbody tr th:only-of-type {\n        vertical-align: middle;\n    }\n\n    .dataframe tbody tr th {\n        vertical-align: top;\n    }\n\n    .dataframe thead th {\n        text-align: right;\n    }\n</style>\n<table border=\"1\" class=\"dataframe\">\n  <thead>\n    <tr style=\"text-align: right;\">\n      <th></th>\n      <th>CustomerID</th>\n      <th>New_Age</th>\n      <th>New_Education</th>\n      <th>New_Occupation</th>\n      <th>New_Gender</th>\n      <th>New_MaritalStatus</th>\n      <th>HomeOwnerFlag</th>\n      <th>NumberCarsOwned</th>\n      <th>NumberChildrenAtHome</th>\n      <th>TotalChildren</th>\n      <th>YearlyIncome</th>\n      <th>BikeBuyer</th>\n    </tr>\n  </thead>\n  <tbody>\n    <tr>\n      <th>1</th>\n      <td>11000</td>\n      <td>2</td>\n      <td>4</td>\n      <td>4</td>\n      <td>1</td>\n      <td>1</td>\n      <td>1</td>\n      <td>0</td>\n      <td>0</td>\n      <td>2</td>\n      <td>137947</td>\n      <td>0</td>\n    </tr>\n    <tr>\n      <th>2</th>\n      <td>11001</td>\n      <td>2</td>\n      <td>4</td>\n      <td>4</td>\n      <td>1</td>\n      <td>2</td>\n      <td>0</td>\n      <td>1</td>\n      <td>3</td>\n      <td>3</td>\n      <td>101141</td>\n      <td>1</td>\n    </tr>\n    <tr>\n      <th>3</th>\n      <td>11002</td>\n      <td>2</td>\n      <td>4</td>\n      <td>4</td>\n      <td>1</td>\n      <td>1</td>\n      <td>1</td>\n      <td>1</td>\n      <td>3</td>\n      <td>3</td>\n      <td>91945</td>\n      <td>0</td>\n    </tr>\n    <tr>\n      <th>4</th>\n      <td>11003</td>\n      <td>2</td>\n      <td>4</td>\n      <td>4</td>\n      <td>2</td>\n      <td>2</td>\n      <td>0</td>\n      <td>1</td>\n      <td>0</td>\n      <td>0</td>\n      <td>86688</td>\n      <td>0</td>\n    </tr>\n    <tr>\n      <th>5</th>\n      <td>11004</td>\n      <td>2</td>\n      <td>4</td>\n      <td>4</td>\n      <td>2</td>\n      <td>2</td>\n      <td>1</td>\n      <td>4</td>\n      <td>5</td>\n      <td>5</td>\n      <td>92771</td>\n      <td>1</td>\n    </tr>\n  </tbody>\n</table>\n</div>",
            "text/plain": "0 CustomerID New_Age New_Education New_Occupation New_Gender  \\\n1      11000       2             4              4          1   \n2      11001       2             4              4          1   \n3      11002       2             4              4          1   \n4      11003       2             4              4          2   \n5      11004       2             4              4          2   \n\n0 New_MaritalStatus HomeOwnerFlag NumberCarsOwned NumberChildrenAtHome  \\\n1                 1             1               0                    0   \n2                 2             0               1                    3   \n3                 1             1               1                    3   \n4                 2             0               1                    0   \n5                 2             1               4                    5   \n\n0 TotalChildren YearlyIncome BikeBuyer  \n1             2       137947         0  \n2             3       101141         1  \n3             3        91945         0  \n4             0        86688         0  \n5             5        92771         1  "
          },
          "metadata": {}
        }
      ]
    },
    {
      "metadata": {
        "trusted": true
      },
      "cell_type": "code",
      "source": "# Check for duplicate rows\n\nprint(AdvWorksCusts.shape)\nprint(AdvWorksCusts.CustomerID.unique().shape)",
      "execution_count": 111,
      "outputs": [
        {
          "output_type": "stream",
          "text": "(16519, 12)\n(16404,)\n",
          "name": "stdout"
        }
      ]
    },
    {
      "metadata": {
        "trusted": true
      },
      "cell_type": "code",
      "source": "# Remove Duplicate Rows by keeping the first set of CustomerID column\n\nprint('Before Removing Duplicate Rows') \nprint(AdvWorksCusts.shape)\nAdvWorksCusts.drop_duplicates(subset = 'CustomerID', keep = 'first', inplace = True)\nprint('After Removing Duplicate Rows')\nprint(AdvWorksCusts.shape)\nprint(AdvWorksCusts.CustomerID.unique().shape)",
      "execution_count": 112,
      "outputs": [
        {
          "output_type": "stream",
          "text": "Before Removing Duplicate Rows\n(16519, 12)\nAfter Removing Duplicate Rows\n(16404, 12)\n(16404,)\n",
          "name": "stdout"
        }
      ]
    },
    {
      "metadata": {
        "trusted": true
      },
      "cell_type": "code",
      "source": "# Check for Missing Data\nAdvWorksCusts.isnull().sum()",
      "execution_count": 113,
      "outputs": [
        {
          "output_type": "execute_result",
          "execution_count": 113,
          "data": {
            "text/plain": "0\nCustomerID              0\nNew_Age                 0\nNew_Education           0\nNew_Occupation          0\nNew_Gender              0\nNew_MaritalStatus       0\nHomeOwnerFlag           0\nNumberCarsOwned         0\nNumberChildrenAtHome    0\nTotalChildren           0\nYearlyIncome            0\nBikeBuyer               0\ndtype: int64"
          },
          "metadata": {}
        }
      ]
    },
    {
      "metadata": {
        "trusted": true
      },
      "cell_type": "code",
      "source": "# Save the Dataset for Azure ML Studio\n\n# Save the Predicted column to CSV\nAdvWorksCusts.to_csv('AdvWorksCusts.csv', AdvWorksCusts)",
      "execution_count": 114,
      "outputs": [
        {
          "output_type": "error",
          "ename": "TypeError",
          "evalue": "\"delimiter\" must be string, not DataFrame",
          "traceback": [
            "\u001b[0;31m---------------------------------------------------------------------------\u001b[0m",
            "\u001b[0;31mTypeError\u001b[0m                                 Traceback (most recent call last)",
            "\u001b[0;32m<ipython-input-114-bf52aed89813>\u001b[0m in \u001b[0;36m<module>\u001b[0;34m\u001b[0m\n\u001b[1;32m      2\u001b[0m \u001b[0;34m\u001b[0m\u001b[0m\n\u001b[1;32m      3\u001b[0m \u001b[0;31m# Save the Predicted column to CSV\u001b[0m\u001b[0;34m\u001b[0m\u001b[0;34m\u001b[0m\u001b[0m\n\u001b[0;32m----> 4\u001b[0;31m \u001b[0mAdvWorksCusts\u001b[0m\u001b[0;34m.\u001b[0m\u001b[0mto_csv\u001b[0m\u001b[0;34m(\u001b[0m\u001b[0;34m'AdvWorksCustsAZML.csv'\u001b[0m\u001b[0;34m,\u001b[0m \u001b[0mAdvWorksCusts\u001b[0m\u001b[0;34m)\u001b[0m\u001b[0;34m\u001b[0m\u001b[0m\n\u001b[0m",
            "\u001b[0;32m~/anaconda3_501/lib/python3.6/site-packages/pandas/core/frame.py\u001b[0m in \u001b[0;36mto_csv\u001b[0;34m(self, path_or_buf, sep, na_rep, float_format, columns, header, index, index_label, mode, encoding, compression, quoting, quotechar, line_terminator, chunksize, tupleize_cols, date_format, doublequote, escapechar, decimal)\u001b[0m\n\u001b[1;32m   1743\u001b[0m                                  \u001b[0mdoublequote\u001b[0m\u001b[0;34m=\u001b[0m\u001b[0mdoublequote\u001b[0m\u001b[0;34m,\u001b[0m\u001b[0;34m\u001b[0m\u001b[0m\n\u001b[1;32m   1744\u001b[0m                                  escapechar=escapechar, decimal=decimal)\n\u001b[0;32m-> 1745\u001b[0;31m         \u001b[0mformatter\u001b[0m\u001b[0;34m.\u001b[0m\u001b[0msave\u001b[0m\u001b[0;34m(\u001b[0m\u001b[0;34m)\u001b[0m\u001b[0;34m\u001b[0m\u001b[0m\n\u001b[0m\u001b[1;32m   1746\u001b[0m \u001b[0;34m\u001b[0m\u001b[0m\n\u001b[1;32m   1747\u001b[0m         \u001b[0;32mif\u001b[0m \u001b[0mpath_or_buf\u001b[0m \u001b[0;32mis\u001b[0m \u001b[0;32mNone\u001b[0m\u001b[0;34m:\u001b[0m\u001b[0;34m\u001b[0m\u001b[0m\n",
            "\u001b[0;32m~/anaconda3_501/lib/python3.6/site-packages/pandas/io/formats/csvs.py\u001b[0m in \u001b[0;36msave\u001b[0;34m(self)\u001b[0m\n\u001b[1;32m    167\u001b[0m             \u001b[0;32melse\u001b[0m\u001b[0;34m:\u001b[0m\u001b[0;34m\u001b[0m\u001b[0m\n\u001b[1;32m    168\u001b[0m                 \u001b[0mwriter_kwargs\u001b[0m\u001b[0;34m[\u001b[0m\u001b[0;34m'encoding'\u001b[0m\u001b[0;34m]\u001b[0m \u001b[0;34m=\u001b[0m \u001b[0mencoding\u001b[0m\u001b[0;34m\u001b[0m\u001b[0m\n\u001b[0;32m--> 169\u001b[0;31m                 \u001b[0mself\u001b[0m\u001b[0;34m.\u001b[0m\u001b[0mwriter\u001b[0m \u001b[0;34m=\u001b[0m \u001b[0mUnicodeWriter\u001b[0m\u001b[0;34m(\u001b[0m\u001b[0mf\u001b[0m\u001b[0;34m,\u001b[0m \u001b[0;34m**\u001b[0m\u001b[0mwriter_kwargs\u001b[0m\u001b[0;34m)\u001b[0m\u001b[0;34m\u001b[0m\u001b[0m\n\u001b[0m\u001b[1;32m    170\u001b[0m \u001b[0;34m\u001b[0m\u001b[0m\n\u001b[1;32m    171\u001b[0m             \u001b[0mself\u001b[0m\u001b[0;34m.\u001b[0m\u001b[0m_save\u001b[0m\u001b[0;34m(\u001b[0m\u001b[0;34m)\u001b[0m\u001b[0;34m\u001b[0m\u001b[0m\n",
            "\u001b[0;32m~/anaconda3_501/lib/python3.6/site-packages/pandas/io/common.py\u001b[0m in \u001b[0;36mUnicodeWriter\u001b[0;34m(f, dialect, encoding, **kwds)\u001b[0m\n\u001b[1;32m    519\u001b[0m \u001b[0;34m\u001b[0m\u001b[0m\n\u001b[1;32m    520\u001b[0m     \u001b[0;32mdef\u001b[0m \u001b[0mUnicodeWriter\u001b[0m\u001b[0;34m(\u001b[0m\u001b[0mf\u001b[0m\u001b[0;34m,\u001b[0m \u001b[0mdialect\u001b[0m\u001b[0;34m=\u001b[0m\u001b[0mcsv\u001b[0m\u001b[0;34m.\u001b[0m\u001b[0mexcel\u001b[0m\u001b[0;34m,\u001b[0m \u001b[0mencoding\u001b[0m\u001b[0;34m=\u001b[0m\u001b[0;34m\"utf-8\"\u001b[0m\u001b[0;34m,\u001b[0m \u001b[0;34m**\u001b[0m\u001b[0mkwds\u001b[0m\u001b[0;34m)\u001b[0m\u001b[0;34m:\u001b[0m\u001b[0;34m\u001b[0m\u001b[0m\n\u001b[0;32m--> 521\u001b[0;31m         \u001b[0;32mreturn\u001b[0m \u001b[0mcsv\u001b[0m\u001b[0;34m.\u001b[0m\u001b[0mwriter\u001b[0m\u001b[0;34m(\u001b[0m\u001b[0mf\u001b[0m\u001b[0;34m,\u001b[0m \u001b[0mdialect\u001b[0m\u001b[0;34m=\u001b[0m\u001b[0mdialect\u001b[0m\u001b[0;34m,\u001b[0m \u001b[0;34m**\u001b[0m\u001b[0mkwds\u001b[0m\u001b[0;34m)\u001b[0m\u001b[0;34m\u001b[0m\u001b[0m\n\u001b[0m\u001b[1;32m    522\u001b[0m \u001b[0;32melse\u001b[0m\u001b[0;34m:\u001b[0m\u001b[0;34m\u001b[0m\u001b[0m\n\u001b[1;32m    523\u001b[0m     \u001b[0;32mclass\u001b[0m \u001b[0mUnicodeReader\u001b[0m\u001b[0;34m(\u001b[0m\u001b[0mBaseIterator\u001b[0m\u001b[0;34m)\u001b[0m\u001b[0;34m:\u001b[0m\u001b[0;34m\u001b[0m\u001b[0m\n",
            "\u001b[0;31mTypeError\u001b[0m: \"delimiter\" must be string, not DataFrame"
          ]
        }
      ]
    },
    {
      "metadata": {
        "trusted": true
      },
      "cell_type": "code",
      "source": "# Save the DataSet for AzureML Studio 2\nAdvWorksCusts.to_csv('AdvWorksCusts.csv', index=False)",
      "execution_count": 115,
      "outputs": []
    },
    {
      "metadata": {
        "trusted": true
      },
      "cell_type": "code",
      "source": "# Drop Columns not needed\n\nAdvWorksCusts = AdvWorksCusts.drop(['CustomerID'], axis=1)\nAdvWorksCusts.head()",
      "execution_count": 76,
      "outputs": [
        {
          "output_type": "execute_result",
          "execution_count": 76,
          "data": {
            "text/html": "<div>\n<style scoped>\n    .dataframe tbody tr th:only-of-type {\n        vertical-align: middle;\n    }\n\n    .dataframe tbody tr th {\n        vertical-align: top;\n    }\n\n    .dataframe thead th {\n        text-align: right;\n    }\n</style>\n<table border=\"1\" class=\"dataframe\">\n  <thead>\n    <tr style=\"text-align: right;\">\n      <th></th>\n      <th>New_Age</th>\n      <th>New_Education</th>\n      <th>New_Occupation</th>\n      <th>New_Gender</th>\n      <th>New_MaritalStatus</th>\n      <th>HomeOwnerFlag</th>\n      <th>NumberCarsOwned</th>\n      <th>NumberChildrenAtHome</th>\n      <th>TotalChildren</th>\n      <th>YearlyIncome</th>\n      <th>BikeBuyer</th>\n    </tr>\n  </thead>\n  <tbody>\n    <tr>\n      <th>1</th>\n      <td>2</td>\n      <td>4</td>\n      <td>4</td>\n      <td>1</td>\n      <td>1</td>\n      <td>1</td>\n      <td>0</td>\n      <td>0</td>\n      <td>2</td>\n      <td>137947</td>\n      <td>0</td>\n    </tr>\n    <tr>\n      <th>2</th>\n      <td>2</td>\n      <td>4</td>\n      <td>4</td>\n      <td>1</td>\n      <td>2</td>\n      <td>0</td>\n      <td>1</td>\n      <td>3</td>\n      <td>3</td>\n      <td>101141</td>\n      <td>1</td>\n    </tr>\n    <tr>\n      <th>3</th>\n      <td>2</td>\n      <td>4</td>\n      <td>4</td>\n      <td>1</td>\n      <td>1</td>\n      <td>1</td>\n      <td>1</td>\n      <td>3</td>\n      <td>3</td>\n      <td>91945</td>\n      <td>0</td>\n    </tr>\n    <tr>\n      <th>4</th>\n      <td>2</td>\n      <td>4</td>\n      <td>4</td>\n      <td>2</td>\n      <td>2</td>\n      <td>0</td>\n      <td>1</td>\n      <td>0</td>\n      <td>0</td>\n      <td>86688</td>\n      <td>0</td>\n    </tr>\n    <tr>\n      <th>5</th>\n      <td>2</td>\n      <td>4</td>\n      <td>4</td>\n      <td>2</td>\n      <td>2</td>\n      <td>1</td>\n      <td>4</td>\n      <td>5</td>\n      <td>5</td>\n      <td>92771</td>\n      <td>1</td>\n    </tr>\n  </tbody>\n</table>\n</div>",
            "text/plain": "0 New_Age New_Education New_Occupation New_Gender New_MaritalStatus  \\\n1       2             4              4          1                 1   \n2       2             4              4          1                 2   \n3       2             4              4          1                 1   \n4       2             4              4          2                 2   \n5       2             4              4          2                 2   \n\n0 HomeOwnerFlag NumberCarsOwned NumberChildrenAtHome TotalChildren  \\\n1             1               0                    0             2   \n2             0               1                    3             3   \n3             1               1                    3             3   \n4             0               1                    0             0   \n5             1               4                    5             5   \n\n0 YearlyIncome BikeBuyer  \n1       137947         0  \n2       101141         1  \n3        91945         0  \n4        86688         0  \n5        92771         1  "
          },
          "metadata": {}
        }
      ]
    },
    {
      "metadata": {
        "trusted": true
      },
      "cell_type": "code",
      "source": "##  @@@ Selecting the x variables\n\nx = AdvWorksCusts.iloc[:, [0, 1, 2, 3, 4, 5, 6, 7, 8, 9]].values\n\nprint(x)",
      "execution_count": 77,
      "outputs": [
        {
          "output_type": "stream",
          "text": "[['2' '4' '4' ... '0' '2' '137947']\n ['2' '4' '4' ... '3' '3' '101141']\n ['2' '4' '4' ... '3' '3' '91945']\n ...\n ['2' '5' '3' ... '0' '3' '60417']\n ['2' '5' '3' ... '0' '3' '66653']\n ['2' '4' '3' ... '0' '3' '59736']]\n",
          "name": "stdout"
        }
      ]
    },
    {
      "metadata": {
        "trusted": true
      },
      "cell_type": "code",
      "source": "## Try This\n\n#X = array[:,0:10]\n#Y = array[:,10]\n\n# https://machinelearningmastery.com/save-load-machine-learning-models-python-scikit-learn/\n\n# https://machinelearningmastery.com/save-machine-learning-model-make-predictions-weka/",
      "execution_count": null,
      "outputs": []
    },
    {
      "metadata": {
        "trusted": true
      },
      "cell_type": "code",
      "source": "# Save Model\n\n#filename = 'finalized_model.sav'",
      "execution_count": 45,
      "outputs": []
    },
    {
      "metadata": {
        "trusted": true
      },
      "cell_type": "code",
      "source": "# Selecting the Y / Labels Column\n\ny = AdvWorksCusts.iloc[:, 10].values\n\nprint(y)",
      "execution_count": 78,
      "outputs": [
        {
          "output_type": "stream",
          "text": "['0' '1' '0' ... '1' '0' '0']\n",
          "name": "stdout"
        }
      ]
    },
    {
      "metadata": {
        "trusted": true
      },
      "cell_type": "code",
      "source": "# Splitting the dataset into the Training set and Test set\nfrom sklearn.model_selection import train_test_split\ntrainx, testx, trainy, testy = train_test_split(x, y, test_size = 0.25, random_state = 0)",
      "execution_count": 79,
      "outputs": []
    },
    {
      "metadata": {
        "trusted": true
      },
      "cell_type": "code",
      "source": "# Feature Scaling\nfrom sklearn.preprocessing import StandardScaler\nss = StandardScaler()\ntrainx = ss.fit_transform(trainx)\ntestx = ss.transform(testx)",
      "execution_count": 80,
      "outputs": [
        {
          "output_type": "stream",
          "text": "/home/nbuser/anaconda3_501/lib/python3.6/site-packages/sklearn/utils/validation.py:595: DataConversionWarning: Data with input dtype object was converted to float64 by StandardScaler.\n  warnings.warn(msg, DataConversionWarning)\n/home/nbuser/anaconda3_501/lib/python3.6/site-packages/sklearn/utils/validation.py:595: DataConversionWarning: Data with input dtype object was converted to float64 by StandardScaler.\n  warnings.warn(msg, DataConversionWarning)\n/home/nbuser/anaconda3_501/lib/python3.6/site-packages/sklearn/utils/validation.py:595: DataConversionWarning: Data with input dtype object was converted to float64 by StandardScaler.\n  warnings.warn(msg, DataConversionWarning)\n",
          "name": "stderr"
        }
      ]
    },
    {
      "metadata": {
        "trusted": true
      },
      "cell_type": "code",
      "source": "# Fitting Logistic Regression to the Training set\nfrom sklearn.linear_model import LogisticRegression\nlogistic_mod = LogisticRegression(random_state = 0)\nlogistic_mod.fit(trainx, trainy)",
      "execution_count": 81,
      "outputs": [
        {
          "output_type": "stream",
          "text": "/home/nbuser/anaconda3_501/lib/python3.6/site-packages/sklearn/linear_model/logistic.py:433: FutureWarning: Default solver will be changed to 'lbfgs' in 0.22. Specify a solver to silence this warning.\n  FutureWarning)\n",
          "name": "stderr"
        },
        {
          "output_type": "execute_result",
          "execution_count": 81,
          "data": {
            "text/plain": "LogisticRegression(C=1.0, class_weight=None, dual=False, fit_intercept=True,\n          intercept_scaling=1, max_iter=100, multi_class='warn',\n          n_jobs=None, penalty='l2', random_state=0, solver='warn',\n          tol=0.0001, verbose=0, warm_start=False)"
          },
          "metadata": {}
        }
      ]
    },
    {
      "metadata": {
        "trusted": true
      },
      "cell_type": "code",
      "source": "# Predicting the Test set results\npredicty = logistic_mod.predict(testx)\n\n# Print Predicted Values\nprint(predicty)",
      "execution_count": 82,
      "outputs": [
        {
          "output_type": "stream",
          "text": "['1' '0' '0' ... '0' '1' '0']\n",
          "name": "stdout"
        }
      ]
    },
    {
      "metadata": {
        "trusted": true
      },
      "cell_type": "code",
      "source": "# Making the Confusion Matrix\nfrom sklearn.metrics import confusion_matrix\ncm = confusion_matrix(testy, predicty)\n\ncm",
      "execution_count": 83,
      "outputs": [
        {
          "output_type": "execute_result",
          "execution_count": 83,
          "data": {
            "text/plain": "array([[2491,  263],\n       [ 622,  725]])"
          },
          "metadata": {}
        }
      ]
    },
    {
      "metadata": {
        "trusted": true
      },
      "cell_type": "code",
      "source": "# Print and Examine the Model Coefficients\n\nprint(logistic_mod.intercept_)\nprint(logistic_mod.coef_)",
      "execution_count": 84,
      "outputs": [
        {
          "output_type": "stream",
          "text": "[-0.93084996]\n[[-0.37910016  0.08487669 -0.12611304 -0.32354991  0.74462346  0.06645696\n  -0.15861632  1.14226431  0.00816575  0.60400152]]\n",
          "name": "stdout"
        }
      ]
    },
    {
      "metadata": {
        "trusted": true
      },
      "cell_type": "code",
      "source": "# Print Probabilities\n\nprobabilities = logistic_mod.predict_proba(testx)\nprint(probabilities[:15,:])",
      "execution_count": 85,
      "outputs": [
        {
          "output_type": "stream",
          "text": "[[0.32861825 0.67138175]\n [0.80912435 0.19087565]\n [0.75573702 0.24426298]\n [0.87850981 0.12149019]\n [0.48399778 0.51600222]\n [0.84913708 0.15086292]\n [0.64828507 0.35171493]\n [0.72312181 0.27687819]\n [0.90455435 0.09544565]\n [0.73963529 0.26036471]\n [0.60448789 0.39551211]\n [0.44258331 0.55741669]\n [0.87681325 0.12318675]\n [0.87993014 0.12006986]\n [0.67766045 0.32233955]]\n",
          "name": "stdout"
        }
      ]
    },
    {
      "metadata": {
        "trusted": true
      },
      "cell_type": "code",
      "source": "# Score and evaluate the classification model\n\ndef score_model(probs, threshold):\n    return np.array([1 if x > threshold else 0 for x in probs[:,1]])\nscores = score_model(probabilities, 0.5)\nprint(np.array(scores[:15]))\nprint(testy[:15])",
      "execution_count": 86,
      "outputs": [
        {
          "output_type": "stream",
          "text": "[1 0 0 0 1 0 0 0 0 0 0 1 0 0 0]\n['1' '0' '1' '0' '0' '0' '0' '0' '0' '0' '1' '1' '0' '1' '0']\n",
          "name": "stdout"
        }
      ]
    },
    {
      "metadata": {
        "trusted": true
      },
      "cell_type": "code",
      "source": "## Accuracy Score\nlogistic_mod.score(testx, testy)",
      "execution_count": 87,
      "outputs": [
        {
          "output_type": "execute_result",
          "execution_count": 87,
          "data": {
            "text/plain": "0.7841989758595465"
          },
          "metadata": {}
        }
      ]
    },
    {
      "metadata": {
        "trusted": true
      },
      "cell_type": "code",
      "source": "## Accuracy Score 2\n\nfrom sklearn.metrics import accuracy_score\n\nacc = accuracy_score(testy, predicty)\nprint(acc)",
      "execution_count": 88,
      "outputs": [
        {
          "output_type": "stream",
          "text": "0.7841989758595465\n",
          "name": "stdout"
        }
      ]
    },
    {
      "metadata": {
        "trusted": true
      },
      "cell_type": "code",
      "source": "# Save the Predicted column to CSV\nAdvWorksCusts.to_csv('predicty.csv', predicty)",
      "execution_count": 33,
      "outputs": []
    },
    {
      "metadata": {
        "trusted": true
      },
      "cell_type": "code",
      "source": "# Export Predictions\nprediction = pd.DataFrame(predicty, columns=['predicty']).to_csv('predicty.csv')",
      "execution_count": 49,
      "outputs": []
    },
    {
      "metadata": {
        "trusted": true
      },
      "cell_type": "code",
      "source": "# Run Model make Predictions on New Data\n# https://machinelearningmastery.com/how-to-connect-model-input-data-with-predictions-for-machine-learning/",
      "execution_count": null,
      "outputs": []
    },
    {
      "metadata": {
        "trusted": true
      },
      "cell_type": "code",
      "source": "from sklearn.metrics import accuracy_score\nimport sklearn as sklm\n\nmetrics = sklm.metrics.accuracy_score(testy, predicty, normalize=True, sample_weight=None)\nprint(metrics)",
      "execution_count": 89,
      "outputs": [
        {
          "output_type": "stream",
          "text": "0.7841989758595465\n",
          "name": "stdout"
        }
      ]
    },
    {
      "metadata": {
        "trusted": true
      },
      "cell_type": "code",
      "source": "metrics = sklm.precision_recall_fscore_support(testy, predicty, average='macro')\nprint(metrics)",
      "execution_count": 90,
      "outputs": [
        {
          "output_type": "error",
          "ename": "AttributeError",
          "evalue": "module 'sklearn' has no attribute 'precision_recall_fscore_support'",
          "traceback": [
            "\u001b[0;31m---------------------------------------------------------------------------\u001b[0m",
            "\u001b[0;31mAttributeError\u001b[0m                            Traceback (most recent call last)",
            "\u001b[0;32m<ipython-input-90-f5bdeb7ffd2d>\u001b[0m in \u001b[0;36m<module>\u001b[0;34m\u001b[0m\n\u001b[0;32m----> 1\u001b[0;31m \u001b[0mmetrics\u001b[0m \u001b[0;34m=\u001b[0m \u001b[0msklm\u001b[0m\u001b[0;34m.\u001b[0m\u001b[0mprecision_recall_fscore_support\u001b[0m\u001b[0;34m(\u001b[0m\u001b[0mtesty\u001b[0m\u001b[0;34m,\u001b[0m \u001b[0mpredicty\u001b[0m\u001b[0;34m,\u001b[0m \u001b[0maverage\u001b[0m\u001b[0;34m=\u001b[0m\u001b[0;34m'macro'\u001b[0m\u001b[0;34m)\u001b[0m\u001b[0;34m\u001b[0m\u001b[0m\n\u001b[0m\u001b[1;32m      2\u001b[0m \u001b[0mprint\u001b[0m\u001b[0;34m(\u001b[0m\u001b[0mmetrics\u001b[0m\u001b[0;34m)\u001b[0m\u001b[0;34m\u001b[0m\u001b[0m\n",
            "\u001b[0;31mAttributeError\u001b[0m: module 'sklearn' has no attribute 'precision_recall_fscore_support'"
          ]
        }
      ]
    },
    {
      "metadata": {
        "trusted": true
      },
      "cell_type": "code",
      "source": "def print_metrics(labels, scores):\n    metrics = sklm.metrics.precision_recall_fscore_support(labels, scores)\n    conf = sklm.metrics.confusion_matrix(labels, scores)\n    print('                 Confusion matrix')\n    print('                 Score positive    Score negative')\n    print('Actual positive    %6d' % conf[0,0] + '             %5d' % conf[0,1])\n    print('Actual negative    %6d' % conf[1,0] + '             %5d' % conf[1,1])\n    print('')\n    print('Accuracy  %0.2f' % sklm.metrics.accuracy_score(labels, scores))\n    print(' ')\n    print('           Positive      Negative')\n    print('Num case   %6d' % metrics[3][0] + '        %6d' % metrics[3][1])\n    print('Precision  %6.2f' % metrics[0][0] + '        %6.2f' % metrics[0][1])\n    print('Recall     %6.2f' % metrics[1][0] + '        %6.2f' % metrics[1][1])\n    print('F1         %6.2f' % metrics[2][0] + '        %6.2f' % metrics[2][1])\n    \nprint_metrics(testy, predicty) ",
      "execution_count": 91,
      "outputs": [
        {
          "output_type": "stream",
          "text": "                 Confusion matrix\n                 Score positive    Score negative\nActual positive      2491               263\nActual negative       622               725\n\nAccuracy  0.78\n \n           Positive      Negative\nNum case     2754          1347\nPrecision    0.80          0.73\nRecall       0.90          0.54\nF1           0.85          0.62\n",
          "name": "stdout"
        }
      ]
    },
    {
      "metadata": {
        "trusted": true
      },
      "cell_type": "code",
      "source": "# Plot AUC\n\n# sklearn.metrics.roc_curve(y_true, y_score, *, pos_label=None, sample_weight=None, drop_intermediate=True)\n\ndef plot_auc(labels, probs):\n    ## Compute the false positive rate, true positive rate\n    ## and threshold along with the AUC\n    fpr, tpr, threshold = sklm.metrics.roc_curve(labels, probs[:,1])\n    auc = sklm.auc(fpr, tpr)\n    \n    ## Plot the result\n    plt.title('Receiver Operating Characteristic')\n    plt.plot(fpr, tpr, color = 'orange', label = 'AUC = %0.2f' % auc)\n    plt.legend(loc = 'lower right')\n    plt.plot([0, 1], [0, 1],'r--')\n    plt.xlim([0, 1])\n    plt.ylim([0, 1])\n    plt.ylabel('True Positive Rate')\n    plt.xlabel('False Positive Rate')\n    plt.show()\n    \nplot_auc(testy, probabilities) ",
      "execution_count": 92,
      "outputs": [
        {
          "output_type": "execute_result",
          "execution_count": 92,
          "data": {
            "text/plain": "\"\\n# sklearn.metrics.roc_curve(y_true, y_score, *, pos_label=None, sample_weight=None, drop_intermediate=True)\\n\\ndef plot_auc(labels, probs):\\n    ## Compute the false positive rate, true positive rate\\n    ## and threshold along with the AUC\\n    fpr, tpr, threshold = sklm.metrics.roc_curve(labels, probs[:,1])\\n    auc = sklm.auc(fpr, tpr)\\n    \\n    ## Plot the result\\n    plt.title('Receiver Operating Characteristic')\\n    plt.plot(fpr, tpr, color = 'orange', label = 'AUC = %0.2f' % auc)\\n    plt.legend(loc = 'lower right')\\n    plt.plot([0, 1], [0, 1],'r--')\\n    plt.xlim([0, 1])\\n    plt.ylim([0, 1])\\n    plt.ylabel('True Positive Rate')\\n    plt.xlabel('False Positive Rate')\\n    plt.show()\\n    \\nplot_auc(testy, probabilities)   \""
          },
          "metadata": {}
        }
      ]
    },
    {
      "metadata": {
        "trusted": true
      },
      "cell_type": "code",
      "source": "# Predict New Unseen Dataset\n\n\n# Load the Dataset\nAW_test = pd.read_csv('AW_testModel.csv', header=None)",
      "execution_count": 93,
      "outputs": []
    },
    {
      "metadata": {
        "trusted": true
      },
      "cell_type": "code",
      "source": "AW_test.head()",
      "execution_count": 94,
      "outputs": [
        {
          "output_type": "execute_result",
          "execution_count": 94,
          "data": {
            "text/html": "<div>\n<style scoped>\n    .dataframe tbody tr th:only-of-type {\n        vertical-align: middle;\n    }\n\n    .dataframe tbody tr th {\n        vertical-align: top;\n    }\n\n    .dataframe thead th {\n        text-align: right;\n    }\n</style>\n<table border=\"1\" class=\"dataframe\">\n  <thead>\n    <tr style=\"text-align: right;\">\n      <th></th>\n      <th>0</th>\n      <th>1</th>\n      <th>2</th>\n      <th>3</th>\n      <th>4</th>\n      <th>5</th>\n      <th>6</th>\n      <th>7</th>\n      <th>8</th>\n      <th>9</th>\n      <th>10</th>\n    </tr>\n  </thead>\n  <tbody>\n    <tr>\n      <th>0</th>\n      <td>CustomerID</td>\n      <td>New_Age</td>\n      <td>New_Education</td>\n      <td>New_Occupation</td>\n      <td>New_Gender</td>\n      <td>New_MaritalStatus</td>\n      <td>HomeOwnerFlag</td>\n      <td>NumberCarsOwned</td>\n      <td>NumberChildrenAtHome</td>\n      <td>TotalChildren</td>\n      <td>YearlyIncome</td>\n    </tr>\n    <tr>\n      <th>1</th>\n      <td>18988</td>\n      <td>3</td>\n      <td>4</td>\n      <td>5</td>\n      <td>2</td>\n      <td>2</td>\n      <td>0</td>\n      <td>2</td>\n      <td>0</td>\n      <td>5</td>\n      <td>86931</td>\n    </tr>\n    <tr>\n      <th>2</th>\n      <td>29135</td>\n      <td>2</td>\n      <td>4</td>\n      <td>2</td>\n      <td>1</td>\n      <td>1</td>\n      <td>1</td>\n      <td>2</td>\n      <td>2</td>\n      <td>4</td>\n      <td>100125</td>\n    </tr>\n    <tr>\n      <th>3</th>\n      <td>12156</td>\n      <td>4</td>\n      <td>5</td>\n      <td>5</td>\n      <td>2</td>\n      <td>1</td>\n      <td>1</td>\n      <td>2</td>\n      <td>0</td>\n      <td>4</td>\n      <td>103985</td>\n    </tr>\n    <tr>\n      <th>4</th>\n      <td>13749</td>\n      <td>2</td>\n      <td>5</td>\n      <td>2</td>\n      <td>1</td>\n      <td>1</td>\n      <td>1</td>\n      <td>0</td>\n      <td>0</td>\n      <td>4</td>\n      <td>127161</td>\n    </tr>\n  </tbody>\n</table>\n</div>",
            "text/plain": "           0        1              2               3           4   \\\n0  CustomerID  New_Age  New_Education  New_Occupation  New_Gender   \n1       18988        3              4               5           2   \n2       29135        2              4               2           1   \n3       12156        4              5               5           2   \n4       13749        2              5               2           1   \n\n                  5              6                7                     8   \\\n0  New_MaritalStatus  HomeOwnerFlag  NumberCarsOwned  NumberChildrenAtHome   \n1                  2              0                2                     0   \n2                  1              1                2                     2   \n3                  1              1                2                     0   \n4                  1              1                0                     0   \n\n              9             10  \n0  TotalChildren  YearlyIncome  \n1              5         86931  \n2              4        100125  \n3              4        103985  \n4              4        127161  "
          },
          "metadata": {}
        }
      ]
    },
    {
      "metadata": {
        "trusted": true
      },
      "cell_type": "code",
      "source": "# Make first row the header\n\nnew_header = AW_test.iloc[0] #grab the first row for the header\nAW_test = AW_test[1:] #take the data less the header row\nAW_test.columns = new_header #set the header row as the df header\nAW_test.head()",
      "execution_count": 95,
      "outputs": [
        {
          "output_type": "execute_result",
          "execution_count": 95,
          "data": {
            "text/html": "<div>\n<style scoped>\n    .dataframe tbody tr th:only-of-type {\n        vertical-align: middle;\n    }\n\n    .dataframe tbody tr th {\n        vertical-align: top;\n    }\n\n    .dataframe thead th {\n        text-align: right;\n    }\n</style>\n<table border=\"1\" class=\"dataframe\">\n  <thead>\n    <tr style=\"text-align: right;\">\n      <th></th>\n      <th>CustomerID</th>\n      <th>New_Age</th>\n      <th>New_Education</th>\n      <th>New_Occupation</th>\n      <th>New_Gender</th>\n      <th>New_MaritalStatus</th>\n      <th>HomeOwnerFlag</th>\n      <th>NumberCarsOwned</th>\n      <th>NumberChildrenAtHome</th>\n      <th>TotalChildren</th>\n      <th>YearlyIncome</th>\n    </tr>\n  </thead>\n  <tbody>\n    <tr>\n      <th>1</th>\n      <td>18988</td>\n      <td>3</td>\n      <td>4</td>\n      <td>5</td>\n      <td>2</td>\n      <td>2</td>\n      <td>0</td>\n      <td>2</td>\n      <td>0</td>\n      <td>5</td>\n      <td>86931</td>\n    </tr>\n    <tr>\n      <th>2</th>\n      <td>29135</td>\n      <td>2</td>\n      <td>4</td>\n      <td>2</td>\n      <td>1</td>\n      <td>1</td>\n      <td>1</td>\n      <td>2</td>\n      <td>2</td>\n      <td>4</td>\n      <td>100125</td>\n    </tr>\n    <tr>\n      <th>3</th>\n      <td>12156</td>\n      <td>4</td>\n      <td>5</td>\n      <td>5</td>\n      <td>2</td>\n      <td>1</td>\n      <td>1</td>\n      <td>2</td>\n      <td>0</td>\n      <td>4</td>\n      <td>103985</td>\n    </tr>\n    <tr>\n      <th>4</th>\n      <td>13749</td>\n      <td>2</td>\n      <td>5</td>\n      <td>2</td>\n      <td>1</td>\n      <td>1</td>\n      <td>1</td>\n      <td>0</td>\n      <td>0</td>\n      <td>4</td>\n      <td>127161</td>\n    </tr>\n    <tr>\n      <th>5</th>\n      <td>27780</td>\n      <td>2</td>\n      <td>2</td>\n      <td>1</td>\n      <td>2</td>\n      <td>1</td>\n      <td>1</td>\n      <td>1</td>\n      <td>2</td>\n      <td>2</td>\n      <td>21876</td>\n    </tr>\n  </tbody>\n</table>\n</div>",
            "text/plain": "0 CustomerID New_Age New_Education New_Occupation New_Gender  \\\n1      18988       3             4              5          2   \n2      29135       2             4              2          1   \n3      12156       4             5              5          2   \n4      13749       2             5              2          1   \n5      27780       2             2              1          2   \n\n0 New_MaritalStatus HomeOwnerFlag NumberCarsOwned NumberChildrenAtHome  \\\n1                 2             0               2                    0   \n2                 1             1               2                    2   \n3                 1             1               2                    0   \n4                 1             1               0                    0   \n5                 1             1               1                    2   \n\n0 TotalChildren YearlyIncome  \n1             5        86931  \n2             4       100125  \n3             4       103985  \n4             4       127161  \n5             2        21876  "
          },
          "metadata": {}
        }
      ]
    },
    {
      "metadata": {
        "trusted": true
      },
      "cell_type": "code",
      "source": "# Check for duplicate rows\n\nprint(AW_test.shape)\nprint(AW_test.CustomerID.unique().shape)",
      "execution_count": 97,
      "outputs": [
        {
          "output_type": "stream",
          "text": "(500, 11)\n(500,)\n",
          "name": "stdout"
        }
      ]
    },
    {
      "metadata": {
        "trusted": true
      },
      "cell_type": "code",
      "source": "# Remove Duplicate Rows by keeping the first set of CustomerID column\n\nprint('Before Removing Duplicate Rows') \nprint(AW_test.shape)\nAW_test.drop_duplicates(subset = 'CustomerID', keep = 'first', inplace = True)\nprint('After Removing Duplicate Rows')\nprint(AW_test.shape)\nprint(AW_test.CustomerID.unique().shape)",
      "execution_count": 98,
      "outputs": [
        {
          "output_type": "stream",
          "text": "Before Removing Duplicate Rows\n(500, 11)\nAfter Removing Duplicate Rows\n(500, 11)\n(500,)\n",
          "name": "stdout"
        }
      ]
    },
    {
      "metadata": {
        "trusted": true
      },
      "cell_type": "code",
      "source": "# Check for Missing Data\nAW_test.isnull().sum()",
      "execution_count": 99,
      "outputs": [
        {
          "output_type": "execute_result",
          "execution_count": 99,
          "data": {
            "text/plain": "0\nCustomerID              0\nNew_Age                 0\nNew_Education           0\nNew_Occupation          0\nNew_Gender              0\nNew_MaritalStatus       0\nHomeOwnerFlag           0\nNumberCarsOwned         0\nNumberChildrenAtHome    0\nTotalChildren           0\nYearlyIncome            0\ndtype: int64"
          },
          "metadata": {}
        }
      ]
    },
    {
      "metadata": {
        "trusted": true
      },
      "cell_type": "code",
      "source": "# Save AW_testModel No Duplicates to the DataSet for AzureML Studio 2\nAW_test.to_csv('AW_test.csv', index=False)",
      "execution_count": null,
      "outputs": []
    },
    {
      "metadata": {
        "trusted": true
      },
      "cell_type": "code",
      "source": "# Drop Columns not needed\n\nAW_test = AW_test.drop(['CustomerID'], axis=1)\nAW_test.head()",
      "execution_count": 100,
      "outputs": [
        {
          "output_type": "execute_result",
          "execution_count": 100,
          "data": {
            "text/html": "<div>\n<style scoped>\n    .dataframe tbody tr th:only-of-type {\n        vertical-align: middle;\n    }\n\n    .dataframe tbody tr th {\n        vertical-align: top;\n    }\n\n    .dataframe thead th {\n        text-align: right;\n    }\n</style>\n<table border=\"1\" class=\"dataframe\">\n  <thead>\n    <tr style=\"text-align: right;\">\n      <th></th>\n      <th>New_Age</th>\n      <th>New_Education</th>\n      <th>New_Occupation</th>\n      <th>New_Gender</th>\n      <th>New_MaritalStatus</th>\n      <th>HomeOwnerFlag</th>\n      <th>NumberCarsOwned</th>\n      <th>NumberChildrenAtHome</th>\n      <th>TotalChildren</th>\n      <th>YearlyIncome</th>\n    </tr>\n  </thead>\n  <tbody>\n    <tr>\n      <th>1</th>\n      <td>3</td>\n      <td>4</td>\n      <td>5</td>\n      <td>2</td>\n      <td>2</td>\n      <td>0</td>\n      <td>2</td>\n      <td>0</td>\n      <td>5</td>\n      <td>86931</td>\n    </tr>\n    <tr>\n      <th>2</th>\n      <td>2</td>\n      <td>4</td>\n      <td>2</td>\n      <td>1</td>\n      <td>1</td>\n      <td>1</td>\n      <td>2</td>\n      <td>2</td>\n      <td>4</td>\n      <td>100125</td>\n    </tr>\n    <tr>\n      <th>3</th>\n      <td>4</td>\n      <td>5</td>\n      <td>5</td>\n      <td>2</td>\n      <td>1</td>\n      <td>1</td>\n      <td>2</td>\n      <td>0</td>\n      <td>4</td>\n      <td>103985</td>\n    </tr>\n    <tr>\n      <th>4</th>\n      <td>2</td>\n      <td>5</td>\n      <td>2</td>\n      <td>1</td>\n      <td>1</td>\n      <td>1</td>\n      <td>0</td>\n      <td>0</td>\n      <td>4</td>\n      <td>127161</td>\n    </tr>\n    <tr>\n      <th>5</th>\n      <td>2</td>\n      <td>2</td>\n      <td>1</td>\n      <td>2</td>\n      <td>1</td>\n      <td>1</td>\n      <td>1</td>\n      <td>2</td>\n      <td>2</td>\n      <td>21876</td>\n    </tr>\n  </tbody>\n</table>\n</div>",
            "text/plain": "0 New_Age New_Education New_Occupation New_Gender New_MaritalStatus  \\\n1       3             4              5          2                 2   \n2       2             4              2          1                 1   \n3       4             5              5          2                 1   \n4       2             5              2          1                 1   \n5       2             2              1          2                 1   \n\n0 HomeOwnerFlag NumberCarsOwned NumberChildrenAtHome TotalChildren  \\\n1             0               2                    0             5   \n2             1               2                    2             4   \n3             1               2                    0             4   \n4             1               0                    0             4   \n5             1               1                    2             2   \n\n0 YearlyIncome  \n1        86931  \n2       100125  \n3       103985  \n4       127161  \n5        21876  "
          },
          "metadata": {}
        }
      ]
    },
    {
      "metadata": {
        "trusted": true
      },
      "cell_type": "code",
      "source": "##  @@@ Selecting the New x variables\n\nnew_x = AW_test.iloc[:, [0, 1, 2, 3, 4, 5, 6, 7, 8, 9]].values\n\nprint(new_x)",
      "execution_count": 102,
      "outputs": [
        {
          "output_type": "stream",
          "text": "[['3' '4' '5' ... '0' '5' '86931']\n ['2' '4' '2' ... '2' '4' '100125']\n ['4' '5' '5' ... '0' '4' '103985']\n ...\n ['4' '4' '5' ... '3' '3' '138097']\n ['3' '3' '4' ... '0' '2' '101465']\n ['3' '2' '2' ... '0' '4' '19108']]\n",
          "name": "stdout"
        }
      ]
    },
    {
      "metadata": {
        "trusted": true
      },
      "cell_type": "code",
      "source": "\n# Predicting the Test set results of Unseen DataSet\nnew_predicty = logistic_mod.predict(new_x)\n\n# Print Predicted Values\nprint(new_predicty)",
      "execution_count": 103,
      "outputs": [
        {
          "output_type": "stream",
          "text": "['1' '1' '1' '1' '1' '1' '1' '1' '1' '1' '1' '1' '1' '1' '1' '1' '1' '1'\n '1' '1' '1' '1' '1' '1' '1' '1' '1' '1' '1' '1' '1' '1' '1' '1' '1' '1'\n '1' '1' '1' '1' '1' '1' '1' '1' '1' '1' '1' '1' '1' '1' '1' '1' '1' '1'\n '1' '1' '1' '1' '1' '1' '1' '1' '1' '1' '1' '1' '1' '1' '1' '1' '1' '1'\n '1' '1' '1' '1' '1' '1' '1' '1' '1' '1' '1' '1' '1' '1' '1' '1' '1' '1'\n '1' '1' '1' '1' '1' '1' '1' '1' '1' '1' '1' '1' '1' '1' '1' '1' '1' '1'\n '1' '1' '1' '1' '1' '1' '1' '1' '1' '1' '1' '1' '1' '1' '1' '1' '1' '1'\n '1' '1' '1' '1' '1' '1' '1' '1' '1' '1' '1' '1' '1' '1' '1' '1' '1' '1'\n '1' '1' '1' '1' '1' '1' '1' '1' '1' '1' '1' '1' '1' '1' '1' '1' '1' '1'\n '1' '1' '1' '1' '1' '1' '1' '1' '1' '1' '1' '1' '1' '1' '1' '1' '1' '1'\n '1' '1' '1' '1' '1' '1' '1' '1' '1' '1' '1' '1' '1' '1' '1' '1' '1' '1'\n '1' '1' '1' '1' '1' '1' '1' '1' '1' '1' '1' '1' '1' '1' '1' '1' '1' '1'\n '1' '1' '1' '1' '1' '1' '1' '1' '1' '1' '1' '1' '1' '1' '1' '1' '1' '1'\n '1' '1' '1' '1' '1' '1' '1' '1' '1' '1' '1' '1' '1' '1' '1' '1' '1' '1'\n '1' '1' '1' '1' '1' '1' '1' '1' '1' '1' '1' '1' '1' '1' '1' '1' '1' '1'\n '1' '1' '1' '1' '1' '1' '1' '1' '1' '1' '1' '1' '1' '1' '1' '1' '1' '1'\n '1' '1' '1' '1' '1' '1' '1' '1' '1' '1' '1' '1' '1' '1' '1' '1' '1' '1'\n '1' '1' '1' '1' '1' '1' '1' '1' '1' '1' '1' '1' '1' '1' '1' '1' '1' '1'\n '1' '1' '1' '1' '1' '1' '1' '1' '1' '1' '1' '1' '1' '1' '1' '1' '1' '1'\n '1' '1' '1' '1' '1' '1' '1' '1' '1' '1' '1' '1' '1' '1' '1' '1' '1' '1'\n '1' '1' '1' '1' '1' '1' '1' '1' '1' '1' '1' '1' '1' '1' '1' '1' '1' '1'\n '1' '1' '1' '1' '1' '1' '1' '1' '1' '1' '1' '1' '1' '1' '1' '1' '1' '1'\n '1' '1' '1' '1' '1' '1' '1' '1' '1' '1' '1' '1' '1' '1' '1' '1' '1' '1'\n '1' '1' '1' '1' '1' '1' '1' '1' '1' '1' '1' '1' '1' '1' '1' '1' '1' '1'\n '1' '1' '1' '1' '1' '1' '1' '1' '1' '1' '1' '1' '1' '1' '1' '1' '1' '1'\n '1' '1' '1' '1' '1' '1' '1' '1' '1' '1' '1' '1' '1' '1' '1' '1' '1' '1'\n '1' '1' '1' '1' '1' '1' '1' '1' '1' '1' '1' '1' '1' '1' '1' '1' '1' '1'\n '1' '1' '1' '1' '1' '1' '1' '1' '1' '1' '1' '1' '1' '1']\n",
          "name": "stdout"
        }
      ]
    },
    {
      "metadata": {
        "trusted": true
      },
      "cell_type": "code",
      "source": "# Export New Unseen Dataset Predictions\nnew_prediction = pd.DataFrame(new_predicty, columns=['new_predicty']).to_csv('new_predicty.csv')",
      "execution_count": 104,
      "outputs": []
    },
    {
      "metadata": {
        "trusted": true
      },
      "cell_type": "code",
      "source": "",
      "execution_count": null,
      "outputs": []
    }
  ],
  "metadata": {
    "kernelspec": {
      "name": "python36",
      "display_name": "Python 3.6",
      "language": "python"
    },
    "language_info": {
      "mimetype": "text/x-python",
      "nbconvert_exporter": "python",
      "name": "python",
      "pygments_lexer": "ipython3",
      "version": "3.6.6",
      "file_extension": ".py",
      "codemirror_mode": {
        "version": 3,
        "name": "ipython"
      }
    }
  },
  "nbformat": 4,
  "nbformat_minor": 2
}