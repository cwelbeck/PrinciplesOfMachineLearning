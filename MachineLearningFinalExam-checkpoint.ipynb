{
  "cells": [
    {
      "metadata": {
        "trusted": true
      },
      "cell_type": "code",
      "source": "# Import the Dataset\n\nimport pandas as pd\nimport matplotlib.pyplot as plt\nimport seaborn as sns\nimport numpy as np\nimport numpy.random as nr\nimport math\n\n%matplotlib inline",
      "execution_count": 2,
      "outputs": []
    },
    {
      "metadata": {
        "trusted": true
      },
      "cell_type": "code",
      "source": "# Load the Dataset\nAdvWorksCusts = pd.read_csv('MachineLearningFinalExam3.csv', header=None)",
      "execution_count": 3,
      "outputs": []
    },
    {
      "metadata": {
        "trusted": true
      },
      "cell_type": "code",
      "source": "AdvWorksCusts.head()",
      "execution_count": 4,
      "outputs": [
        {
          "output_type": "execute_result",
          "execution_count": 4,
          "data": {
            "text/html": "<div>\n<style scoped>\n    .dataframe tbody tr th:only-of-type {\n        vertical-align: middle;\n    }\n\n    .dataframe tbody tr th {\n        vertical-align: top;\n    }\n\n    .dataframe thead th {\n        text-align: right;\n    }\n</style>\n<table border=\"1\" class=\"dataframe\">\n  <thead>\n    <tr style=\"text-align: right;\">\n      <th></th>\n      <th>0</th>\n      <th>1</th>\n      <th>2</th>\n      <th>3</th>\n      <th>4</th>\n      <th>5</th>\n      <th>6</th>\n      <th>7</th>\n      <th>8</th>\n      <th>9</th>\n      <th>10</th>\n      <th>11</th>\n      <th>12</th>\n    </tr>\n  </thead>\n  <tbody>\n    <tr>\n      <th>0</th>\n      <td>CustomerID</td>\n      <td>New_Age</td>\n      <td>New_Education</td>\n      <td>New_Occupation</td>\n      <td>New_Gender</td>\n      <td>New_MaritalStatus</td>\n      <td>HomeOwnerFlag</td>\n      <td>NumberCarsOwned</td>\n      <td>NumberChildrenAtHome</td>\n      <td>TotalChildren</td>\n      <td>YearlyIncome</td>\n      <td>AveMonthSpend</td>\n      <td>BikeBuyer</td>\n    </tr>\n    <tr>\n      <th>1</th>\n      <td>11000</td>\n      <td>4</td>\n      <td>4</td>\n      <td>4</td>\n      <td>1</td>\n      <td>1</td>\n      <td>1</td>\n      <td>0</td>\n      <td>0</td>\n      <td>2</td>\n      <td>137947</td>\n      <td>89</td>\n      <td>0</td>\n    </tr>\n    <tr>\n      <th>2</th>\n      <td>11001</td>\n      <td>4</td>\n      <td>4</td>\n      <td>4</td>\n      <td>1</td>\n      <td>2</td>\n      <td>0</td>\n      <td>1</td>\n      <td>3</td>\n      <td>3</td>\n      <td>101141</td>\n      <td>117</td>\n      <td>1</td>\n    </tr>\n    <tr>\n      <th>3</th>\n      <td>11002</td>\n      <td>4</td>\n      <td>4</td>\n      <td>4</td>\n      <td>1</td>\n      <td>1</td>\n      <td>1</td>\n      <td>1</td>\n      <td>3</td>\n      <td>3</td>\n      <td>91945</td>\n      <td>123</td>\n      <td>0</td>\n    </tr>\n    <tr>\n      <th>4</th>\n      <td>11003</td>\n      <td>4</td>\n      <td>4</td>\n      <td>4</td>\n      <td>2</td>\n      <td>2</td>\n      <td>0</td>\n      <td>1</td>\n      <td>0</td>\n      <td>0</td>\n      <td>86688</td>\n      <td>50</td>\n      <td>0</td>\n    </tr>\n  </tbody>\n</table>\n</div>",
            "text/plain": "           0        1              2               3           4   \\\n0  CustomerID  New_Age  New_Education  New_Occupation  New_Gender   \n1       11000        4              4               4           1   \n2       11001        4              4               4           1   \n3       11002        4              4               4           1   \n4       11003        4              4               4           2   \n\n                  5              6                7                     8   \\\n0  New_MaritalStatus  HomeOwnerFlag  NumberCarsOwned  NumberChildrenAtHome   \n1                  1              1                0                     0   \n2                  2              0                1                     3   \n3                  1              1                1                     3   \n4                  2              0                1                     0   \n\n              9             10             11         12  \n0  TotalChildren  YearlyIncome  AveMonthSpend  BikeBuyer  \n1              2        137947             89          0  \n2              3        101141            117          1  \n3              3         91945            123          0  \n4              0         86688             50          0  "
          },
          "metadata": {}
        }
      ]
    },
    {
      "metadata": {
        "trusted": true
      },
      "cell_type": "code",
      "source": "# Make first row the header\n\nnew_header = AdvWorksCusts.iloc[0] #grab the first row for the header\nAdvWorksCusts = AdvWorksCusts[1:] #take the data less the header row\nAdvWorksCusts.columns = new_header #set the header row as the df header\n",
      "execution_count": 5,
      "outputs": []
    },
    {
      "metadata": {
        "trusted": true
      },
      "cell_type": "code",
      "source": "AdvWorksCusts.head()",
      "execution_count": 6,
      "outputs": [
        {
          "output_type": "execute_result",
          "execution_count": 6,
          "data": {
            "text/html": "<div>\n<style scoped>\n    .dataframe tbody tr th:only-of-type {\n        vertical-align: middle;\n    }\n\n    .dataframe tbody tr th {\n        vertical-align: top;\n    }\n\n    .dataframe thead th {\n        text-align: right;\n    }\n</style>\n<table border=\"1\" class=\"dataframe\">\n  <thead>\n    <tr style=\"text-align: right;\">\n      <th></th>\n      <th>CustomerID</th>\n      <th>New_Age</th>\n      <th>New_Education</th>\n      <th>New_Occupation</th>\n      <th>New_Gender</th>\n      <th>New_MaritalStatus</th>\n      <th>HomeOwnerFlag</th>\n      <th>NumberCarsOwned</th>\n      <th>NumberChildrenAtHome</th>\n      <th>TotalChildren</th>\n      <th>YearlyIncome</th>\n      <th>AveMonthSpend</th>\n      <th>BikeBuyer</th>\n    </tr>\n  </thead>\n  <tbody>\n    <tr>\n      <th>1</th>\n      <td>11000</td>\n      <td>4</td>\n      <td>4</td>\n      <td>4</td>\n      <td>1</td>\n      <td>1</td>\n      <td>1</td>\n      <td>0</td>\n      <td>0</td>\n      <td>2</td>\n      <td>137947</td>\n      <td>89</td>\n      <td>0</td>\n    </tr>\n    <tr>\n      <th>2</th>\n      <td>11001</td>\n      <td>4</td>\n      <td>4</td>\n      <td>4</td>\n      <td>1</td>\n      <td>2</td>\n      <td>0</td>\n      <td>1</td>\n      <td>3</td>\n      <td>3</td>\n      <td>101141</td>\n      <td>117</td>\n      <td>1</td>\n    </tr>\n    <tr>\n      <th>3</th>\n      <td>11002</td>\n      <td>4</td>\n      <td>4</td>\n      <td>4</td>\n      <td>1</td>\n      <td>1</td>\n      <td>1</td>\n      <td>1</td>\n      <td>3</td>\n      <td>3</td>\n      <td>91945</td>\n      <td>123</td>\n      <td>0</td>\n    </tr>\n    <tr>\n      <th>4</th>\n      <td>11003</td>\n      <td>4</td>\n      <td>4</td>\n      <td>4</td>\n      <td>2</td>\n      <td>2</td>\n      <td>0</td>\n      <td>1</td>\n      <td>0</td>\n      <td>0</td>\n      <td>86688</td>\n      <td>50</td>\n      <td>0</td>\n    </tr>\n    <tr>\n      <th>5</th>\n      <td>11004</td>\n      <td>4</td>\n      <td>4</td>\n      <td>4</td>\n      <td>2</td>\n      <td>2</td>\n      <td>1</td>\n      <td>4</td>\n      <td>5</td>\n      <td>5</td>\n      <td>92771</td>\n      <td>95</td>\n      <td>1</td>\n    </tr>\n  </tbody>\n</table>\n</div>",
            "text/plain": "0 CustomerID New_Age New_Education New_Occupation New_Gender  \\\n1      11000       4             4              4          1   \n2      11001       4             4              4          1   \n3      11002       4             4              4          1   \n4      11003       4             4              4          2   \n5      11004       4             4              4          2   \n\n0 New_MaritalStatus HomeOwnerFlag NumberCarsOwned NumberChildrenAtHome  \\\n1                 1             1               0                    0   \n2                 2             0               1                    3   \n3                 1             1               1                    3   \n4                 2             0               1                    0   \n5                 2             1               4                    5   \n\n0 TotalChildren YearlyIncome AveMonthSpend BikeBuyer  \n1             2       137947            89         0  \n2             3       101141           117         1  \n3             3        91945           123         0  \n4             0        86688            50         0  \n5             5        92771            95         1  "
          },
          "metadata": {}
        }
      ]
    },
    {
      "metadata": {
        "trusted": true
      },
      "cell_type": "code",
      "source": "# Check Datatypes for each Column\nAdvWorksCusts.dtypes",
      "execution_count": 53,
      "outputs": [
        {
          "output_type": "execute_result",
          "execution_count": 53,
          "data": {
            "text/plain": "0\nCustomerID              object\nNew_Age                 object\nNew_Education           object\nNew_Occupation          object\nNew_Gender              object\nNew_MaritalStatus       object\nHomeOwnerFlag           object\nNumberCarsOwned         object\nNumberChildrenAtHome    object\nTotalChildren           object\nYearlyIncome            object\nAveMonthSpend           object\nBikeBuyer               object\ndtype: object"
          },
          "metadata": {}
        }
      ]
    },
    {
      "metadata": {
        "trusted": true
      },
      "cell_type": "code",
      "source": "# Check for duplicate rows\n\nprint(AdvWorksCusts.shape)\nprint(AdvWorksCusts.CustomerID.unique().shape)",
      "execution_count": 7,
      "outputs": [
        {
          "output_type": "stream",
          "text": "(16519, 13)\n(16404,)\n",
          "name": "stdout"
        }
      ]
    },
    {
      "metadata": {
        "trusted": true
      },
      "cell_type": "code",
      "source": "# Remove Duplicate Rows by keeping the first set of CustomerID column\n\nprint('Before Removing Duplicate Rows') \nprint(AdvWorksCusts.shape)\nAdvWorksCusts.drop_duplicates(subset = 'CustomerID', keep = 'first', inplace = True)\nprint('After Removing Duplicate Rows')\nprint(AdvWorksCusts.shape)\nprint(AdvWorksCusts.CustomerID.unique().shape)",
      "execution_count": 8,
      "outputs": [
        {
          "output_type": "stream",
          "text": "Before Removing Duplicate Rows\n(16519, 13)\nAfter Removing Duplicate Rows\n(16404, 13)\n(16404,)\n",
          "name": "stdout"
        }
      ]
    },
    {
      "metadata": {
        "trusted": true
      },
      "cell_type": "code",
      "source": "# Check for Missing Data\nAdvWorksCusts.isnull().sum()",
      "execution_count": 88,
      "outputs": [
        {
          "output_type": "execute_result",
          "execution_count": 88,
          "data": {
            "text/plain": "0\nCustomerID              0\nNew_Age                 0\nNew_Education           0\nNew_Occupation          0\nNew_Gender              0\nNew_MaritalStatus       0\nHomeOwnerFlag           0\nNumberCarsOwned         0\nNumberChildrenAtHome    0\nTotalChildren           0\nYearlyIncome            0\nAveMonthSpend           0\nBikeBuyer               0\ndtype: int64"
          },
          "metadata": {}
        }
      ]
    },
    {
      "metadata": {
        "trusted": true
      },
      "cell_type": "code",
      "source": "# Convert Columns to Numeric / Integer, Float etc...\n\n\n# Convert One Column to Numeric / Integer\n# AdvWorksCusts['CustomerID'] = AdvWorksCusts['CustomerID'].astype(int)\n\n\n\n# Convert Columns to Numeric / Integer\n\ncols = ['CustomerID', 'New_Age', 'New_Education', 'New_Occupation', 'New_Gender', 'New_MaritalStatus', 'HomeOwnerFlag', 'NumberCarsOwned', 'NumberChildrenAtHome',\n          'TotalChildren']\n\nfor column in cols:\n    AdvWorksCusts[column] = pd.to_numeric(AdvWorksCusts[column])\nAdvWorksCusts[cols].dtypes\n",
      "execution_count": 38,
      "outputs": [
        {
          "output_type": "execute_result",
          "execution_count": 38,
          "data": {
            "text/plain": "0\nCustomerID              int64\nNew_Age                 int64\nNew_Education           int64\nNew_Occupation          int64\nNew_Gender              int64\nNew_MaritalStatus       int64\nHomeOwnerFlag           int64\nNumberCarsOwned         int64\nNumberChildrenAtHome    int64\nTotalChildren           int64\ndtype: object"
          },
          "metadata": {}
        }
      ]
    },
    {
      "metadata": {
        "trusted": true
      },
      "cell_type": "code",
      "source": "# Check Datatypes for each Column\nAdvWorksCusts.dtypes",
      "execution_count": 39,
      "outputs": [
        {
          "output_type": "execute_result",
          "execution_count": 39,
          "data": {
            "text/plain": "0\nCustomerID               int64\nNew_Age                  int64\nNew_Education            int64\nNew_Occupation           int64\nNew_Gender               int64\nNew_MaritalStatus        int64\nHomeOwnerFlag            int64\nNumberCarsOwned          int64\nNumberChildrenAtHome     int64\nTotalChildren            int64\nYearlyIncome            object\nAveMonthSpend           object\nBikeBuyer               object\ndtype: object"
          },
          "metadata": {}
        }
      ]
    },
    {
      "metadata": {
        "trusted": true
      },
      "cell_type": "code",
      "source": "# Convert Columns to Numeric / Integer and Decimal / float\n\nAdvWorksCusts['YearlyIncome'] = AdvWorksCusts['YearlyIncome'].astype(str).astype(float)\nAdvWorksCusts['AveMonthSpend'] = AdvWorksCusts['AveMonthSpend'].astype(str).astype(float)\nAdvWorksCusts['BikeBuyer'] = AdvWorksCusts['BikeBuyer'].astype(str).astype(int)",
      "execution_count": 12,
      "outputs": []
    },
    {
      "metadata": {
        "trusted": true
      },
      "cell_type": "code",
      "source": "# Check Datatypes for each Column\nAdvWorksCusts.dtypes",
      "execution_count": 13,
      "outputs": [
        {
          "output_type": "execute_result",
          "execution_count": 13,
          "data": {
            "text/plain": "0\nCustomerID                int64\nNew_Age                   int64\nNew_Education             int64\nNew_Occupation            int64\nNew_Gender                int64\nNew_MaritalStatus         int64\nHomeOwnerFlag             int64\nNumberCarsOwned           int64\nNumberChildrenAtHome      int64\nTotalChildren             int64\nYearlyIncome            float64\nAveMonthSpend           float64\nBikeBuyer                 int64\ndtype: object"
          },
          "metadata": {}
        }
      ]
    },
    {
      "metadata": {
        "trusted": true
      },
      "cell_type": "code",
      "source": "# convert the 'Date' column to datetime format \n#AdvWorksCusts['BirthDate'] = AdvWorksCusts['BirthDate'].astype('datetime64[ns]') ",
      "execution_count": 16,
      "outputs": []
    },
    {
      "metadata": {
        "trusted": true
      },
      "cell_type": "code",
      "source": "# Another Way To Convert BirthDate to datetime format\n#AdvWorksCusts['BirthDate']= pd.to_datetime(AdvWorksCusts['BirthDate'])",
      "execution_count": 18,
      "outputs": []
    },
    {
      "metadata": {
        "trusted": true
      },
      "cell_type": "code",
      "source": "# Check Datatypes for each Column\nAdvWorksCusts.dtypes",
      "execution_count": 14,
      "outputs": [
        {
          "output_type": "execute_result",
          "execution_count": 14,
          "data": {
            "text/plain": "0\nCustomerID                int64\nNew_Age                   int64\nNew_Education             int64\nNew_Occupation            int64\nNew_Gender                int64\nNew_MaritalStatus         int64\nHomeOwnerFlag             int64\nNumberCarsOwned           int64\nNumberChildrenAtHome      int64\nTotalChildren             int64\nYearlyIncome            float64\nAveMonthSpend           float64\nBikeBuyer                 int64\ndtype: object"
          },
          "metadata": {}
        }
      ]
    },
    {
      "metadata": {
        "trusted": true
      },
      "cell_type": "code",
      "source": "# ****** FINAL EXAM QUESTION 9 \nAdvWorksCusts.groupby('MaritalStatus', as_index=False)['AveMonthSpend'].median()",
      "execution_count": 73,
      "outputs": [
        {
          "output_type": "execute_result",
          "execution_count": 73,
          "data": {
            "text/html": "<div>\n<style scoped>\n    .dataframe tbody tr th:only-of-type {\n        vertical-align: middle;\n    }\n\n    .dataframe tbody tr th {\n        vertical-align: top;\n    }\n\n    .dataframe thead th {\n        text-align: right;\n    }\n</style>\n<table border=\"1\" class=\"dataframe\">\n  <thead>\n    <tr style=\"text-align: right;\">\n      <th></th>\n      <th>MaritalStatus</th>\n      <th>AveMonthSpend</th>\n    </tr>\n  </thead>\n  <tbody>\n    <tr>\n      <th>0</th>\n      <td>M</td>\n      <td>74.0</td>\n    </tr>\n    <tr>\n      <th>1</th>\n      <td>S</td>\n      <td>62.0</td>\n    </tr>\n  </tbody>\n</table>\n</div>",
            "text/plain": "0 MaritalStatus  AveMonthSpend\n0             M           74.0\n1             S           62.0"
          },
          "metadata": {}
        }
      ]
    },
    {
      "metadata": {
        "trusted": true
      },
      "cell_type": "code",
      "source": "# ****** FINAL EXAM QUESTION 9 \nAdvWorksCusts.groupby('NumberCarsOwned', as_index=False)['AveMonthSpend'].median()",
      "execution_count": 74,
      "outputs": [
        {
          "output_type": "execute_result",
          "execution_count": 74,
          "data": {
            "text/html": "<div>\n<style scoped>\n    .dataframe tbody tr th:only-of-type {\n        vertical-align: middle;\n    }\n\n    .dataframe tbody tr th {\n        vertical-align: top;\n    }\n\n    .dataframe thead th {\n        text-align: right;\n    }\n</style>\n<table border=\"1\" class=\"dataframe\">\n  <thead>\n    <tr style=\"text-align: right;\">\n      <th></th>\n      <th>NumberCarsOwned</th>\n      <th>AveMonthSpend</th>\n    </tr>\n  </thead>\n  <tbody>\n    <tr>\n      <th>0</th>\n      <td>0</td>\n      <td>65.0</td>\n    </tr>\n    <tr>\n      <th>1</th>\n      <td>1</td>\n      <td>63.0</td>\n    </tr>\n    <tr>\n      <th>2</th>\n      <td>2</td>\n      <td>64.0</td>\n    </tr>\n    <tr>\n      <th>3</th>\n      <td>3</td>\n      <td>92.0</td>\n    </tr>\n    <tr>\n      <th>4</th>\n      <td>4</td>\n      <td>100.0</td>\n    </tr>\n  </tbody>\n</table>\n</div>",
            "text/plain": "0  NumberCarsOwned  AveMonthSpend\n0                0           65.0\n1                1           63.0\n2                2           64.0\n3                3           92.0\n4                4          100.0"
          },
          "metadata": {}
        }
      ]
    },
    {
      "metadata": {
        "trusted": true
      },
      "cell_type": "code",
      "source": "# ****** FINAL EXAM QUESTION 9 \nAdvWorksCusts.groupby('Gender', as_index=False)['AveMonthSpend'].median()",
      "execution_count": 75,
      "outputs": [
        {
          "output_type": "execute_result",
          "execution_count": 75,
          "data": {
            "text/html": "<div>\n<style scoped>\n    .dataframe tbody tr th:only-of-type {\n        vertical-align: middle;\n    }\n\n    .dataframe tbody tr th {\n        vertical-align: top;\n    }\n\n    .dataframe thead th {\n        text-align: right;\n    }\n</style>\n<table border=\"1\" class=\"dataframe\">\n  <thead>\n    <tr style=\"text-align: right;\">\n      <th></th>\n      <th>Gender</th>\n      <th>AveMonthSpend</th>\n    </tr>\n  </thead>\n  <tbody>\n    <tr>\n      <th>0</th>\n      <td>F</td>\n      <td>52.0</td>\n    </tr>\n    <tr>\n      <th>1</th>\n      <td>M</td>\n      <td>79.0</td>\n    </tr>\n  </tbody>\n</table>\n</div>",
            "text/plain": "0 Gender  AveMonthSpend\n0      F           52.0\n1      M           79.0"
          },
          "metadata": {}
        }
      ]
    },
    {
      "metadata": {
        "trusted": true
      },
      "cell_type": "code",
      "source": "# ****** FINAL EXAM QUESTION 9 \nAdvWorksCusts.groupby('NumberChildrenAtHome', as_index=False)['AveMonthSpend'].median()",
      "execution_count": 76,
      "outputs": [
        {
          "output_type": "execute_result",
          "execution_count": 76,
          "data": {
            "text/html": "<div>\n<style scoped>\n    .dataframe tbody tr th:only-of-type {\n        vertical-align: middle;\n    }\n\n    .dataframe tbody tr th {\n        vertical-align: top;\n    }\n\n    .dataframe thead th {\n        text-align: right;\n    }\n</style>\n<table border=\"1\" class=\"dataframe\">\n  <thead>\n    <tr style=\"text-align: right;\">\n      <th></th>\n      <th>NumberChildrenAtHome</th>\n      <th>AveMonthSpend</th>\n    </tr>\n  </thead>\n  <tbody>\n    <tr>\n      <th>0</th>\n      <td>0</td>\n      <td>57.0</td>\n    </tr>\n    <tr>\n      <th>1</th>\n      <td>1</td>\n      <td>68.0</td>\n    </tr>\n    <tr>\n      <th>2</th>\n      <td>2</td>\n      <td>79.0</td>\n    </tr>\n    <tr>\n      <th>3</th>\n      <td>3</td>\n      <td>90.0</td>\n    </tr>\n    <tr>\n      <th>4</th>\n      <td>4</td>\n      <td>101.0</td>\n    </tr>\n    <tr>\n      <th>5</th>\n      <td>5</td>\n      <td>110.0</td>\n    </tr>\n  </tbody>\n</table>\n</div>",
            "text/plain": "0  NumberChildrenAtHome  AveMonthSpend\n0                     0           57.0\n1                     1           68.0\n2                     2           79.0\n3                     3           90.0\n4                     4          101.0\n5                     5          110.0"
          },
          "metadata": {}
        }
      ]
    },
    {
      "metadata": {
        "trusted": true
      },
      "cell_type": "code",
      "source": "# ****** FINAL EXAM QUESTION 10\nAdvWorksCusts.groupby('BikeBuyer', as_index=False)['YearlyIncome'].median()",
      "execution_count": 77,
      "outputs": [
        {
          "output_type": "execute_result",
          "execution_count": 77,
          "data": {
            "text/html": "<div>\n<style scoped>\n    .dataframe tbody tr th:only-of-type {\n        vertical-align: middle;\n    }\n\n    .dataframe tbody tr th {\n        vertical-align: top;\n    }\n\n    .dataframe thead th {\n        text-align: right;\n    }\n</style>\n<table border=\"1\" class=\"dataframe\">\n  <thead>\n    <tr style=\"text-align: right;\">\n      <th></th>\n      <th>BikeBuyer</th>\n      <th>YearlyIncome</th>\n    </tr>\n  </thead>\n  <tbody>\n    <tr>\n      <th>0</th>\n      <td>0</td>\n      <td>65954.0</td>\n    </tr>\n    <tr>\n      <th>1</th>\n      <td>1</td>\n      <td>96084.0</td>\n    </tr>\n  </tbody>\n</table>\n</div>",
            "text/plain": "0  BikeBuyer  YearlyIncome\n0          0       65954.0\n1          1       96084.0"
          },
          "metadata": {}
        }
      ]
    },
    {
      "metadata": {
        "trusted": true
      },
      "cell_type": "code",
      "source": "# ****** FINAL EXAM QUESTION 10\nAdvWorksCusts.groupby('BikeBuyer', as_index=False)['NumberCarsOwned'].median()",
      "execution_count": 78,
      "outputs": [
        {
          "output_type": "execute_result",
          "execution_count": 78,
          "data": {
            "text/html": "<div>\n<style scoped>\n    .dataframe tbody tr th:only-of-type {\n        vertical-align: middle;\n    }\n\n    .dataframe tbody tr th {\n        vertical-align: top;\n    }\n\n    .dataframe thead th {\n        text-align: right;\n    }\n</style>\n<table border=\"1\" class=\"dataframe\">\n  <thead>\n    <tr style=\"text-align: right;\">\n      <th></th>\n      <th>BikeBuyer</th>\n      <th>NumberCarsOwned</th>\n    </tr>\n  </thead>\n  <tbody>\n    <tr>\n      <th>0</th>\n      <td>0</td>\n      <td>1</td>\n    </tr>\n    <tr>\n      <th>1</th>\n      <td>1</td>\n      <td>2</td>\n    </tr>\n  </tbody>\n</table>\n</div>",
            "text/plain": "0  BikeBuyer  NumberCarsOwned\n0          0                1\n1          1                2"
          },
          "metadata": {}
        }
      ]
    },
    {
      "metadata": {
        "trusted": true
      },
      "cell_type": "code",
      "source": "# ****** FINAL EXAM QUESTION 10\nAdvWorksCusts.groupby('Occupation', as_index=False)['BikeBuyer'].sum()",
      "execution_count": 81,
      "outputs": [
        {
          "output_type": "execute_result",
          "execution_count": 81,
          "data": {
            "text/html": "<div>\n<style scoped>\n    .dataframe tbody tr th:only-of-type {\n        vertical-align: middle;\n    }\n\n    .dataframe tbody tr th {\n        vertical-align: top;\n    }\n\n    .dataframe thead th {\n        text-align: right;\n    }\n</style>\n<table border=\"1\" class=\"dataframe\">\n  <thead>\n    <tr style=\"text-align: right;\">\n      <th></th>\n      <th>Occupation</th>\n      <th>BikeBuyer</th>\n    </tr>\n  </thead>\n  <tbody>\n    <tr>\n      <th>0</th>\n      <td>Clerical</td>\n      <td>616</td>\n    </tr>\n    <tr>\n      <th>1</th>\n      <td>Management</td>\n      <td>1016</td>\n    </tr>\n    <tr>\n      <th>2</th>\n      <td>Manual</td>\n      <td>504</td>\n    </tr>\n    <tr>\n      <th>3</th>\n      <td>Professional</td>\n      <td>2182</td>\n    </tr>\n    <tr>\n      <th>4</th>\n      <td>Skilled Manual</td>\n      <td>1133</td>\n    </tr>\n  </tbody>\n</table>\n</div>",
            "text/plain": "0      Occupation  BikeBuyer\n0        Clerical        616\n1      Management       1016\n2          Manual        504\n3    Professional       2182\n4  Skilled Manual       1133"
          },
          "metadata": {}
        }
      ]
    },
    {
      "metadata": {
        "trusted": true
      },
      "cell_type": "code",
      "source": "# ****** FINAL EXAM QUESTION 10\nAdvWorksCusts.groupby('MaritalStatus', as_index=False)['BikeBuyer'].sum()",
      "execution_count": 82,
      "outputs": [
        {
          "output_type": "execute_result",
          "execution_count": 82,
          "data": {
            "text/html": "<div>\n<style scoped>\n    .dataframe tbody tr th:only-of-type {\n        vertical-align: middle;\n    }\n\n    .dataframe tbody tr th {\n        vertical-align: top;\n    }\n\n    .dataframe thead th {\n        text-align: right;\n    }\n</style>\n<table border=\"1\" class=\"dataframe\">\n  <thead>\n    <tr style=\"text-align: right;\">\n      <th></th>\n      <th>MaritalStatus</th>\n      <th>BikeBuyer</th>\n    </tr>\n  </thead>\n  <tbody>\n    <tr>\n      <th>0</th>\n      <td>M</td>\n      <td>2196</td>\n    </tr>\n    <tr>\n      <th>1</th>\n      <td>S</td>\n      <td>3255</td>\n    </tr>\n  </tbody>\n</table>\n</div>",
            "text/plain": "0 MaritalStatus  BikeBuyer\n0             M       2196\n1             S       3255"
          },
          "metadata": {}
        }
      ]
    },
    {
      "metadata": {
        "trusted": true
      },
      "cell_type": "code",
      "source": "# ****** FINAL EXAM QUESTION 10\nAdvWorksCusts.groupby('Gender', as_index=False)['BikeBuyer'].sum()",
      "execution_count": 83,
      "outputs": [
        {
          "output_type": "execute_result",
          "execution_count": 83,
          "data": {
            "text/html": "<div>\n<style scoped>\n    .dataframe tbody tr th:only-of-type {\n        vertical-align: middle;\n    }\n\n    .dataframe tbody tr th {\n        vertical-align: top;\n    }\n\n    .dataframe thead th {\n        text-align: right;\n    }\n</style>\n<table border=\"1\" class=\"dataframe\">\n  <thead>\n    <tr style=\"text-align: right;\">\n      <th></th>\n      <th>Gender</th>\n      <th>BikeBuyer</th>\n    </tr>\n  </thead>\n  <tbody>\n    <tr>\n      <th>0</th>\n      <td>F</td>\n      <td>2232</td>\n    </tr>\n    <tr>\n      <th>1</th>\n      <td>M</td>\n      <td>3219</td>\n    </tr>\n  </tbody>\n</table>\n</div>",
            "text/plain": "0 Gender  BikeBuyer\n0      F       2232\n1      M       3219"
          },
          "metadata": {}
        }
      ]
    },
    {
      "metadata": {
        "trusted": true
      },
      "cell_type": "code",
      "source": "# ****** FINAL EXAM QUESTION 10\nAdvWorksCusts.groupby('Education', as_index=False)['BikeBuyer'].sum()",
      "execution_count": 17,
      "outputs": [
        {
          "output_type": "execute_result",
          "execution_count": 17,
          "data": {
            "text/html": "<div>\n<style scoped>\n    .dataframe tbody tr th:only-of-type {\n        vertical-align: middle;\n    }\n\n    .dataframe tbody tr th {\n        vertical-align: top;\n    }\n\n    .dataframe thead th {\n        text-align: right;\n    }\n</style>\n<table border=\"1\" class=\"dataframe\">\n  <thead>\n    <tr style=\"text-align: right;\">\n      <th></th>\n      <th>Education</th>\n      <th>BikeBuyer</th>\n    </tr>\n  </thead>\n  <tbody>\n    <tr>\n      <th>0</th>\n      <td>Bachelors</td>\n      <td>1871</td>\n    </tr>\n    <tr>\n      <th>1</th>\n      <td>Graduate Degree</td>\n      <td>855</td>\n    </tr>\n    <tr>\n      <th>2</th>\n      <td>High School</td>\n      <td>895</td>\n    </tr>\n    <tr>\n      <th>3</th>\n      <td>Partial College</td>\n      <td>1505</td>\n    </tr>\n    <tr>\n      <th>4</th>\n      <td>Partial High School</td>\n      <td>325</td>\n    </tr>\n  </tbody>\n</table>\n</div>",
            "text/plain": "0            Education  BikeBuyer\n0           Bachelors        1871\n1      Graduate Degree        855\n2          High School        895\n3      Partial College       1505\n4  Partial High School        325"
          },
          "metadata": {}
        }
      ]
    },
    {
      "metadata": {
        "trusted": true
      },
      "cell_type": "code",
      "source": "# ****** FINAL EXAM QUESTION 10\nAdvWorksCusts.groupby('BirthDateAge', as_index=False)['BikeBuyer'].sum()",
      "execution_count": 18,
      "outputs": [
        {
          "output_type": "execute_result",
          "execution_count": 18,
          "data": {
            "text/html": "<div>\n<style scoped>\n    .dataframe tbody tr th:only-of-type {\n        vertical-align: middle;\n    }\n\n    .dataframe tbody tr th {\n        vertical-align: top;\n    }\n\n    .dataframe thead th {\n        text-align: right;\n    }\n</style>\n<table border=\"1\" class=\"dataframe\">\n  <thead>\n    <tr style=\"text-align: right;\">\n      <th></th>\n      <th>BirthDateAge</th>\n      <th>BikeBuyer</th>\n    </tr>\n  </thead>\n  <tbody>\n    <tr>\n      <th>0</th>\n      <td>100</td>\n      <td>0</td>\n    </tr>\n    <tr>\n      <th>1</th>\n      <td>101</td>\n      <td>0</td>\n    </tr>\n    <tr>\n      <th>2</th>\n      <td>102</td>\n      <td>0</td>\n    </tr>\n    <tr>\n      <th>3</th>\n      <td>103</td>\n      <td>0</td>\n    </tr>\n    <tr>\n      <th>4</th>\n      <td>105</td>\n      <td>0</td>\n    </tr>\n    <tr>\n      <th>5</th>\n      <td>106</td>\n      <td>0</td>\n    </tr>\n    <tr>\n      <th>6</th>\n      <td>107</td>\n      <td>0</td>\n    </tr>\n    <tr>\n      <th>7</th>\n      <td>108</td>\n      <td>0</td>\n    </tr>\n    <tr>\n      <th>8</th>\n      <td>109</td>\n      <td>0</td>\n    </tr>\n    <tr>\n      <th>9</th>\n      <td>39</td>\n      <td>15</td>\n    </tr>\n    <tr>\n      <th>10</th>\n      <td>40</td>\n      <td>57</td>\n    </tr>\n    <tr>\n      <th>11</th>\n      <td>41</td>\n      <td>95</td>\n    </tr>\n    <tr>\n      <th>12</th>\n      <td>42</td>\n      <td>75</td>\n    </tr>\n    <tr>\n      <th>13</th>\n      <td>43</td>\n      <td>60</td>\n    </tr>\n    <tr>\n      <th>14</th>\n      <td>44</td>\n      <td>83</td>\n    </tr>\n    <tr>\n      <th>15</th>\n      <td>45</td>\n      <td>110</td>\n    </tr>\n    <tr>\n      <th>16</th>\n      <td>46</td>\n      <td>142</td>\n    </tr>\n    <tr>\n      <th>17</th>\n      <td>47</td>\n      <td>138</td>\n    </tr>\n    <tr>\n      <th>18</th>\n      <td>48</td>\n      <td>183</td>\n    </tr>\n    <tr>\n      <th>19</th>\n      <td>49</td>\n      <td>178</td>\n    </tr>\n    <tr>\n      <th>20</th>\n      <td>50</td>\n      <td>188</td>\n    </tr>\n    <tr>\n      <th>21</th>\n      <td>51</td>\n      <td>215</td>\n    </tr>\n    <tr>\n      <th>22</th>\n      <td>52</td>\n      <td>272</td>\n    </tr>\n    <tr>\n      <th>23</th>\n      <td>53</td>\n      <td>334</td>\n    </tr>\n    <tr>\n      <th>24</th>\n      <td>54</td>\n      <td>346</td>\n    </tr>\n    <tr>\n      <th>25</th>\n      <td>55</td>\n      <td>341</td>\n    </tr>\n    <tr>\n      <th>26</th>\n      <td>56</td>\n      <td>382</td>\n    </tr>\n    <tr>\n      <th>27</th>\n      <td>57</td>\n      <td>315</td>\n    </tr>\n    <tr>\n      <th>28</th>\n      <td>58</td>\n      <td>273</td>\n    </tr>\n    <tr>\n      <th>29</th>\n      <td>59</td>\n      <td>224</td>\n    </tr>\n    <tr>\n      <th>...</th>\n      <td>...</td>\n      <td>...</td>\n    </tr>\n    <tr>\n      <th>40</th>\n      <td>70</td>\n      <td>65</td>\n    </tr>\n    <tr>\n      <th>41</th>\n      <td>71</td>\n      <td>54</td>\n    </tr>\n    <tr>\n      <th>42</th>\n      <td>72</td>\n      <td>47</td>\n    </tr>\n    <tr>\n      <th>43</th>\n      <td>73</td>\n      <td>47</td>\n    </tr>\n    <tr>\n      <th>44</th>\n      <td>74</td>\n      <td>26</td>\n    </tr>\n    <tr>\n      <th>45</th>\n      <td>75</td>\n      <td>36</td>\n    </tr>\n    <tr>\n      <th>46</th>\n      <td>76</td>\n      <td>19</td>\n    </tr>\n    <tr>\n      <th>47</th>\n      <td>77</td>\n      <td>17</td>\n    </tr>\n    <tr>\n      <th>48</th>\n      <td>78</td>\n      <td>9</td>\n    </tr>\n    <tr>\n      <th>49</th>\n      <td>79</td>\n      <td>6</td>\n    </tr>\n    <tr>\n      <th>50</th>\n      <td>80</td>\n      <td>4</td>\n    </tr>\n    <tr>\n      <th>51</th>\n      <td>81</td>\n      <td>5</td>\n    </tr>\n    <tr>\n      <th>52</th>\n      <td>82</td>\n      <td>5</td>\n    </tr>\n    <tr>\n      <th>53</th>\n      <td>83</td>\n      <td>0</td>\n    </tr>\n    <tr>\n      <th>54</th>\n      <td>84</td>\n      <td>1</td>\n    </tr>\n    <tr>\n      <th>55</th>\n      <td>85</td>\n      <td>1</td>\n    </tr>\n    <tr>\n      <th>56</th>\n      <td>86</td>\n      <td>1</td>\n    </tr>\n    <tr>\n      <th>57</th>\n      <td>87</td>\n      <td>1</td>\n    </tr>\n    <tr>\n      <th>58</th>\n      <td>88</td>\n      <td>0</td>\n    </tr>\n    <tr>\n      <th>59</th>\n      <td>89</td>\n      <td>0</td>\n    </tr>\n    <tr>\n      <th>60</th>\n      <td>90</td>\n      <td>0</td>\n    </tr>\n    <tr>\n      <th>61</th>\n      <td>91</td>\n      <td>0</td>\n    </tr>\n    <tr>\n      <th>62</th>\n      <td>92</td>\n      <td>0</td>\n    </tr>\n    <tr>\n      <th>63</th>\n      <td>93</td>\n      <td>0</td>\n    </tr>\n    <tr>\n      <th>64</th>\n      <td>94</td>\n      <td>0</td>\n    </tr>\n    <tr>\n      <th>65</th>\n      <td>95</td>\n      <td>0</td>\n    </tr>\n    <tr>\n      <th>66</th>\n      <td>96</td>\n      <td>0</td>\n    </tr>\n    <tr>\n      <th>67</th>\n      <td>97</td>\n      <td>0</td>\n    </tr>\n    <tr>\n      <th>68</th>\n      <td>98</td>\n      <td>0</td>\n    </tr>\n    <tr>\n      <th>69</th>\n      <td>99</td>\n      <td>0</td>\n    </tr>\n  </tbody>\n</table>\n<p>70 rows × 2 columns</p>\n</div>",
            "text/plain": "0  BirthDateAge  BikeBuyer\n0           100          0\n1           101          0\n2           102          0\n3           103          0\n4           105          0\n5           106          0\n6           107          0\n7           108          0\n8           109          0\n9            39         15\n10           40         57\n11           41         95\n12           42         75\n13           43         60\n14           44         83\n15           45        110\n16           46        142\n17           47        138\n18           48        183\n19           49        178\n20           50        188\n21           51        215\n22           52        272\n23           53        334\n24           54        346\n25           55        341\n26           56        382\n27           57        315\n28           58        273\n29           59        224\n..          ...        ...\n40           70         65\n41           71         54\n42           72         47\n43           73         47\n44           74         26\n45           75         36\n46           76         19\n47           77         17\n48           78          9\n49           79          6\n50           80          4\n51           81          5\n52           82          5\n53           83          0\n54           84          1\n55           85          1\n56           86          1\n57           87          1\n58           88          0\n59           89          0\n60           90          0\n61           91          0\n62           92          0\n63           93          0\n64           94          0\n65           95          0\n66           96          0\n67           97          0\n68           98          0\n69           99          0\n\n[70 rows x 2 columns]"
          },
          "metadata": {}
        }
      ]
    },
    {
      "metadata": {
        "trusted": true
      },
      "cell_type": "code",
      "source": "## ********** @@@@@@ Check for Class Imbalance in the Dependent Y Variable\n## OverSample and UnderSample as Needed\n\nAdvWorksCusts['BikeBuyer'].value_counts()",
      "execution_count": 15,
      "outputs": [
        {
          "output_type": "execute_result",
          "execution_count": 15,
          "data": {
            "text/plain": "0    10953\n1     5451\nName: BikeBuyer, dtype: int64"
          },
          "metadata": {}
        }
      ]
    },
    {
      "metadata": {
        "trusted": true
      },
      "cell_type": "code",
      "source": "## ********** @@@@@@  Another way to check for Class Imbalance in the Depenedent Y Variable\ncredit_counts = credit[['credit_history', 'bad_credit']].groupby('bad_credit').count()\nprint(credit_counts)",
      "execution_count": null,
      "outputs": []
    },
    {
      "metadata": {
        "trusted": true
      },
      "cell_type": "code",
      "source": "# Drop Columns not needed\n\nAdvWorksCusts = AdvWorksCusts.drop(['AveMonthSpend', 'CustomerID'], axis=1)\nAdvWorksCusts.head()",
      "execution_count": 9,
      "outputs": [
        {
          "output_type": "execute_result",
          "execution_count": 9,
          "data": {
            "text/html": "<div>\n<style scoped>\n    .dataframe tbody tr th:only-of-type {\n        vertical-align: middle;\n    }\n\n    .dataframe tbody tr th {\n        vertical-align: top;\n    }\n\n    .dataframe thead th {\n        text-align: right;\n    }\n</style>\n<table border=\"1\" class=\"dataframe\">\n  <thead>\n    <tr style=\"text-align: right;\">\n      <th></th>\n      <th>New_Age</th>\n      <th>New_Education</th>\n      <th>New_Occupation</th>\n      <th>New_Gender</th>\n      <th>New_MaritalStatus</th>\n      <th>HomeOwnerFlag</th>\n      <th>NumberCarsOwned</th>\n      <th>NumberChildrenAtHome</th>\n      <th>TotalChildren</th>\n      <th>YearlyIncome</th>\n      <th>BikeBuyer</th>\n    </tr>\n  </thead>\n  <tbody>\n    <tr>\n      <th>1</th>\n      <td>4</td>\n      <td>4</td>\n      <td>4</td>\n      <td>1</td>\n      <td>1</td>\n      <td>1</td>\n      <td>0</td>\n      <td>0</td>\n      <td>2</td>\n      <td>137947</td>\n      <td>0</td>\n    </tr>\n    <tr>\n      <th>2</th>\n      <td>4</td>\n      <td>4</td>\n      <td>4</td>\n      <td>1</td>\n      <td>2</td>\n      <td>0</td>\n      <td>1</td>\n      <td>3</td>\n      <td>3</td>\n      <td>101141</td>\n      <td>1</td>\n    </tr>\n    <tr>\n      <th>3</th>\n      <td>4</td>\n      <td>4</td>\n      <td>4</td>\n      <td>1</td>\n      <td>1</td>\n      <td>1</td>\n      <td>1</td>\n      <td>3</td>\n      <td>3</td>\n      <td>91945</td>\n      <td>0</td>\n    </tr>\n    <tr>\n      <th>4</th>\n      <td>4</td>\n      <td>4</td>\n      <td>4</td>\n      <td>2</td>\n      <td>2</td>\n      <td>0</td>\n      <td>1</td>\n      <td>0</td>\n      <td>0</td>\n      <td>86688</td>\n      <td>0</td>\n    </tr>\n    <tr>\n      <th>5</th>\n      <td>4</td>\n      <td>4</td>\n      <td>4</td>\n      <td>2</td>\n      <td>2</td>\n      <td>1</td>\n      <td>4</td>\n      <td>5</td>\n      <td>5</td>\n      <td>92771</td>\n      <td>1</td>\n    </tr>\n  </tbody>\n</table>\n</div>",
            "text/plain": "0 New_Age New_Education New_Occupation New_Gender New_MaritalStatus  \\\n1       4             4              4          1                 1   \n2       4             4              4          1                 2   \n3       4             4              4          1                 1   \n4       4             4              4          2                 2   \n5       4             4              4          2                 2   \n\n0 HomeOwnerFlag NumberCarsOwned NumberChildrenAtHome TotalChildren  \\\n1             1               0                    0             2   \n2             0               1                    3             3   \n3             1               1                    3             3   \n4             0               1                    0             0   \n5             1               4                    5             5   \n\n0 YearlyIncome BikeBuyer  \n1       137947         0  \n2       101141         1  \n3        91945         0  \n4        86688         0  \n5        92771         1  "
          },
          "metadata": {}
        }
      ]
    },
    {
      "metadata": {
        "trusted": true
      },
      "cell_type": "code",
      "source": "# Visualize YearlyIncome\ndef hist_plot(vals, lab):\n    ## Distribution plot of values\n    sns.distplot(vals)\n    plt.title('Histogram of ' + lab)\n    plt.xlabel('Value')\n    plt.ylabel('Density')\n    \nhist_plot(AdvWorksCusts['YearlyIncome'], 'YearlyIncome')\n",
      "execution_count": 23,
      "outputs": [
        {
          "output_type": "stream",
          "text": "/home/nbuser/anaconda3_501/lib/python3.6/site-packages/scipy/stats/stats.py:1713: FutureWarning: Using a non-tuple sequence for multidimensional indexing is deprecated; use `arr[tuple(seq)]` instead of `arr[seq]`. In the future this will be interpreted as an array index, `arr[np.array(seq)]`, which will result either in an error or a different result.\n  return np.add.reduce(sorted[indexer] * weights, axis=axis) / sumval\n",
          "name": "stderr"
        },
        {
          "output_type": "display_data",
          "data": {
            "image/png": "[encoded data removed]",
            "text/plain": "<Figure size 432x288 with 1 Axes>"
          },
          "metadata": {
            "needs_background": "light"
          }
        }
      ]
    },
    {
      "metadata": {
        "trusted": true
      },
      "cell_type": "code",
      "source": "# Visualize log_YearlyIncome to see if log column is better\n\nAdvWorksCusts['log_YearlyIncome'] = np.log(AdvWorksCusts['YearlyIncome'])\n\ndef hist_plot(vals, lab):\n    ## Distribution plot of values\n    sns.distplot(vals)\n    plt.title('Histogram of ' + lab)\n    plt.xlabel('Value')\n    plt.ylabel('Density')\n    \nhist_plot(AdvWorksCusts['log_YearlyIncome'], 'log_YearlyIncome')",
      "execution_count": 24,
      "outputs": [
        {
          "output_type": "display_data",
          "data": {
            "image/png": "[encoded data removed]",
            "text/plain": "<Figure size 432x288 with 1 Axes>"
          },
          "metadata": {
            "needs_background": "light"
          }
        }
      ]
    },
    {
      "metadata": {
        "trusted": true
      },
      "cell_type": "code",
      "source": "# Drop YearlyIncome if log_YearlyIncome looks better\nAdvWorksCusts = AdvWorksCusts.drop(['YearlyIncome'], axis=1)\n\nAdvWorksCusts.head()",
      "execution_count": 25,
      "outputs": [
        {
          "output_type": "execute_result",
          "execution_count": 25,
          "data": {
            "text/html": "<div>\n<style scoped>\n    .dataframe tbody tr th:only-of-type {\n        vertical-align: middle;\n    }\n\n    .dataframe tbody tr th {\n        vertical-align: top;\n    }\n\n    .dataframe thead th {\n        text-align: right;\n    }\n</style>\n<table border=\"1\" class=\"dataframe\">\n  <thead>\n    <tr style=\"text-align: right;\">\n      <th></th>\n      <th>CustomerID</th>\n      <th>New_Age</th>\n      <th>New_Education</th>\n      <th>New_Occupation</th>\n      <th>New_Gender</th>\n      <th>New_MaritalStatus</th>\n      <th>HomeOwnerFlag</th>\n      <th>NumberCarsOwned</th>\n      <th>NumberChildrenAtHome</th>\n      <th>TotalChildren</th>\n      <th>BikeBuyer</th>\n      <th>log_YearlyIncome</th>\n    </tr>\n  </thead>\n  <tbody>\n    <tr>\n      <th>1</th>\n      <td>11000</td>\n      <td>4</td>\n      <td>4</td>\n      <td>4</td>\n      <td>1</td>\n      <td>1</td>\n      <td>1</td>\n      <td>0</td>\n      <td>0</td>\n      <td>2</td>\n      <td>0</td>\n      <td>11.834625</td>\n    </tr>\n    <tr>\n      <th>2</th>\n      <td>11001</td>\n      <td>4</td>\n      <td>4</td>\n      <td>4</td>\n      <td>1</td>\n      <td>2</td>\n      <td>0</td>\n      <td>1</td>\n      <td>3</td>\n      <td>3</td>\n      <td>1</td>\n      <td>11.524271</td>\n    </tr>\n    <tr>\n      <th>3</th>\n      <td>11002</td>\n      <td>4</td>\n      <td>4</td>\n      <td>4</td>\n      <td>1</td>\n      <td>1</td>\n      <td>1</td>\n      <td>1</td>\n      <td>3</td>\n      <td>3</td>\n      <td>0</td>\n      <td>11.428946</td>\n    </tr>\n    <tr>\n      <th>4</th>\n      <td>11003</td>\n      <td>4</td>\n      <td>4</td>\n      <td>4</td>\n      <td>2</td>\n      <td>2</td>\n      <td>0</td>\n      <td>1</td>\n      <td>0</td>\n      <td>0</td>\n      <td>0</td>\n      <td>11.370071</td>\n    </tr>\n    <tr>\n      <th>5</th>\n      <td>11004</td>\n      <td>4</td>\n      <td>4</td>\n      <td>4</td>\n      <td>2</td>\n      <td>2</td>\n      <td>1</td>\n      <td>4</td>\n      <td>5</td>\n      <td>5</td>\n      <td>1</td>\n      <td>11.437889</td>\n    </tr>\n  </tbody>\n</table>\n</div>",
            "text/plain": "0  CustomerID  New_Age  New_Education  New_Occupation  New_Gender  \\\n1       11000        4              4               4           1   \n2       11001        4              4               4           1   \n3       11002        4              4               4           1   \n4       11003        4              4               4           2   \n5       11004        4              4               4           2   \n\n0  New_MaritalStatus  HomeOwnerFlag  NumberCarsOwned  NumberChildrenAtHome  \\\n1                  1              1                0                     0   \n2                  2              0                1                     3   \n3                  1              1                1                     3   \n4                  2              0                1                     0   \n5                  2              1                4                     5   \n\n0  TotalChildren  BikeBuyer  log_YearlyIncome  \n1              2          0         11.834625  \n2              3          1         11.524271  \n3              3          0         11.428946  \n4              0          0         11.370071  \n5              5          1         11.437889  "
          },
          "metadata": {}
        }
      ]
    },
    {
      "metadata": {
        "trusted": true
      },
      "cell_type": "code",
      "source": "# Selecting X Variables\n\n\nx_cols = AdvWorksCusts.drop(['CustomerID', 'BikeBuyer'], axis=1)\n\nx_cols.head()\n\n",
      "execution_count": 26,
      "outputs": [
        {
          "output_type": "execute_result",
          "execution_count": 26,
          "data": {
            "text/html": "<div>\n<style scoped>\n    .dataframe tbody tr th:only-of-type {\n        vertical-align: middle;\n    }\n\n    .dataframe tbody tr th {\n        vertical-align: top;\n    }\n\n    .dataframe thead th {\n        text-align: right;\n    }\n</style>\n<table border=\"1\" class=\"dataframe\">\n  <thead>\n    <tr style=\"text-align: right;\">\n      <th></th>\n      <th>New_Age</th>\n      <th>New_Education</th>\n      <th>New_Occupation</th>\n      <th>New_Gender</th>\n      <th>New_MaritalStatus</th>\n      <th>HomeOwnerFlag</th>\n      <th>NumberCarsOwned</th>\n      <th>NumberChildrenAtHome</th>\n      <th>TotalChildren</th>\n      <th>log_YearlyIncome</th>\n    </tr>\n  </thead>\n  <tbody>\n    <tr>\n      <th>1</th>\n      <td>4</td>\n      <td>4</td>\n      <td>4</td>\n      <td>1</td>\n      <td>1</td>\n      <td>1</td>\n      <td>0</td>\n      <td>0</td>\n      <td>2</td>\n      <td>11.834625</td>\n    </tr>\n    <tr>\n      <th>2</th>\n      <td>4</td>\n      <td>4</td>\n      <td>4</td>\n      <td>1</td>\n      <td>2</td>\n      <td>0</td>\n      <td>1</td>\n      <td>3</td>\n      <td>3</td>\n      <td>11.524271</td>\n    </tr>\n    <tr>\n      <th>3</th>\n      <td>4</td>\n      <td>4</td>\n      <td>4</td>\n      <td>1</td>\n      <td>1</td>\n      <td>1</td>\n      <td>1</td>\n      <td>3</td>\n      <td>3</td>\n      <td>11.428946</td>\n    </tr>\n    <tr>\n      <th>4</th>\n      <td>4</td>\n      <td>4</td>\n      <td>4</td>\n      <td>2</td>\n      <td>2</td>\n      <td>0</td>\n      <td>1</td>\n      <td>0</td>\n      <td>0</td>\n      <td>11.370071</td>\n    </tr>\n    <tr>\n      <th>5</th>\n      <td>4</td>\n      <td>4</td>\n      <td>4</td>\n      <td>2</td>\n      <td>2</td>\n      <td>1</td>\n      <td>4</td>\n      <td>5</td>\n      <td>5</td>\n      <td>11.437889</td>\n    </tr>\n  </tbody>\n</table>\n</div>",
            "text/plain": "0  New_Age  New_Education  New_Occupation  New_Gender  New_MaritalStatus  \\\n1        4              4               4           1                  1   \n2        4              4               4           1                  2   \n3        4              4               4           1                  1   \n4        4              4               4           2                  2   \n5        4              4               4           2                  2   \n\n0  HomeOwnerFlag  NumberCarsOwned  NumberChildrenAtHome  TotalChildren  \\\n1              1                0                     0              2   \n2              0                1                     3              3   \n3              1                1                     3              3   \n4              0                1                     0              0   \n5              1                4                     5              5   \n\n0  log_YearlyIncome  \n1         11.834625  \n2         11.524271  \n3         11.428946  \n4         11.370071  \n5         11.437889  "
          },
          "metadata": {}
        }
      ]
    },
    {
      "metadata": {
        "trusted": true
      },
      "cell_type": "code",
      "source": "# Selecting Y Variable\n\ny_col = AdvWorksCusts['BikeBuyer']\n\ny_col.head()",
      "execution_count": 27,
      "outputs": [
        {
          "output_type": "execute_result",
          "execution_count": 27,
          "data": {
            "text/plain": "1    0\n2    1\n3    0\n4    0\n5    1\nName: BikeBuyer, dtype: int64"
          },
          "metadata": {}
        }
      ]
    },
    {
      "metadata": {
        "trusted": true
      },
      "cell_type": "code",
      "source": "#AdvWorksCusts = AdvWorksCusts.drop(['CustomerID'], axis=1)\n\n#AdvWorksCusts.head()",
      "execution_count": 28,
      "outputs": []
    },
    {
      "metadata": {
        "trusted": true
      },
      "cell_type": "code",
      "source": "# Splitting the dataset into the Training set and Test set\n\n#*from sklearn.cross_validation import train_test_split  # DeprecationWarning\nfrom sklearn.model_selection import train_test_split\nfrom sklearn.feature_selection import RFE\n\n\nFeatures = x_cols\nlabels = y_col\nfrom sklearn.model_selection import train_test_split\ntrainx, testx, trainy, testy = train_test_split(x, y, test_size = 0.25, random_state = 0)\n",
      "execution_count": 29,
      "outputs": []
    },
    {
      "metadata": {
        "trusted": true
      },
      "cell_type": "code",
      "source": "# Feature Scaling\nfrom sklearn.preprocessing import StandardScaler\nss = StandardScaler()\ntrainx = ss.fit_transform(trainx)\ntestx = ss.transform(testx)",
      "execution_count": 30,
      "outputs": [
        {
          "output_type": "stream",
          "text": "/home/nbuser/anaconda3_501/lib/python3.6/site-packages/sklearn/preprocessing/data.py:645: DataConversionWarning: Data with input dtype int64, float64 were all converted to float64 by StandardScaler.\n  return self.partial_fit(X, y)\n/home/nbuser/anaconda3_501/lib/python3.6/site-packages/sklearn/base.py:464: DataConversionWarning: Data with input dtype int64, float64 were all converted to float64 by StandardScaler.\n  return self.fit(X, **fit_params).transform(X)\n/home/nbuser/anaconda3_501/lib/python3.6/site-packages/ipykernel/__main__.py:5: DataConversionWarning: Data with input dtype int64, float64 were all converted to float64 by StandardScaler.\n",
          "name": "stderr"
        }
      ]
    },
    {
      "metadata": {
        "trusted": true
      },
      "cell_type": "code",
      "source": "# Fitting Logistic Regression to the Training set\nfrom sklearn.linear_model import LogisticRegression\nclassifier = LogisticRegression(random_state = 0)\nclassifier.fit(trainx, trainy)",
      "execution_count": 31,
      "outputs": [
        {
          "output_type": "stream",
          "text": "/home/nbuser/anaconda3_501/lib/python3.6/site-packages/sklearn/linear_model/logistic.py:433: FutureWarning: Default solver will be changed to 'lbfgs' in 0.22. Specify a solver to silence this warning.\n  FutureWarning)\n",
          "name": "stderr"
        },
        {
          "output_type": "execute_result",
          "execution_count": 31,
          "data": {
            "text/plain": "LogisticRegression(C=1.0, class_weight=None, dual=False, fit_intercept=True,\n          intercept_scaling=1, max_iter=100, multi_class='warn',\n          n_jobs=None, penalty='l2', random_state=0, solver='warn',\n          tol=0.0001, verbose=0, warm_start=False)"
          },
          "metadata": {}
        }
      ]
    },
    {
      "metadata": {
        "trusted": true
      },
      "cell_type": "code",
      "source": "# Predicting the Test set results\npredicty = classifier.predict(testx)",
      "execution_count": 32,
      "outputs": []
    },
    {
      "metadata": {
        "trusted": true
      },
      "cell_type": "code",
      "source": "print(predicty)\npredicty",
      "execution_count": 40,
      "outputs": [
        {
          "output_type": "stream",
          "text": "[1 0 0 ... 0 1 0]\n",
          "name": "stdout"
        },
        {
          "output_type": "execute_result",
          "execution_count": 40,
          "data": {
            "text/plain": "array([1, 0, 0, ..., 0, 1, 0])"
          },
          "metadata": {}
        }
      ]
    },
    {
      "metadata": {
        "trusted": true
      },
      "cell_type": "code",
      "source": "# Making the Confusion Matrix\nfrom sklearn.metrics import confusion_matrix\ncm = confusion_matrix(testy, predicty)\ncm",
      "execution_count": 42,
      "outputs": [
        {
          "output_type": "execute_result",
          "execution_count": 42,
          "data": {
            "text/plain": "array([[2473,  281],\n       [ 577,  770]])"
          },
          "metadata": {}
        }
      ]
    },
    {
      "metadata": {
        "trusted": true
      },
      "cell_type": "code",
      "source": "# Accuracy Score\nclassifier.score(x, y)\nprint('Accuracy Score: \\n', classifier.score(x, y))\n",
      "execution_count": 43,
      "outputs": [
        {
          "output_type": "stream",
          "text": "Accuracy Score: \n 0.3322970007315289\n",
          "name": "stdout"
        }
      ]
    },
    {
      "metadata": {
        "trusted": true
      },
      "cell_type": "code",
      "source": "## Accuracy Score\nclassifier.score(testx, testy)",
      "execution_count": 44,
      "outputs": [
        {
          "output_type": "execute_result",
          "execution_count": 44,
          "data": {
            "text/plain": "0.7907827359180688"
          },
          "metadata": {}
        }
      ]
    },
    {
      "metadata": {
        "trusted": true
      },
      "cell_type": "code",
      "source": "# Accuracy Score Sk-Learn\n# import sklearn\n# from sklearn.metrics import accuracy_score\n\n# acc = accuracy_score(y, predicty)\n# print(acc)\n",
      "execution_count": 55,
      "outputs": [
        {
          "output_type": "execute_result",
          "execution_count": 55,
          "data": {
            "text/plain": "(16404, 10)"
          },
          "metadata": {}
        }
      ]
    },
    {
      "metadata": {
        "trusted": true
      },
      "cell_type": "code",
      "source": "# Add the predicty/predicted values column to AdvWorksCusts DataSet\nAdvWorksCusts['Predicted_BikeBuyer'] = AdvWorksCusts['predicty']\n\n#AdvWorksCusts2['Predicted_BikeBuyer'] = classifier.predict(testx)",
      "execution_count": 50,
      "outputs": []
    },
    {
      "metadata": {
        "trusted": true
      },
      "cell_type": "code",
      "source": "# Make Predictions on New Dataset\nXnew = [[-1.07296862, -0.52817175]]\n# make a prediction\nynew = model.predict(Xnew)\n# show the inputs and predicted outputs\nprint(\"X=%s, Predicted=%s\" % (Xnew[0], ynew[0]))",
      "execution_count": null,
      "outputs": []
    },
    {
      "metadata": {
        "trusted": true
      },
      "cell_type": "code",
      "source": "# two-class classification using logistic regression\n\nimport pandas as pd\nimport matplotlib.pyplot as plt\nimport seaborn as sns\nimport numpy as np\nimport numpy.random as nr\nimport math\nfrom sklearn import preprocessing\nimport sklearn.model_selection as ms\nfrom sklearn import linear_model\nimport sklearn.metrics as sklm\n\n%matplotlib inline",
      "execution_count": 95,
      "outputs": []
    },
    {
      "metadata": {
        "trusted": true
      },
      "cell_type": "code",
      "source": "AdvWorksCusts.head()",
      "execution_count": 67,
      "outputs": [
        {
          "output_type": "execute_result",
          "execution_count": 67,
          "data": {
            "text/html": "<div>\n<style scoped>\n    .dataframe tbody tr th:only-of-type {\n        vertical-align: middle;\n    }\n\n    .dataframe tbody tr th {\n        vertical-align: top;\n    }\n\n    .dataframe thead th {\n        text-align: right;\n    }\n</style>\n<table border=\"1\" class=\"dataframe\">\n  <thead>\n    <tr style=\"text-align: right;\">\n      <th></th>\n      <th>New_Age</th>\n      <th>New_Education</th>\n      <th>New_Occupation</th>\n      <th>New_Gender</th>\n      <th>New_MaritalStatus</th>\n      <th>HomeOwnerFlag</th>\n      <th>NumberCarsOwned</th>\n      <th>NumberChildrenAtHome</th>\n      <th>TotalChildren</th>\n      <th>YearlyIncome</th>\n      <th>BikeBuyer</th>\n    </tr>\n  </thead>\n  <tbody>\n    <tr>\n      <th>1</th>\n      <td>4</td>\n      <td>4</td>\n      <td>4</td>\n      <td>1</td>\n      <td>1</td>\n      <td>1</td>\n      <td>0</td>\n      <td>0</td>\n      <td>2</td>\n      <td>137947</td>\n      <td>0</td>\n    </tr>\n    <tr>\n      <th>2</th>\n      <td>4</td>\n      <td>4</td>\n      <td>4</td>\n      <td>1</td>\n      <td>2</td>\n      <td>0</td>\n      <td>1</td>\n      <td>3</td>\n      <td>3</td>\n      <td>101141</td>\n      <td>1</td>\n    </tr>\n    <tr>\n      <th>3</th>\n      <td>4</td>\n      <td>4</td>\n      <td>4</td>\n      <td>1</td>\n      <td>1</td>\n      <td>1</td>\n      <td>1</td>\n      <td>3</td>\n      <td>3</td>\n      <td>91945</td>\n      <td>0</td>\n    </tr>\n    <tr>\n      <th>4</th>\n      <td>4</td>\n      <td>4</td>\n      <td>4</td>\n      <td>2</td>\n      <td>2</td>\n      <td>0</td>\n      <td>1</td>\n      <td>0</td>\n      <td>0</td>\n      <td>86688</td>\n      <td>0</td>\n    </tr>\n    <tr>\n      <th>5</th>\n      <td>4</td>\n      <td>4</td>\n      <td>4</td>\n      <td>2</td>\n      <td>2</td>\n      <td>1</td>\n      <td>4</td>\n      <td>5</td>\n      <td>5</td>\n      <td>92771</td>\n      <td>1</td>\n    </tr>\n  </tbody>\n</table>\n</div>",
            "text/plain": "0 New_Age New_Education New_Occupation New_Gender New_MaritalStatus  \\\n1       4             4              4          1                 1   \n2       4             4              4          1                 2   \n3       4             4              4          1                 1   \n4       4             4              4          2                 2   \n5       4             4              4          2                 2   \n\n0 HomeOwnerFlag NumberCarsOwned NumberChildrenAtHome TotalChildren  \\\n1             1               0                    0             2   \n2             0               1                    3             3   \n3             1               1                    3             3   \n4             0               1                    0             0   \n5             1               4                    5             5   \n\n0 YearlyIncome BikeBuyer  \n1       137947         0  \n2       101141         1  \n3        91945         0  \n4        86688         0  \n5        92771         1  "
          },
          "metadata": {}
        }
      ]
    },
    {
      "metadata": {
        "trusted": true
      },
      "cell_type": "code",
      "source": "# Importing the dataset\n#dataset = pd.read_csv('Social_Network_Ads.csv')\n\n\n\n##  @@@ Selecting the x variables\n\n# X = AdvWorksCusts.iloc[:, 2, 3]].values\n#x = AdvWorksCusts.iloc[:, -1].values\nx = AdvWorksCusts.iloc[:, [0, 1, 2, 3, 4, 5, 6, 7, 8, 9]].values\n#x = AdvWorksCusts.drop(['BikeBuyer'], axis=1)\n#y = dataset.iloc[:, 4].values\nprint(x)",
      "execution_count": 10,
      "outputs": [
        {
          "output_type": "stream",
          "text": "[['4' '4' '4' ... '0' '2' '137947']\n ['4' '4' '4' ... '3' '3' '101141']\n ['4' '4' '4' ... '3' '3' '91945']\n ...\n ['4' '5' '3' ... '0' '3' '60417']\n ['4' '5' '3' ... '0' '3' '66653']\n ['4' '4' '3' ... '0' '3' '59736']]\n",
          "name": "stdout"
        }
      ]
    },
    {
      "metadata": {
        "trusted": true
      },
      "cell_type": "code",
      "source": "# Selecting the Y / Labels Column\n\ny = AdvWorksCusts.iloc[:, 10].values\n\nprint(y)",
      "execution_count": 11,
      "outputs": [
        {
          "output_type": "stream",
          "text": "['0' '1' '0' ... '1' '0' '0']\n",
          "name": "stdout"
        }
      ]
    },
    {
      "metadata": {
        "trusted": true
      },
      "cell_type": "code",
      "source": "# Splitting the dataset into the Training set and Test set\nfrom sklearn.model_selection import train_test_split\ntrainx, testx, trainy, testy = train_test_split(x, y, test_size = 0.25, random_state = 0)\n",
      "execution_count": 13,
      "outputs": []
    },
    {
      "metadata": {
        "trusted": true
      },
      "cell_type": "code",
      "source": "# Feature Scaling\nfrom sklearn.preprocessing import StandardScaler\nss = StandardScaler()\ntrainx = ss.fit_transform(trainx)\ntestx = ss.transform(testx)",
      "execution_count": 14,
      "outputs": [
        {
          "output_type": "stream",
          "text": "/home/nbuser/anaconda3_501/lib/python3.6/site-packages/sklearn/utils/validation.py:595: DataConversionWarning: Data with input dtype object was converted to float64 by StandardScaler.\n  warnings.warn(msg, DataConversionWarning)\n/home/nbuser/anaconda3_501/lib/python3.6/site-packages/sklearn/utils/validation.py:595: DataConversionWarning: Data with input dtype object was converted to float64 by StandardScaler.\n  warnings.warn(msg, DataConversionWarning)\n/home/nbuser/anaconda3_501/lib/python3.6/site-packages/sklearn/utils/validation.py:595: DataConversionWarning: Data with input dtype object was converted to float64 by StandardScaler.\n  warnings.warn(msg, DataConversionWarning)\n",
          "name": "stderr"
        }
      ]
    },
    {
      "metadata": {
        "trusted": true
      },
      "cell_type": "code",
      "source": "# Fitting Logistic Regression to the Training set\nfrom sklearn.linear_model import LogisticRegression\nlogistic_mod = LogisticRegression(random_state = 0)\nlogistic_mod.fit(trainx, trainy)\n",
      "execution_count": 15,
      "outputs": [
        {
          "output_type": "stream",
          "text": "/home/nbuser/anaconda3_501/lib/python3.6/site-packages/sklearn/linear_model/logistic.py:433: FutureWarning: Default solver will be changed to 'lbfgs' in 0.22. Specify a solver to silence this warning.\n  FutureWarning)\n",
          "name": "stderr"
        },
        {
          "output_type": "execute_result",
          "execution_count": 15,
          "data": {
            "text/plain": "LogisticRegression(C=1.0, class_weight=None, dual=False, fit_intercept=True,\n          intercept_scaling=1, max_iter=100, multi_class='warn',\n          n_jobs=None, penalty='l2', random_state=0, solver='warn',\n          tol=0.0001, verbose=0, warm_start=False)"
          },
          "metadata": {}
        }
      ]
    },
    {
      "metadata": {
        "trusted": true
      },
      "cell_type": "code",
      "source": "# Predicting the Test set results\npredicty = logistic_mod.predict(testx)\n\n",
      "execution_count": 16,
      "outputs": []
    },
    {
      "metadata": {
        "trusted": true
      },
      "cell_type": "code",
      "source": "# Print Predicted Values\nprint(predicty)",
      "execution_count": 17,
      "outputs": [
        {
          "output_type": "stream",
          "text": "['1' '0' '0' ... '0' '1' '0']\n",
          "name": "stdout"
        }
      ]
    },
    {
      "metadata": {
        "trusted": true
      },
      "cell_type": "code",
      "source": "# Making the Confusion Matrix\nfrom sklearn.metrics import confusion_matrix\ncm = confusion_matrix(testy, predicty)\n",
      "execution_count": 18,
      "outputs": []
    },
    {
      "metadata": {
        "trusted": true
      },
      "cell_type": "code",
      "source": "# Print Confusion Matrix\ncm",
      "execution_count": 19,
      "outputs": [
        {
          "output_type": "execute_result",
          "execution_count": 19,
          "data": {
            "text/plain": "array([[2488,  266],\n       [ 583,  764]])"
          },
          "metadata": {}
        }
      ]
    },
    {
      "metadata": {
        "trusted": true
      },
      "cell_type": "code",
      "source": "\n# Print and Examine the Model Coefficients\n\nprint(logistic_mod.intercept_)\nprint(logistic_mod.coef_)\n",
      "execution_count": null,
      "outputs": []
    },
    {
      "metadata": {
        "trusted": true
      },
      "cell_type": "code",
      "source": "# Print Probabilities\n\nprobabilities = logistic_mod.predict_proba(X_test)\nprint(probabilities[:15,:])\n",
      "execution_count": null,
      "outputs": []
    },
    {
      "metadata": {
        "trusted": true
      },
      "cell_type": "code",
      "source": "# Score and evaluate the classification model\n\ndef score_model(probs, threshold):\n    return np.array([1 if x > threshold else 0 for x in probs[:,1]])\nscores = score_model(probabilities, 0.5)\nprint(np.array(scores[:15]))\nprint(y_test[:15])",
      "execution_count": null,
      "outputs": []
    },
    {
      "metadata": {
        "trusted": true
      },
      "cell_type": "code",
      "source": "# Model Metrics\n\ndef print_metrics(labels, scores):\n    metrics = sklm.precision_recall_fscore_support(labels, scores)\n    conf = sklm.confusion_matrix(labels, scores)\n    print('                 Confusion matrix')\n    print('                 Score positive    Score negative')\n    print('Actual positive    %6d' % conf[0,0] + '             %5d' % conf[0,1])\n    print('Actual negative    %6d' % conf[1,0] + '             %5d' % conf[1,1])\n    print('')\n    print('Accuracy  %0.2f' % sklm.accuracy_score(labels, scores))\n    print(' ')\n    print('           Positive      Negative')\n    print('Num case   %6d' % metrics[3][0] + '        %6d' % metrics[3][1])\n    print('Precision  %6.2f' % metrics[0][0] + '        %6.2f' % metrics[0][1])\n    print('Recall     %6.2f' % metrics[1][0] + '        %6.2f' % metrics[1][1])\n    print('F1         %6.2f' % metrics[2][0] + '        %6.2f' % metrics[2][1])\n\n\n    \nprint_metrics(y_test, scores)    ",
      "execution_count": null,
      "outputs": []
    },
    {
      "metadata": {
        "trusted": true
      },
      "cell_type": "code",
      "source": "# Plot AUC\n\ndef plot_auc(labels, probs):\n    ## Compute the false positive rate, true positive rate\n    ## and threshold along with the AUC\n    fpr, tpr, threshold = sklm.roc_curve(labels, probs[:,1])\n    auc = sklm.auc(fpr, tpr)\n    \n    ## Plot the result\n    plt.title('Receiver Operating Characteristic')\n    plt.plot(fpr, tpr, color = 'orange', label = 'AUC = %0.2f' % auc)\n    plt.legend(loc = 'lower right')\n    plt.plot([0, 1], [0, 1],'r--')\n    plt.xlim([0, 1])\n    plt.ylim([0, 1])\n    plt.ylabel('True Positive Rate')\n    plt.xlabel('False Positive Rate')\n    plt.show()\n    \nplot_auc(y_test, probabilities)   ",
      "execution_count": null,
      "outputs": []
    },
    {
      "metadata": {
        "trusted": true
      },
      "cell_type": "code",
      "source": "# Class Imbalance Metrics\n\nprobs_positive = np.concatenate((np.ones((probabilities.shape[0], 1)), \n                                 np.zeros((probabilities.shape[0], 1))),\n                                 axis = 1)\nscores_positive = score_model(probs_positive, 0.5) # 0.5 threshold used\nprint_metrics(y_test, scores_positive)  \nplot_auc(y_test, probs_positive) ",
      "execution_count": null,
      "outputs": []
    },
    {
      "metadata": {
        "trusted": true
      },
      "cell_type": "code",
      "source": "# Compute a Weighted Model\n\nlogistic_mod = linear_model.LogisticRegression(class_weight = {0:0.45, 1:0.55}) \nlogistic_mod.fit(X_train, y_train)",
      "execution_count": null,
      "outputs": []
    },
    {
      "metadata": {
        "trusted": true
      },
      "cell_type": "code",
      "source": "# Scores for the Weighted Model\n\nscores = score_model(probabilities, 0.5) # 0.5 threshold used\nprint_metrics(y_test, scores)  \nplot_auc(y_test, probabilities)  ",
      "execution_count": null,
      "outputs": []
    },
    {
      "metadata": {
        "trusted": true
      },
      "cell_type": "code",
      "source": "# Find a better threshold \n# Compute Using different thresholds\n\ndef test_threshold(probs, labels, threshold):\n    scores = score_model(probs, threshold)\n    print('')\n    print('For threshold = ' + str(threshold))\n    print_metrics(labels, scores)\n\nthresholds = [0.45, 0.40, 0.35, 0.3, 0.25]\nfor t in thresholds:\n    test_threshold(probabilities, y_test, t)",
      "execution_count": null,
      "outputs": []
    },
    {
      "metadata": {
        "trusted": true
      },
      "cell_type": "code",
      "source": "# Prepare data for scikit-learn model\n\n## @@ Selecting Labels\n\n# labels = np.array(credit['bad_credit'])\n\nlabels = np.array(AdvWorksCusts['BikeBuyer'])\n\nlabels.head()\n",
      "execution_count": 18,
      "outputs": []
    },
    {
      "metadata": {
        "trusted": true
      },
      "cell_type": "code",
      "source": "# Prepare data for scikit-learn model\n\n## @@ Selecting Features\n\nAdvWorksCusts = AdvWorksCusts.drop(['CustomerID', 'BikeBuyer'], axis=1)\n\n# Features = AdvWorksCusts.drop(['CustomerID', 'BikeBuyer'], axis=1)\n\n#Features = np.array(x_varialbes)\n\n#Features.head()\n#print(Features.shape())\n",
      "execution_count": 26,
      "outputs": []
    },
    {
      "metadata": {
        "trusted": true
      },
      "cell_type": "code",
      "source": "AdvWorksCusts.head()",
      "execution_count": 27,
      "outputs": [
        {
          "output_type": "execute_result",
          "execution_count": 27,
          "data": {
            "text/html": "<div>\n<style scoped>\n    .dataframe tbody tr th:only-of-type {\n        vertical-align: middle;\n    }\n\n    .dataframe tbody tr th {\n        vertical-align: top;\n    }\n\n    .dataframe thead th {\n        text-align: right;\n    }\n</style>\n<table border=\"1\" class=\"dataframe\">\n  <thead>\n    <tr style=\"text-align: right;\">\n      <th></th>\n      <th>New_Age</th>\n      <th>New_Education</th>\n      <th>New_Occupation</th>\n      <th>New_Gender</th>\n      <th>New_MaritalStatus</th>\n      <th>HomeOwnerFlag</th>\n      <th>NumberCarsOwned</th>\n      <th>NumberChildrenAtHome</th>\n      <th>TotalChildren</th>\n      <th>YearlyIncome</th>\n    </tr>\n  </thead>\n  <tbody>\n    <tr>\n      <th>1</th>\n      <td>4</td>\n      <td>4</td>\n      <td>4</td>\n      <td>1</td>\n      <td>1</td>\n      <td>1</td>\n      <td>0</td>\n      <td>0</td>\n      <td>2</td>\n      <td>137947.0</td>\n    </tr>\n    <tr>\n      <th>2</th>\n      <td>4</td>\n      <td>4</td>\n      <td>4</td>\n      <td>1</td>\n      <td>2</td>\n      <td>0</td>\n      <td>1</td>\n      <td>3</td>\n      <td>3</td>\n      <td>101141.0</td>\n    </tr>\n    <tr>\n      <th>3</th>\n      <td>4</td>\n      <td>4</td>\n      <td>4</td>\n      <td>1</td>\n      <td>1</td>\n      <td>1</td>\n      <td>1</td>\n      <td>3</td>\n      <td>3</td>\n      <td>91945.0</td>\n    </tr>\n    <tr>\n      <th>4</th>\n      <td>4</td>\n      <td>4</td>\n      <td>4</td>\n      <td>2</td>\n      <td>2</td>\n      <td>0</td>\n      <td>1</td>\n      <td>0</td>\n      <td>0</td>\n      <td>86688.0</td>\n    </tr>\n    <tr>\n      <th>5</th>\n      <td>4</td>\n      <td>4</td>\n      <td>4</td>\n      <td>2</td>\n      <td>2</td>\n      <td>1</td>\n      <td>4</td>\n      <td>5</td>\n      <td>5</td>\n      <td>92771.0</td>\n    </tr>\n  </tbody>\n</table>\n</div>",
            "text/plain": "0  New_Age  New_Education  New_Occupation  New_Gender  New_MaritalStatus  \\\n1        4              4               4           1                  1   \n2        4              4               4           1                  2   \n3        4              4               4           1                  1   \n4        4              4               4           2                  2   \n5        4              4               4           2                  2   \n\n0  HomeOwnerFlag  NumberCarsOwned  NumberChildrenAtHome  TotalChildren  \\\n1              1                0                     0              2   \n2              0                1                     3              3   \n3              1                1                     3              3   \n4              0                1                     0              0   \n5              1                4                     5              5   \n\n0  YearlyIncome  \n1      137947.0  \n2      101141.0  \n3       91945.0  \n4       86688.0  \n5       92771.0  "
          },
          "metadata": {}
        }
      ]
    },
    {
      "metadata": {
        "trusted": true
      },
      "cell_type": "code",
      "source": "x = AdvWorksCusts\nx.head()",
      "execution_count": 60,
      "outputs": [
        {
          "output_type": "execute_result",
          "execution_count": 60,
          "data": {
            "text/html": "<div>\n<style scoped>\n    .dataframe tbody tr th:only-of-type {\n        vertical-align: middle;\n    }\n\n    .dataframe tbody tr th {\n        vertical-align: top;\n    }\n\n    .dataframe thead th {\n        text-align: right;\n    }\n</style>\n<table border=\"1\" class=\"dataframe\">\n  <thead>\n    <tr style=\"text-align: right;\">\n      <th></th>\n      <th>New_Age</th>\n      <th>New_Education</th>\n      <th>New_Occupation</th>\n      <th>New_Gender</th>\n      <th>New_MaritalStatus</th>\n      <th>HomeOwnerFlag</th>\n      <th>NumberCarsOwned</th>\n      <th>NumberChildrenAtHome</th>\n      <th>TotalChildren</th>\n      <th>YearlyIncome</th>\n      <th>BikeBuyer</th>\n    </tr>\n  </thead>\n  <tbody>\n    <tr>\n      <th>1</th>\n      <td>4</td>\n      <td>4</td>\n      <td>4</td>\n      <td>1</td>\n      <td>1</td>\n      <td>1</td>\n      <td>0</td>\n      <td>0</td>\n      <td>2</td>\n      <td>137947</td>\n      <td>0</td>\n    </tr>\n    <tr>\n      <th>2</th>\n      <td>4</td>\n      <td>4</td>\n      <td>4</td>\n      <td>1</td>\n      <td>2</td>\n      <td>0</td>\n      <td>1</td>\n      <td>3</td>\n      <td>3</td>\n      <td>101141</td>\n      <td>1</td>\n    </tr>\n    <tr>\n      <th>3</th>\n      <td>4</td>\n      <td>4</td>\n      <td>4</td>\n      <td>1</td>\n      <td>1</td>\n      <td>1</td>\n      <td>1</td>\n      <td>3</td>\n      <td>3</td>\n      <td>91945</td>\n      <td>0</td>\n    </tr>\n    <tr>\n      <th>4</th>\n      <td>4</td>\n      <td>4</td>\n      <td>4</td>\n      <td>2</td>\n      <td>2</td>\n      <td>0</td>\n      <td>1</td>\n      <td>0</td>\n      <td>0</td>\n      <td>86688</td>\n      <td>0</td>\n    </tr>\n    <tr>\n      <th>5</th>\n      <td>4</td>\n      <td>4</td>\n      <td>4</td>\n      <td>2</td>\n      <td>2</td>\n      <td>1</td>\n      <td>4</td>\n      <td>5</td>\n      <td>5</td>\n      <td>92771</td>\n      <td>1</td>\n    </tr>\n  </tbody>\n</table>\n</div>",
            "text/plain": "0 New_Age New_Education New_Occupation New_Gender New_MaritalStatus  \\\n1       4             4              4          1                 1   \n2       4             4              4          1                 2   \n3       4             4              4          1                 1   \n4       4             4              4          2                 2   \n5       4             4              4          2                 2   \n\n0 HomeOwnerFlag NumberCarsOwned NumberChildrenAtHome TotalChildren  \\\n1             1               0                    0             2   \n2             0               1                    3             3   \n3             1               1                    3             3   \n4             0               1                    0             0   \n5             1               4                    5             5   \n\n0 YearlyIncome BikeBuyer  \n1       137947         0  \n2       101141         1  \n3        91945         0  \n4        86688         0  \n5        92771         1  "
          },
          "metadata": {}
        }
      ]
    },
    {
      "metadata": {
        "trusted": true
      },
      "cell_type": "code",
      "source": "# Encoding categorical data\n# Encoding the Independent Variable\nfrom sklearn.preprocessing import LabelEncoder, OneHotEncoder\nlabelencoder_X = LabelEncoder()\nX[:, 0] = labelencoder_X.fit_transform(X[:, 0])\nonehotencoder = OneHotEncoder(categorical_features = [0])\nX = onehotencoder.fit_transform(X).toarray()\n\n# Encoding the Dependent Variable\nlabelencoder_y = LabelEncoder()\ny = labelencoder_y.fit_transform(y)\n\n# Splitting the dataset into the Training set and Test set\nfrom sklearn.cross_validation import train_test_split\ntrainx, testx, trainy, testy = train_test_split(X, y, test_size = 0.2, random_state = 0)\n\n# Feature Scaling\nfrom sklearn.preprocessing import StandardScaler\nscx = StandardScaler()\ntrainx = scx.fit_transform(trainx)\ntrainx = scx.transform(trainx)\nscy = StandardScaler()\ntrainy = scy.fit_transform(trainy)\n\n# Feature Scaling Classification *****\nfrom sklearn.preprocessing import StandardScaler\nsc = StandardScaler()\ntrainx = sc.fit_transform(trainx)\ntestx = sc.transform(testx)",
      "execution_count": null,
      "outputs": []
    },
    {
      "metadata": {
        "trusted": true
      },
      "cell_type": "code",
      "source": "## Using iloc for x and y\n\n\n# Encoding categorical data\n# Encoding the Independent Variable\n\n\n# Splitting the dataset into the Training set and Test set\nimport sklearn\nfrom sklearn.model_selection import train_test_split\ntrainx, testx, trainy, testy = train_test_split(x, y, test_size = 0.2, random_state = 0)\n\n# Feature Scaling\nfrom sklearn.preprocessing import StandardScaler\nscx = StandardScaler()\ntrainx = scx.fit_transform(trainx)\ntrainx = scx.transform(trainx)\nscy = StandardScaler()\ntrainy = scy.fit_transform(trainy)\n\n# Feature Scaling Classification *****\nfrom sklearn.preprocessing import StandardScaler\nsc = StandardScaler()\ntrainx = sc.fit_transform(trainx)\ntestx = sc.transform(testx)",
      "execution_count": 99,
      "outputs": [
        {
          "output_type": "error",
          "ename": "ValueError",
          "evalue": "Expected 2D array, got 1D array instead:\narray=[0. 0. 1. ... 1. 0. 1.].\nReshape your data either using array.reshape(-1, 1) if your data has a single feature or array.reshape(1, -1) if it contains a single sample.",
          "traceback": [
            "\u001b[0;31m---------------------------------------------------------------------------\u001b[0m",
            "\u001b[0;31mValueError\u001b[0m                                Traceback (most recent call last)",
            "\u001b[0;32m<ipython-input-99-1dc02f1dd8e7>\u001b[0m in \u001b[0;36m<module>\u001b[0;34m\u001b[0m\n\u001b[1;32m     14\u001b[0m \u001b[0;32mfrom\u001b[0m \u001b[0msklearn\u001b[0m\u001b[0;34m.\u001b[0m\u001b[0mpreprocessing\u001b[0m \u001b[0;32mimport\u001b[0m \u001b[0mStandardScaler\u001b[0m\u001b[0;34m\u001b[0m\u001b[0m\n\u001b[1;32m     15\u001b[0m \u001b[0mscx\u001b[0m \u001b[0;34m=\u001b[0m \u001b[0mStandardScaler\u001b[0m\u001b[0;34m(\u001b[0m\u001b[0;34m)\u001b[0m\u001b[0;34m\u001b[0m\u001b[0m\n\u001b[0;32m---> 16\u001b[0;31m \u001b[0mtrainx\u001b[0m \u001b[0;34m=\u001b[0m \u001b[0mscx\u001b[0m\u001b[0;34m.\u001b[0m\u001b[0mfit_transform\u001b[0m\u001b[0;34m(\u001b[0m\u001b[0mtrainx\u001b[0m\u001b[0;34m)\u001b[0m\u001b[0;34m\u001b[0m\u001b[0m\n\u001b[0m\u001b[1;32m     17\u001b[0m \u001b[0mtrainx\u001b[0m \u001b[0;34m=\u001b[0m \u001b[0mscx\u001b[0m\u001b[0;34m.\u001b[0m\u001b[0mtransform\u001b[0m\u001b[0;34m(\u001b[0m\u001b[0mtrainx\u001b[0m\u001b[0;34m)\u001b[0m\u001b[0;34m\u001b[0m\u001b[0m\n\u001b[1;32m     18\u001b[0m \u001b[0mscy\u001b[0m \u001b[0;34m=\u001b[0m \u001b[0mStandardScaler\u001b[0m\u001b[0;34m(\u001b[0m\u001b[0;34m)\u001b[0m\u001b[0;34m\u001b[0m\u001b[0m\n",
            "\u001b[0;32m~/anaconda3_501/lib/python3.6/site-packages/sklearn/base.py\u001b[0m in \u001b[0;36mfit_transform\u001b[0;34m(self, X, y, **fit_params)\u001b[0m\n\u001b[1;32m    462\u001b[0m         \u001b[0;32mif\u001b[0m \u001b[0my\u001b[0m \u001b[0;32mis\u001b[0m \u001b[0;32mNone\u001b[0m\u001b[0;34m:\u001b[0m\u001b[0;34m\u001b[0m\u001b[0m\n\u001b[1;32m    463\u001b[0m             \u001b[0;31m# fit method of arity 1 (unsupervised transformation)\u001b[0m\u001b[0;34m\u001b[0m\u001b[0;34m\u001b[0m\u001b[0m\n\u001b[0;32m--> 464\u001b[0;31m             \u001b[0;32mreturn\u001b[0m \u001b[0mself\u001b[0m\u001b[0;34m.\u001b[0m\u001b[0mfit\u001b[0m\u001b[0;34m(\u001b[0m\u001b[0mX\u001b[0m\u001b[0;34m,\u001b[0m \u001b[0;34m**\u001b[0m\u001b[0mfit_params\u001b[0m\u001b[0;34m)\u001b[0m\u001b[0;34m.\u001b[0m\u001b[0mtransform\u001b[0m\u001b[0;34m(\u001b[0m\u001b[0mX\u001b[0m\u001b[0;34m)\u001b[0m\u001b[0;34m\u001b[0m\u001b[0m\n\u001b[0m\u001b[1;32m    465\u001b[0m         \u001b[0;32melse\u001b[0m\u001b[0;34m:\u001b[0m\u001b[0;34m\u001b[0m\u001b[0m\n\u001b[1;32m    466\u001b[0m             \u001b[0;31m# fit method of arity 2 (supervised transformation)\u001b[0m\u001b[0;34m\u001b[0m\u001b[0;34m\u001b[0m\u001b[0m\n",
            "\u001b[0;32m~/anaconda3_501/lib/python3.6/site-packages/sklearn/preprocessing/data.py\u001b[0m in \u001b[0;36mfit\u001b[0;34m(self, X, y)\u001b[0m\n\u001b[1;32m    643\u001b[0m         \u001b[0;31m# Reset internal state before fitting\u001b[0m\u001b[0;34m\u001b[0m\u001b[0;34m\u001b[0m\u001b[0m\n\u001b[1;32m    644\u001b[0m         \u001b[0mself\u001b[0m\u001b[0;34m.\u001b[0m\u001b[0m_reset\u001b[0m\u001b[0;34m(\u001b[0m\u001b[0;34m)\u001b[0m\u001b[0;34m\u001b[0m\u001b[0m\n\u001b[0;32m--> 645\u001b[0;31m         \u001b[0;32mreturn\u001b[0m \u001b[0mself\u001b[0m\u001b[0;34m.\u001b[0m\u001b[0mpartial_fit\u001b[0m\u001b[0;34m(\u001b[0m\u001b[0mX\u001b[0m\u001b[0;34m,\u001b[0m \u001b[0my\u001b[0m\u001b[0;34m)\u001b[0m\u001b[0;34m\u001b[0m\u001b[0m\n\u001b[0m\u001b[1;32m    646\u001b[0m \u001b[0;34m\u001b[0m\u001b[0m\n\u001b[1;32m    647\u001b[0m     \u001b[0;32mdef\u001b[0m \u001b[0mpartial_fit\u001b[0m\u001b[0;34m(\u001b[0m\u001b[0mself\u001b[0m\u001b[0;34m,\u001b[0m \u001b[0mX\u001b[0m\u001b[0;34m,\u001b[0m \u001b[0my\u001b[0m\u001b[0;34m=\u001b[0m\u001b[0;32mNone\u001b[0m\u001b[0;34m)\u001b[0m\u001b[0;34m:\u001b[0m\u001b[0;34m\u001b[0m\u001b[0m\n",
            "\u001b[0;32m~/anaconda3_501/lib/python3.6/site-packages/sklearn/preprocessing/data.py\u001b[0m in \u001b[0;36mpartial_fit\u001b[0;34m(self, X, y)\u001b[0m\n\u001b[1;32m    667\u001b[0m         X = check_array(X, accept_sparse=('csr', 'csc'), copy=self.copy,\n\u001b[1;32m    668\u001b[0m                         \u001b[0mwarn_on_dtype\u001b[0m\u001b[0;34m=\u001b[0m\u001b[0;32mTrue\u001b[0m\u001b[0;34m,\u001b[0m \u001b[0mestimator\u001b[0m\u001b[0;34m=\u001b[0m\u001b[0mself\u001b[0m\u001b[0;34m,\u001b[0m \u001b[0mdtype\u001b[0m\u001b[0;34m=\u001b[0m\u001b[0mFLOAT_DTYPES\u001b[0m\u001b[0;34m,\u001b[0m\u001b[0;34m\u001b[0m\u001b[0m\n\u001b[0;32m--> 669\u001b[0;31m                         force_all_finite='allow-nan')\n\u001b[0m\u001b[1;32m    670\u001b[0m \u001b[0;34m\u001b[0m\u001b[0m\n\u001b[1;32m    671\u001b[0m         \u001b[0;31m# Even in the case of `with_mean=False`, we update the mean anyway\u001b[0m\u001b[0;34m\u001b[0m\u001b[0;34m\u001b[0m\u001b[0m\n",
            "\u001b[0;32m~/anaconda3_501/lib/python3.6/site-packages/sklearn/utils/validation.py\u001b[0m in \u001b[0;36mcheck_array\u001b[0;34m(array, accept_sparse, accept_large_sparse, dtype, order, copy, force_all_finite, ensure_2d, allow_nd, ensure_min_samples, ensure_min_features, warn_on_dtype, estimator)\u001b[0m\n\u001b[1;32m    550\u001b[0m                     \u001b[0;34m\"Reshape your data either using array.reshape(-1, 1) if \"\u001b[0m\u001b[0;34m\u001b[0m\u001b[0m\n\u001b[1;32m    551\u001b[0m                     \u001b[0;34m\"your data has a single feature or array.reshape(1, -1) \"\u001b[0m\u001b[0;34m\u001b[0m\u001b[0m\n\u001b[0;32m--> 552\u001b[0;31m                     \"if it contains a single sample.\".format(array))\n\u001b[0m\u001b[1;32m    553\u001b[0m \u001b[0;34m\u001b[0m\u001b[0m\n\u001b[1;32m    554\u001b[0m         \u001b[0;31m# in the future np.flexible dtypes will be handled like object dtypes\u001b[0m\u001b[0;34m\u001b[0m\u001b[0;34m\u001b[0m\u001b[0m\n",
            "\u001b[0;31mValueError\u001b[0m: Expected 2D array, got 1D array instead:\narray=[0. 0. 1. ... 1. 0. 1.].\nReshape your data either using array.reshape(-1, 1) if your data has a single feature or array.reshape(1, -1) if it contains a single sample."
          ]
        }
      ]
    },
    {
      "metadata": {
        "trusted": true
      },
      "cell_type": "code",
      "source": "Features = AdvWorksCusts",
      "execution_count": 28,
      "outputs": []
    },
    {
      "metadata": {
        "trusted": true
      },
      "cell_type": "code",
      "source": "# Dummy Variables for Categorical Features\n\ndef encode_string(cat_features):\n    ## First encode the strings to numeric categories\n    enc = preprocessing.LabelEncoder()\n    enc.fit(cat_features)\n    enc_cat_features = enc.transform(cat_features)\n    ## Now, apply one hot encoding\n    ohe = preprocessing.OneHotEncoder()\n    encoded = ohe.fit(enc_cat_features.reshape(-1,1))\n    return encoded.transform(enc_cat_features.reshape(-1,1)).toarray()\n\ncategorical_columns = ['credit_history', 'purpose', 'gender_status', \n                       'time_in_residence', 'property']\n\nFeatures = encode_string(credit['checking_account_status'])\nfor col in categorical_columns:\n    temp = encode_string(credit[col])\n    Features = np.concatenate([Features, temp], axis = 1)\n\nprint(Features.shape)\nprint(Features[:2, :])    ",
      "execution_count": null,
      "outputs": []
    },
    {
      "metadata": {
        "trusted": true
      },
      "cell_type": "code",
      "source": "#  Numeric features must be concatenated to the numpy array \nFeatures = np.concatenate([Features, np.array(credit[['loan_duration_mo', 'loan_amount', \n                            'payment_pcnt_income', 'age_yrs']])], axis = 1)\nprint(Features.shape)\nprint(Features[:2, :])   ",
      "execution_count": null,
      "outputs": []
    },
    {
      "metadata": {
        "trusted": true
      },
      "cell_type": "code",
      "source": "## Randomly sample cases to create independent training and test data\nnr.seed(9988)\nindx = range(Features.shape[0])\nindx = ms.train_test_split(indx, test_size = 300)\nX_train = Features[indx[0],:]\ny_train = np.ravel(labels[indx[0]])\nX_test = Features[indx[1],:]\ny_test = np.ravel(labels[indx[1]])",
      "execution_count": 29,
      "outputs": [
        {
          "output_type": "error",
          "ename": "TypeError",
          "evalue": "unhashable type: 'list'",
          "traceback": [
            "\u001b[0;31m---------------------------------------------------------------------------\u001b[0m",
            "\u001b[0;31mTypeError\u001b[0m                                 Traceback (most recent call last)",
            "\u001b[0;32m<ipython-input-29-ae1ef0adfe17>\u001b[0m in \u001b[0;36m<module>\u001b[0;34m\u001b[0m\n\u001b[1;32m      3\u001b[0m \u001b[0mindx\u001b[0m \u001b[0;34m=\u001b[0m \u001b[0mrange\u001b[0m\u001b[0;34m(\u001b[0m\u001b[0mFeatures\u001b[0m\u001b[0;34m.\u001b[0m\u001b[0mshape\u001b[0m\u001b[0;34m[\u001b[0m\u001b[0;36m0\u001b[0m\u001b[0;34m]\u001b[0m\u001b[0;34m)\u001b[0m\u001b[0;34m\u001b[0m\u001b[0m\n\u001b[1;32m      4\u001b[0m \u001b[0mindx\u001b[0m \u001b[0;34m=\u001b[0m \u001b[0mms\u001b[0m\u001b[0;34m.\u001b[0m\u001b[0mtrain_test_split\u001b[0m\u001b[0;34m(\u001b[0m\u001b[0mindx\u001b[0m\u001b[0;34m,\u001b[0m \u001b[0mtest_size\u001b[0m \u001b[0;34m=\u001b[0m \u001b[0;36m300\u001b[0m\u001b[0;34m)\u001b[0m\u001b[0;34m\u001b[0m\u001b[0m\n\u001b[0;32m----> 5\u001b[0;31m \u001b[0mX_train\u001b[0m \u001b[0;34m=\u001b[0m \u001b[0mFeatures\u001b[0m\u001b[0;34m[\u001b[0m\u001b[0mindx\u001b[0m\u001b[0;34m[\u001b[0m\u001b[0;36m0\u001b[0m\u001b[0;34m]\u001b[0m\u001b[0;34m,\u001b[0m\u001b[0;34m:\u001b[0m\u001b[0;34m]\u001b[0m\u001b[0;34m\u001b[0m\u001b[0m\n\u001b[0m\u001b[1;32m      6\u001b[0m \u001b[0my_train\u001b[0m \u001b[0;34m=\u001b[0m \u001b[0mnp\u001b[0m\u001b[0;34m.\u001b[0m\u001b[0mravel\u001b[0m\u001b[0;34m(\u001b[0m\u001b[0mlabels\u001b[0m\u001b[0;34m[\u001b[0m\u001b[0mindx\u001b[0m\u001b[0;34m[\u001b[0m\u001b[0;36m0\u001b[0m\u001b[0;34m]\u001b[0m\u001b[0;34m]\u001b[0m\u001b[0;34m)\u001b[0m\u001b[0;34m\u001b[0m\u001b[0m\n\u001b[1;32m      7\u001b[0m \u001b[0mX_test\u001b[0m \u001b[0;34m=\u001b[0m \u001b[0mFeatures\u001b[0m\u001b[0;34m[\u001b[0m\u001b[0mindx\u001b[0m\u001b[0;34m[\u001b[0m\u001b[0;36m1\u001b[0m\u001b[0;34m]\u001b[0m\u001b[0;34m,\u001b[0m\u001b[0;34m:\u001b[0m\u001b[0;34m]\u001b[0m\u001b[0;34m\u001b[0m\u001b[0m\n",
            "\u001b[0;32m~/anaconda3_501/lib/python3.6/site-packages/pandas/core/frame.py\u001b[0m in \u001b[0;36m__getitem__\u001b[0;34m(self, key)\u001b[0m\n\u001b[1;32m   2686\u001b[0m             \u001b[0;32mreturn\u001b[0m \u001b[0mself\u001b[0m\u001b[0;34m.\u001b[0m\u001b[0m_getitem_multilevel\u001b[0m\u001b[0;34m(\u001b[0m\u001b[0mkey\u001b[0m\u001b[0;34m)\u001b[0m\u001b[0;34m\u001b[0m\u001b[0m\n\u001b[1;32m   2687\u001b[0m         \u001b[0;32melse\u001b[0m\u001b[0;34m:\u001b[0m\u001b[0;34m\u001b[0m\u001b[0m\n\u001b[0;32m-> 2688\u001b[0;31m             \u001b[0;32mreturn\u001b[0m \u001b[0mself\u001b[0m\u001b[0;34m.\u001b[0m\u001b[0m_getitem_column\u001b[0m\u001b[0;34m(\u001b[0m\u001b[0mkey\u001b[0m\u001b[0;34m)\u001b[0m\u001b[0;34m\u001b[0m\u001b[0m\n\u001b[0m\u001b[1;32m   2689\u001b[0m \u001b[0;34m\u001b[0m\u001b[0m\n\u001b[1;32m   2690\u001b[0m     \u001b[0;32mdef\u001b[0m \u001b[0m_getitem_column\u001b[0m\u001b[0;34m(\u001b[0m\u001b[0mself\u001b[0m\u001b[0;34m,\u001b[0m \u001b[0mkey\u001b[0m\u001b[0;34m)\u001b[0m\u001b[0;34m:\u001b[0m\u001b[0;34m\u001b[0m\u001b[0m\n",
            "\u001b[0;32m~/anaconda3_501/lib/python3.6/site-packages/pandas/core/frame.py\u001b[0m in \u001b[0;36m_getitem_column\u001b[0;34m(self, key)\u001b[0m\n\u001b[1;32m   2693\u001b[0m         \u001b[0;31m# get column\u001b[0m\u001b[0;34m\u001b[0m\u001b[0;34m\u001b[0m\u001b[0m\n\u001b[1;32m   2694\u001b[0m         \u001b[0;32mif\u001b[0m \u001b[0mself\u001b[0m\u001b[0;34m.\u001b[0m\u001b[0mcolumns\u001b[0m\u001b[0;34m.\u001b[0m\u001b[0mis_unique\u001b[0m\u001b[0;34m:\u001b[0m\u001b[0;34m\u001b[0m\u001b[0m\n\u001b[0;32m-> 2695\u001b[0;31m             \u001b[0;32mreturn\u001b[0m \u001b[0mself\u001b[0m\u001b[0;34m.\u001b[0m\u001b[0m_get_item_cache\u001b[0m\u001b[0;34m(\u001b[0m\u001b[0mkey\u001b[0m\u001b[0;34m)\u001b[0m\u001b[0;34m\u001b[0m\u001b[0m\n\u001b[0m\u001b[1;32m   2696\u001b[0m \u001b[0;34m\u001b[0m\u001b[0m\n\u001b[1;32m   2697\u001b[0m         \u001b[0;31m# duplicate columns & possible reduce dimensionality\u001b[0m\u001b[0;34m\u001b[0m\u001b[0;34m\u001b[0m\u001b[0m\n",
            "\u001b[0;32m~/anaconda3_501/lib/python3.6/site-packages/pandas/core/generic.py\u001b[0m in \u001b[0;36m_get_item_cache\u001b[0;34m(self, item)\u001b[0m\n\u001b[1;32m   2485\u001b[0m         \u001b[0;34m\"\"\"Return the cached item, item represents a label indexer.\"\"\"\u001b[0m\u001b[0;34m\u001b[0m\u001b[0m\n\u001b[1;32m   2486\u001b[0m         \u001b[0mcache\u001b[0m \u001b[0;34m=\u001b[0m \u001b[0mself\u001b[0m\u001b[0;34m.\u001b[0m\u001b[0m_item_cache\u001b[0m\u001b[0;34m\u001b[0m\u001b[0m\n\u001b[0;32m-> 2487\u001b[0;31m         \u001b[0mres\u001b[0m \u001b[0;34m=\u001b[0m \u001b[0mcache\u001b[0m\u001b[0;34m.\u001b[0m\u001b[0mget\u001b[0m\u001b[0;34m(\u001b[0m\u001b[0mitem\u001b[0m\u001b[0;34m)\u001b[0m\u001b[0;34m\u001b[0m\u001b[0m\n\u001b[0m\u001b[1;32m   2488\u001b[0m         \u001b[0;32mif\u001b[0m \u001b[0mres\u001b[0m \u001b[0;32mis\u001b[0m \u001b[0;32mNone\u001b[0m\u001b[0;34m:\u001b[0m\u001b[0;34m\u001b[0m\u001b[0m\n\u001b[1;32m   2489\u001b[0m             \u001b[0mvalues\u001b[0m \u001b[0;34m=\u001b[0m \u001b[0mself\u001b[0m\u001b[0;34m.\u001b[0m\u001b[0m_data\u001b[0m\u001b[0;34m.\u001b[0m\u001b[0mget\u001b[0m\u001b[0;34m(\u001b[0m\u001b[0mitem\u001b[0m\u001b[0;34m)\u001b[0m\u001b[0;34m\u001b[0m\u001b[0m\n",
            "\u001b[0;31mTypeError\u001b[0m: unhashable type: 'list'"
          ]
        }
      ]
    },
    {
      "metadata": {
        "trusted": true
      },
      "cell_type": "code",
      "source": "## Spliting dataset using iloc\n\n## Randomly sample cases to create independent training and test data\nnr.seed(9988)\nindx = range(x.shape[0])\nindx = ms.train_test_split(indx, test_size = 300)\nX_train = x[indx[0],:]\ny_train = np.ravel(y[indx[0]])\nX_test = x[indx[1],:]\ny_test = np.ravel(y[indx[1]])",
      "execution_count": 100,
      "outputs": [
        {
          "output_type": "error",
          "ename": "IndexError",
          "evalue": "too many indices for array",
          "traceback": [
            "\u001b[0;31m---------------------------------------------------------------------------\u001b[0m",
            "\u001b[0;31mIndexError\u001b[0m                                Traceback (most recent call last)",
            "\u001b[0;32m<ipython-input-100-ac55b4130ff6>\u001b[0m in \u001b[0;36m<module>\u001b[0;34m\u001b[0m\n\u001b[1;32m      5\u001b[0m \u001b[0mindx\u001b[0m \u001b[0;34m=\u001b[0m \u001b[0mrange\u001b[0m\u001b[0;34m(\u001b[0m\u001b[0mx\u001b[0m\u001b[0;34m.\u001b[0m\u001b[0mshape\u001b[0m\u001b[0;34m[\u001b[0m\u001b[0;36m0\u001b[0m\u001b[0;34m]\u001b[0m\u001b[0;34m)\u001b[0m\u001b[0;34m\u001b[0m\u001b[0m\n\u001b[1;32m      6\u001b[0m \u001b[0mindx\u001b[0m \u001b[0;34m=\u001b[0m \u001b[0mms\u001b[0m\u001b[0;34m.\u001b[0m\u001b[0mtrain_test_split\u001b[0m\u001b[0;34m(\u001b[0m\u001b[0mindx\u001b[0m\u001b[0;34m,\u001b[0m \u001b[0mtest_size\u001b[0m \u001b[0;34m=\u001b[0m \u001b[0;36m300\u001b[0m\u001b[0;34m)\u001b[0m\u001b[0;34m\u001b[0m\u001b[0m\n\u001b[0;32m----> 7\u001b[0;31m \u001b[0mX_train\u001b[0m \u001b[0;34m=\u001b[0m \u001b[0mx\u001b[0m\u001b[0;34m[\u001b[0m\u001b[0mindx\u001b[0m\u001b[0;34m[\u001b[0m\u001b[0;36m0\u001b[0m\u001b[0;34m]\u001b[0m\u001b[0;34m,\u001b[0m\u001b[0;34m:\u001b[0m\u001b[0;34m]\u001b[0m\u001b[0;34m\u001b[0m\u001b[0m\n\u001b[0m\u001b[1;32m      8\u001b[0m \u001b[0my_train\u001b[0m \u001b[0;34m=\u001b[0m \u001b[0mnp\u001b[0m\u001b[0;34m.\u001b[0m\u001b[0mravel\u001b[0m\u001b[0;34m(\u001b[0m\u001b[0my\u001b[0m\u001b[0;34m[\u001b[0m\u001b[0mindx\u001b[0m\u001b[0;34m[\u001b[0m\u001b[0;36m0\u001b[0m\u001b[0;34m]\u001b[0m\u001b[0;34m]\u001b[0m\u001b[0;34m)\u001b[0m\u001b[0;34m\u001b[0m\u001b[0m\n\u001b[1;32m      9\u001b[0m \u001b[0mX_test\u001b[0m \u001b[0;34m=\u001b[0m \u001b[0mx\u001b[0m\u001b[0;34m[\u001b[0m\u001b[0mindx\u001b[0m\u001b[0;34m[\u001b[0m\u001b[0;36m1\u001b[0m\u001b[0;34m]\u001b[0m\u001b[0;34m,\u001b[0m\u001b[0;34m:\u001b[0m\u001b[0;34m]\u001b[0m\u001b[0;34m\u001b[0m\u001b[0m\n",
            "\u001b[0;31mIndexError\u001b[0m: too many indices for array"
          ]
        }
      ]
    },
    {
      "metadata": {
        "trusted": true
      },
      "cell_type": "code",
      "source": "# Get the shape of the features\nprint(X_train.shape)",
      "execution_count": null,
      "outputs": []
    },
    {
      "metadata": {
        "trusted": true
      },
      "cell_type": "code",
      "source": "# Rescale Numeric Features\n# Numeric features must be rescaled so they have a similar range of values.\n\nscaler = preprocessing.StandardScaler().fit(X_train[:,34:]) # Because there are 35 features so 34 is used\nX_train[:,34:] = scaler.transform(X_train[:,34:])\nX_test[:,34:] = scaler.transform(X_test[:,34:])\nX_train[:2,]",
      "execution_count": null,
      "outputs": []
    },
    {
      "metadata": {
        "trusted": true
      },
      "cell_type": "code",
      "source": "# Construct the logistic regression model\n\nlogistic_mod = linear_model.LogisticRegression() \nlogistic_mod.fit(X_train, y_train)",
      "execution_count": null,
      "outputs": []
    },
    {
      "metadata": {
        "trusted": true
      },
      "cell_type": "code",
      "source": "# Construct the logistic regression model\n\nlogistic_mod = linear_model.LogisticRegression() \nlogistic_mod.fit(X_train, y_train)\n\n# Print and Examine the Model Coefficients\n\nprint(logistic_mod.intercept_)\nprint(logistic_mod.coef_)\n\n# Print Probabilities\n\nprobabilities = logistic_mod.predict_proba(X_test)\nprint(probabilities[:15,:])\n\n# Score and evaluate the classification model\n\ndef score_model(probs, threshold):\n    return np.array([1 if x > threshold else 0 for x in probs[:,1]])\nscores = score_model(probabilities, 0.5)\nprint(np.array(scores[:15]))\nprint(y_test[:15])",
      "execution_count": null,
      "outputs": []
    },
    {
      "metadata": {
        "trusted": true
      },
      "cell_type": "code",
      "source": "# Print Probabilities\n\nprobabilities = logistic_mod.predict_proba(X_test)\nprint(probabilities[:15,:])",
      "execution_count": null,
      "outputs": []
    },
    {
      "metadata": {
        "trusted": true
      },
      "cell_type": "code",
      "source": "# Score and evaluate the classification model\n\ndef score_model(probs, threshold):\n    return np.array([1 if x > threshold else 0 for x in probs[:,1]])\nscores = score_model(probabilities, 0.5)\nprint(np.array(scores[:15]))\nprint(y_test[:15])",
      "execution_count": null,
      "outputs": []
    },
    {
      "metadata": {
        "trusted": true
      },
      "cell_type": "code",
      "source": "# Model Metrics\n\ndef print_metrics(labels, scores):\n    metrics = sklm.precision_recall_fscore_support(labels, scores)\n    conf = sklm.confusion_matrix(labels, scores)\n    print('                 Confusion matrix')\n    print('                 Score positive    Score negative')\n    print('Actual positive    %6d' % conf[0,0] + '             %5d' % conf[0,1])\n    print('Actual negative    %6d' % conf[1,0] + '             %5d' % conf[1,1])\n    print('')\n    print('Accuracy  %0.2f' % sklm.accuracy_score(labels, scores))\n    print(' ')\n    print('           Positive      Negative')\n    print('Num case   %6d' % metrics[3][0] + '        %6d' % metrics[3][1])\n    print('Precision  %6.2f' % metrics[0][0] + '        %6.2f' % metrics[0][1])\n    print('Recall     %6.2f' % metrics[1][0] + '        %6.2f' % metrics[1][1])\n    print('F1         %6.2f' % metrics[2][0] + '        %6.2f' % metrics[2][1])\n\n\n    \nprint_metrics(y_test, scores)    ",
      "execution_count": null,
      "outputs": []
    },
    {
      "metadata": {
        "trusted": true
      },
      "cell_type": "code",
      "source": "# Plot AUC\n\ndef plot_auc(labels, probs):\n    ## Compute the false positive rate, true positive rate\n    ## and threshold along with the AUC\n    fpr, tpr, threshold = sklm.roc_curve(labels, probs[:,1])\n    auc = sklm.auc(fpr, tpr)\n    \n    ## Plot the result\n    plt.title('Receiver Operating Characteristic')\n    plt.plot(fpr, tpr, color = 'orange', label = 'AUC = %0.2f' % auc)\n    plt.legend(loc = 'lower right')\n    plt.plot([0, 1], [0, 1],'r--')\n    plt.xlim([0, 1])\n    plt.ylim([0, 1])\n    plt.ylabel('True Positive Rate')\n    plt.xlabel('False Positive Rate')\n    plt.show()\n    \nplot_auc(y_test, probabilities)    ",
      "execution_count": null,
      "outputs": []
    },
    {
      "metadata": {
        "trusted": true
      },
      "cell_type": "code",
      "source": "# Class Imbalance Metrics\n\nprobs_positive = np.concatenate((np.ones((probabilities.shape[0], 1)), \n                                 np.zeros((probabilities.shape[0], 1))),\n                                 axis = 1)\nscores_positive = score_model(probs_positive, 0.5) # 0.5 threshold used\nprint_metrics(y_test, scores_positive)  \nplot_auc(y_test, probs_positive) ",
      "execution_count": null,
      "outputs": []
    },
    {
      "metadata": {
        "trusted": true
      },
      "cell_type": "code",
      "source": "# Compute a Weighted Model\n\nlogistic_mod = linear_model.LogisticRegression(class_weight = {0:0.45, 1:0.55}) \nlogistic_mod.fit(X_train, y_train)",
      "execution_count": null,
      "outputs": []
    },
    {
      "metadata": {
        "trusted": true
      },
      "cell_type": "code",
      "source": "# Scores for the Weighted Model\n\nscores = score_model(probabilities, 0.5) # 0.5 threshold used\nprint_metrics(y_test, scores)  \nplot_auc(y_test, probabilities)  ",
      "execution_count": null,
      "outputs": []
    },
    {
      "metadata": {
        "trusted": true
      },
      "cell_type": "code",
      "source": "# Find a better threshold \n# Compute Using different thresholds\n\ndef test_threshold(probs, labels, threshold):\n    scores = score_model(probs, threshold)\n    print('')\n    print('For threshold = ' + str(threshold))\n    print_metrics(labels, scores)\n\nthresholds = [0.45, 0.40, 0.35, 0.3, 0.25]\nfor t in thresholds:\n    test_threshold(probabilities, y_test, t)\n\n",
      "execution_count": null,
      "outputs": []
    },
    {
      "metadata": {
        "trusted": true
      },
      "cell_type": "code",
      "source": "",
      "execution_count": null,
      "outputs": []
    }
  ],
  "metadata": {
    "kernelspec": {
      "name": "python36",
      "display_name": "Python 3.6",
      "language": "python"
    },
    "language_info": {
      "mimetype": "text/x-python",
      "nbconvert_exporter": "python",
      "name": "python",
      "pygments_lexer": "ipython3",
      "version": "3.6.6",
      "file_extension": ".py",
      "codemirror_mode": {
        "version": 3,
        "name": "ipython"
      }
    }
  },
  "nbformat": 4,
  "nbformat_minor": 2
}