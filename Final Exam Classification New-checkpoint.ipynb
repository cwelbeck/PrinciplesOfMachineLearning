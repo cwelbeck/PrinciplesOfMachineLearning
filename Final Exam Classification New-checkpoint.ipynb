{
  "cells": [
    {
      "metadata": {
        "trusted": true
      },
      "cell_type": "code",
      "source": "# Import the Dataset\n\nimport pandas as pd\nimport matplotlib.pyplot as plt\nimport seaborn as sns\nimport numpy as np\nimport numpy.random as nr\nimport math\n\n%matplotlib inline\n",
      "execution_count": 1,
      "outputs": []
    },
    {
      "metadata": {
        "trusted": true
      },
      "cell_type": "code",
      "source": "# Load the Dataset\nAdvWorksCusts = pd.read_csv('AdvWorksCustsPrep3.csv', header=None)",
      "execution_count": 39,
      "outputs": []
    },
    {
      "metadata": {
        "trusted": true
      },
      "cell_type": "code",
      "source": "# Check Datatypes for each Column\nAdvWorksCusts.dtypes",
      "execution_count": 40,
      "outputs": [
        {
          "output_type": "execute_result",
          "execution_count": 40,
          "data": {
            "text/plain": "0     object\n1     object\n2     object\n3     object\n4     object\n5     object\n6     object\n7     object\n8     object\n9     object\n10    object\n11    object\n12    object\n13    object\n14    object\n15    object\n16    object\n17    object\n18    object\n19    object\n20    object\n21    object\n22    object\ndtype: object"
          },
          "metadata": {}
        }
      ]
    },
    {
      "metadata": {
        "trusted": true
      },
      "cell_type": "code",
      "source": "AdvWorksCusts.head()",
      "execution_count": 41,
      "outputs": [
        {
          "output_type": "execute_result",
          "execution_count": 41,
          "data": {
            "text/html": "<div>\n<style scoped>\n    .dataframe tbody tr th:only-of-type {\n        vertical-align: middle;\n    }\n\n    .dataframe tbody tr th {\n        vertical-align: top;\n    }\n\n    .dataframe thead th {\n        text-align: right;\n    }\n</style>\n<table border=\"1\" class=\"dataframe\">\n  <thead>\n    <tr style=\"text-align: right;\">\n      <th></th>\n      <th>0</th>\n      <th>1</th>\n      <th>2</th>\n      <th>3</th>\n      <th>4</th>\n      <th>5</th>\n      <th>6</th>\n      <th>7</th>\n      <th>8</th>\n      <th>9</th>\n      <th>...</th>\n      <th>13</th>\n      <th>14</th>\n      <th>15</th>\n      <th>16</th>\n      <th>17</th>\n      <th>18</th>\n      <th>19</th>\n      <th>20</th>\n      <th>21</th>\n      <th>22</th>\n    </tr>\n  </thead>\n  <tbody>\n    <tr>\n      <th>0</th>\n      <td>CustomerID</td>\n      <td>Title</td>\n      <td>FirstName</td>\n      <td>MiddleName</td>\n      <td>LastName</td>\n      <td>Suffix</td>\n      <td>AddressLine1</td>\n      <td>AddressLine2</td>\n      <td>City</td>\n      <td>StateProvinceName</td>\n      <td>...</td>\n      <td>BirthDate</td>\n      <td>Education</td>\n      <td>Occupation</td>\n      <td>Gender</td>\n      <td>MaritalStatus</td>\n      <td>HomeOwnerFlag</td>\n      <td>NumberCarsOwned</td>\n      <td>NumberChildrenAtHome</td>\n      <td>TotalChildren</td>\n      <td>YearlyIncome</td>\n    </tr>\n    <tr>\n      <th>1</th>\n      <td>11000</td>\n      <td>NaN</td>\n      <td>Jon</td>\n      <td>V</td>\n      <td>Yang</td>\n      <td>NaN</td>\n      <td>3761 N. 14th St</td>\n      <td>NaN</td>\n      <td>Rockhampton</td>\n      <td>Queensland</td>\n      <td>...</td>\n      <td>1966-04-08</td>\n      <td>Bachelors</td>\n      <td>Professional</td>\n      <td>M</td>\n      <td>M</td>\n      <td>1</td>\n      <td>0</td>\n      <td>0</td>\n      <td>2</td>\n      <td>137947</td>\n    </tr>\n    <tr>\n      <th>2</th>\n      <td>11001</td>\n      <td>NaN</td>\n      <td>Eugene</td>\n      <td>L</td>\n      <td>Huang</td>\n      <td>NaN</td>\n      <td>2243 W St.</td>\n      <td>NaN</td>\n      <td>Seaford</td>\n      <td>Victoria</td>\n      <td>...</td>\n      <td>1965-05-14</td>\n      <td>Bachelors</td>\n      <td>Professional</td>\n      <td>M</td>\n      <td>S</td>\n      <td>0</td>\n      <td>1</td>\n      <td>3</td>\n      <td>3</td>\n      <td>101141</td>\n    </tr>\n    <tr>\n      <th>3</th>\n      <td>11002</td>\n      <td>NaN</td>\n      <td>Ruben</td>\n      <td>NaN</td>\n      <td>Torres</td>\n      <td>NaN</td>\n      <td>5844 Linden Land</td>\n      <td>NaN</td>\n      <td>Hobart</td>\n      <td>Tasmania</td>\n      <td>...</td>\n      <td>1965-08-12</td>\n      <td>Bachelors</td>\n      <td>Professional</td>\n      <td>M</td>\n      <td>M</td>\n      <td>1</td>\n      <td>1</td>\n      <td>3</td>\n      <td>3</td>\n      <td>91945</td>\n    </tr>\n    <tr>\n      <th>4</th>\n      <td>11003</td>\n      <td>NaN</td>\n      <td>Christy</td>\n      <td>NaN</td>\n      <td>Zhu</td>\n      <td>NaN</td>\n      <td>1825 Village Pl.</td>\n      <td>NaN</td>\n      <td>North Ryde</td>\n      <td>New South Wales</td>\n      <td>...</td>\n      <td>1968-02-15</td>\n      <td>Bachelors</td>\n      <td>Professional</td>\n      <td>F</td>\n      <td>S</td>\n      <td>0</td>\n      <td>1</td>\n      <td>0</td>\n      <td>0</td>\n      <td>86688</td>\n    </tr>\n  </tbody>\n</table>\n<p>5 rows × 23 columns</p>\n</div>",
            "text/plain": "           0      1          2           3         4       5   \\\n0  CustomerID  Title  FirstName  MiddleName  LastName  Suffix   \n1       11000    NaN        Jon           V      Yang     NaN   \n2       11001    NaN     Eugene           L     Huang     NaN   \n3       11002    NaN      Ruben         NaN    Torres     NaN   \n4       11003    NaN    Christy         NaN       Zhu     NaN   \n\n                 6             7            8                  9   \\\n0      AddressLine1  AddressLine2         City  StateProvinceName   \n1   3761 N. 14th St           NaN  Rockhampton         Queensland   \n2        2243 W St.           NaN      Seaford           Victoria   \n3  5844 Linden Land           NaN       Hobart           Tasmania   \n4  1825 Village Pl.           NaN   North Ryde    New South Wales   \n\n       ...               13          14            15      16             17  \\\n0      ...        BirthDate   Education    Occupation  Gender  MaritalStatus   \n1      ...       1966-04-08  Bachelors   Professional       M              M   \n2      ...       1965-05-14  Bachelors   Professional       M              S   \n3      ...       1965-08-12  Bachelors   Professional       M              M   \n4      ...       1968-02-15  Bachelors   Professional       F              S   \n\n              18               19                    20             21  \\\n0  HomeOwnerFlag  NumberCarsOwned  NumberChildrenAtHome  TotalChildren   \n1              1                0                     0              2   \n2              0                1                     3              3   \n3              1                1                     3              3   \n4              0                1                     0              0   \n\n             22  \n0  YearlyIncome  \n1        137947  \n2        101141  \n3         91945  \n4         86688  \n\n[5 rows x 23 columns]"
          },
          "metadata": {}
        }
      ]
    },
    {
      "metadata": {
        "trusted": true
      },
      "cell_type": "code",
      "source": "# Make first row the header\n\nnew_header = AdvWorksCusts.iloc[0] #grab the first row for the header\nAdvWorksCusts = AdvWorksCusts[1:] #take the data less the header row\nAdvWorksCusts.columns = new_header #set the header row as the df header\n\nAdvWorksCusts.head()",
      "execution_count": 42,
      "outputs": [
        {
          "output_type": "execute_result",
          "execution_count": 42,
          "data": {
            "text/html": "<div>\n<style scoped>\n    .dataframe tbody tr th:only-of-type {\n        vertical-align: middle;\n    }\n\n    .dataframe tbody tr th {\n        vertical-align: top;\n    }\n\n    .dataframe thead th {\n        text-align: right;\n    }\n</style>\n<table border=\"1\" class=\"dataframe\">\n  <thead>\n    <tr style=\"text-align: right;\">\n      <th></th>\n      <th>CustomerID</th>\n      <th>Title</th>\n      <th>FirstName</th>\n      <th>MiddleName</th>\n      <th>LastName</th>\n      <th>Suffix</th>\n      <th>AddressLine1</th>\n      <th>AddressLine2</th>\n      <th>City</th>\n      <th>StateProvinceName</th>\n      <th>...</th>\n      <th>BirthDate</th>\n      <th>Education</th>\n      <th>Occupation</th>\n      <th>Gender</th>\n      <th>MaritalStatus</th>\n      <th>HomeOwnerFlag</th>\n      <th>NumberCarsOwned</th>\n      <th>NumberChildrenAtHome</th>\n      <th>TotalChildren</th>\n      <th>YearlyIncome</th>\n    </tr>\n  </thead>\n  <tbody>\n    <tr>\n      <th>1</th>\n      <td>11000</td>\n      <td>NaN</td>\n      <td>Jon</td>\n      <td>V</td>\n      <td>Yang</td>\n      <td>NaN</td>\n      <td>3761 N. 14th St</td>\n      <td>NaN</td>\n      <td>Rockhampton</td>\n      <td>Queensland</td>\n      <td>...</td>\n      <td>1966-04-08</td>\n      <td>Bachelors</td>\n      <td>Professional</td>\n      <td>M</td>\n      <td>M</td>\n      <td>1</td>\n      <td>0</td>\n      <td>0</td>\n      <td>2</td>\n      <td>137947</td>\n    </tr>\n    <tr>\n      <th>2</th>\n      <td>11001</td>\n      <td>NaN</td>\n      <td>Eugene</td>\n      <td>L</td>\n      <td>Huang</td>\n      <td>NaN</td>\n      <td>2243 W St.</td>\n      <td>NaN</td>\n      <td>Seaford</td>\n      <td>Victoria</td>\n      <td>...</td>\n      <td>1965-05-14</td>\n      <td>Bachelors</td>\n      <td>Professional</td>\n      <td>M</td>\n      <td>S</td>\n      <td>0</td>\n      <td>1</td>\n      <td>3</td>\n      <td>3</td>\n      <td>101141</td>\n    </tr>\n    <tr>\n      <th>3</th>\n      <td>11002</td>\n      <td>NaN</td>\n      <td>Ruben</td>\n      <td>NaN</td>\n      <td>Torres</td>\n      <td>NaN</td>\n      <td>5844 Linden Land</td>\n      <td>NaN</td>\n      <td>Hobart</td>\n      <td>Tasmania</td>\n      <td>...</td>\n      <td>1965-08-12</td>\n      <td>Bachelors</td>\n      <td>Professional</td>\n      <td>M</td>\n      <td>M</td>\n      <td>1</td>\n      <td>1</td>\n      <td>3</td>\n      <td>3</td>\n      <td>91945</td>\n    </tr>\n    <tr>\n      <th>4</th>\n      <td>11003</td>\n      <td>NaN</td>\n      <td>Christy</td>\n      <td>NaN</td>\n      <td>Zhu</td>\n      <td>NaN</td>\n      <td>1825 Village Pl.</td>\n      <td>NaN</td>\n      <td>North Ryde</td>\n      <td>New South Wales</td>\n      <td>...</td>\n      <td>1968-02-15</td>\n      <td>Bachelors</td>\n      <td>Professional</td>\n      <td>F</td>\n      <td>S</td>\n      <td>0</td>\n      <td>1</td>\n      <td>0</td>\n      <td>0</td>\n      <td>86688</td>\n    </tr>\n    <tr>\n      <th>5</th>\n      <td>11004</td>\n      <td>NaN</td>\n      <td>Elizabeth</td>\n      <td>NaN</td>\n      <td>Johnson</td>\n      <td>NaN</td>\n      <td>7553 Harness Circle</td>\n      <td>NaN</td>\n      <td>Wollongong</td>\n      <td>New South Wales</td>\n      <td>...</td>\n      <td>1968-08-08</td>\n      <td>Bachelors</td>\n      <td>Professional</td>\n      <td>F</td>\n      <td>S</td>\n      <td>1</td>\n      <td>4</td>\n      <td>5</td>\n      <td>5</td>\n      <td>92771</td>\n    </tr>\n  </tbody>\n</table>\n<p>5 rows × 23 columns</p>\n</div>",
            "text/plain": "0 CustomerID Title  FirstName MiddleName LastName Suffix         AddressLine1  \\\n1      11000   NaN        Jon          V     Yang    NaN      3761 N. 14th St   \n2      11001   NaN     Eugene          L    Huang    NaN           2243 W St.   \n3      11002   NaN      Ruben        NaN   Torres    NaN     5844 Linden Land   \n4      11003   NaN    Christy        NaN      Zhu    NaN     1825 Village Pl.   \n5      11004   NaN  Elizabeth        NaN  Johnson    NaN  7553 Harness Circle   \n\n0 AddressLine2         City StateProvinceName     ...        BirthDate  \\\n1          NaN  Rockhampton        Queensland     ...       1966-04-08   \n2          NaN      Seaford          Victoria     ...       1965-05-14   \n3          NaN       Hobart          Tasmania     ...       1965-08-12   \n4          NaN   North Ryde   New South Wales     ...       1968-02-15   \n5          NaN   Wollongong   New South Wales     ...       1968-08-08   \n\n0   Education    Occupation Gender MaritalStatus HomeOwnerFlag  \\\n1  Bachelors   Professional      M             M             1   \n2  Bachelors   Professional      M             S             0   \n3  Bachelors   Professional      M             M             1   \n4  Bachelors   Professional      F             S             0   \n5  Bachelors   Professional      F             S             1   \n\n0 NumberCarsOwned NumberChildrenAtHome TotalChildren YearlyIncome  \n1               0                    0             2       137947  \n2               1                    3             3       101141  \n3               1                    3             3        91945  \n4               1                    0             0        86688  \n5               4                    5             5        92771  \n\n[5 rows x 23 columns]"
          },
          "metadata": {}
        }
      ]
    },
    {
      "metadata": {
        "trusted": true
      },
      "cell_type": "code",
      "source": "# Remove Duplicate Rows\n\nAdvWorksCusts.drop_duplicates(subset = 'CustomerID', keep = 'first', inplace = True)\nprint(AdvWorksCusts.shape)\nprint(AdvWorksCusts.CustomerID.unique().shape)",
      "execution_count": 43,
      "outputs": [
        {
          "output_type": "stream",
          "text": "(16404, 23)\n(16404,)\n",
          "name": "stdout"
        }
      ]
    },
    {
      "metadata": {
        "trusted": true
      },
      "cell_type": "code",
      "source": "AdvWorksCusts.head()",
      "execution_count": 44,
      "outputs": [
        {
          "output_type": "execute_result",
          "execution_count": 44,
          "data": {
            "text/html": "<div>\n<style scoped>\n    .dataframe tbody tr th:only-of-type {\n        vertical-align: middle;\n    }\n\n    .dataframe tbody tr th {\n        vertical-align: top;\n    }\n\n    .dataframe thead th {\n        text-align: right;\n    }\n</style>\n<table border=\"1\" class=\"dataframe\">\n  <thead>\n    <tr style=\"text-align: right;\">\n      <th></th>\n      <th>CustomerID</th>\n      <th>Title</th>\n      <th>FirstName</th>\n      <th>MiddleName</th>\n      <th>LastName</th>\n      <th>Suffix</th>\n      <th>AddressLine1</th>\n      <th>AddressLine2</th>\n      <th>City</th>\n      <th>StateProvinceName</th>\n      <th>...</th>\n      <th>BirthDate</th>\n      <th>Education</th>\n      <th>Occupation</th>\n      <th>Gender</th>\n      <th>MaritalStatus</th>\n      <th>HomeOwnerFlag</th>\n      <th>NumberCarsOwned</th>\n      <th>NumberChildrenAtHome</th>\n      <th>TotalChildren</th>\n      <th>YearlyIncome</th>\n    </tr>\n  </thead>\n  <tbody>\n    <tr>\n      <th>1</th>\n      <td>11000</td>\n      <td>NaN</td>\n      <td>Jon</td>\n      <td>V</td>\n      <td>Yang</td>\n      <td>NaN</td>\n      <td>3761 N. 14th St</td>\n      <td>NaN</td>\n      <td>Rockhampton</td>\n      <td>Queensland</td>\n      <td>...</td>\n      <td>1966-04-08</td>\n      <td>Bachelors</td>\n      <td>Professional</td>\n      <td>M</td>\n      <td>M</td>\n      <td>1</td>\n      <td>0</td>\n      <td>0</td>\n      <td>2</td>\n      <td>137947</td>\n    </tr>\n    <tr>\n      <th>2</th>\n      <td>11001</td>\n      <td>NaN</td>\n      <td>Eugene</td>\n      <td>L</td>\n      <td>Huang</td>\n      <td>NaN</td>\n      <td>2243 W St.</td>\n      <td>NaN</td>\n      <td>Seaford</td>\n      <td>Victoria</td>\n      <td>...</td>\n      <td>1965-05-14</td>\n      <td>Bachelors</td>\n      <td>Professional</td>\n      <td>M</td>\n      <td>S</td>\n      <td>0</td>\n      <td>1</td>\n      <td>3</td>\n      <td>3</td>\n      <td>101141</td>\n    </tr>\n    <tr>\n      <th>3</th>\n      <td>11002</td>\n      <td>NaN</td>\n      <td>Ruben</td>\n      <td>NaN</td>\n      <td>Torres</td>\n      <td>NaN</td>\n      <td>5844 Linden Land</td>\n      <td>NaN</td>\n      <td>Hobart</td>\n      <td>Tasmania</td>\n      <td>...</td>\n      <td>1965-08-12</td>\n      <td>Bachelors</td>\n      <td>Professional</td>\n      <td>M</td>\n      <td>M</td>\n      <td>1</td>\n      <td>1</td>\n      <td>3</td>\n      <td>3</td>\n      <td>91945</td>\n    </tr>\n    <tr>\n      <th>4</th>\n      <td>11003</td>\n      <td>NaN</td>\n      <td>Christy</td>\n      <td>NaN</td>\n      <td>Zhu</td>\n      <td>NaN</td>\n      <td>1825 Village Pl.</td>\n      <td>NaN</td>\n      <td>North Ryde</td>\n      <td>New South Wales</td>\n      <td>...</td>\n      <td>1968-02-15</td>\n      <td>Bachelors</td>\n      <td>Professional</td>\n      <td>F</td>\n      <td>S</td>\n      <td>0</td>\n      <td>1</td>\n      <td>0</td>\n      <td>0</td>\n      <td>86688</td>\n    </tr>\n    <tr>\n      <th>5</th>\n      <td>11004</td>\n      <td>NaN</td>\n      <td>Elizabeth</td>\n      <td>NaN</td>\n      <td>Johnson</td>\n      <td>NaN</td>\n      <td>7553 Harness Circle</td>\n      <td>NaN</td>\n      <td>Wollongong</td>\n      <td>New South Wales</td>\n      <td>...</td>\n      <td>1968-08-08</td>\n      <td>Bachelors</td>\n      <td>Professional</td>\n      <td>F</td>\n      <td>S</td>\n      <td>1</td>\n      <td>4</td>\n      <td>5</td>\n      <td>5</td>\n      <td>92771</td>\n    </tr>\n  </tbody>\n</table>\n<p>5 rows × 23 columns</p>\n</div>",
            "text/plain": "0 CustomerID Title  FirstName MiddleName LastName Suffix         AddressLine1  \\\n1      11000   NaN        Jon          V     Yang    NaN      3761 N. 14th St   \n2      11001   NaN     Eugene          L    Huang    NaN           2243 W St.   \n3      11002   NaN      Ruben        NaN   Torres    NaN     5844 Linden Land   \n4      11003   NaN    Christy        NaN      Zhu    NaN     1825 Village Pl.   \n5      11004   NaN  Elizabeth        NaN  Johnson    NaN  7553 Harness Circle   \n\n0 AddressLine2         City StateProvinceName     ...        BirthDate  \\\n1          NaN  Rockhampton        Queensland     ...       1966-04-08   \n2          NaN      Seaford          Victoria     ...       1965-05-14   \n3          NaN       Hobart          Tasmania     ...       1965-08-12   \n4          NaN   North Ryde   New South Wales     ...       1968-02-15   \n5          NaN   Wollongong   New South Wales     ...       1968-08-08   \n\n0   Education    Occupation Gender MaritalStatus HomeOwnerFlag  \\\n1  Bachelors   Professional      M             M             1   \n2  Bachelors   Professional      M             S             0   \n3  Bachelors   Professional      M             M             1   \n4  Bachelors   Professional      F             S             0   \n5  Bachelors   Professional      F             S             1   \n\n0 NumberCarsOwned NumberChildrenAtHome TotalChildren YearlyIncome  \n1               0                    0             2       137947  \n2               1                    3             3       101141  \n3               1                    3             3        91945  \n4               1                    0             0        86688  \n5               4                    5             5        92771  \n\n[5 rows x 23 columns]"
          },
          "metadata": {}
        }
      ]
    },
    {
      "metadata": {
        "trusted": true
      },
      "cell_type": "code",
      "source": "# Select the Last 14 Columns \n\nAdvWorksCusts = AdvWorksCusts[AdvWorksCusts.columns[-15:]]",
      "execution_count": 25,
      "outputs": []
    },
    {
      "metadata": {
        "trusted": true
      },
      "cell_type": "code",
      "source": "AdvWorksCusts.head()",
      "execution_count": 26,
      "outputs": [
        {
          "output_type": "execute_result",
          "execution_count": 26,
          "data": {
            "text/html": "<div>\n<style scoped>\n    .dataframe tbody tr th:only-of-type {\n        vertical-align: middle;\n    }\n\n    .dataframe tbody tr th {\n        vertical-align: top;\n    }\n\n    .dataframe thead th {\n        text-align: right;\n    }\n</style>\n<table border=\"1\" class=\"dataframe\">\n  <thead>\n    <tr style=\"text-align: right;\">\n      <th></th>\n      <th>StateProvinceName</th>\n      <th>CountryRegionName</th>\n      <th>PostalCode</th>\n      <th>PhoneNumber</th>\n      <th>BirthDate</th>\n      <th>Education</th>\n      <th>Occupation</th>\n      <th>Gender</th>\n      <th>MaritalStatus</th>\n      <th>HomeOwnerFlag</th>\n      <th>NumberCarsOwned</th>\n      <th>NumberChildrenAtHome</th>\n      <th>TotalChildren</th>\n      <th>YearlyIncome</th>\n    </tr>\n  </thead>\n  <tbody>\n    <tr>\n      <th>1</th>\n      <td>Queensland</td>\n      <td>Australia</td>\n      <td>4700</td>\n      <td>1 (11) 500 555-0162</td>\n      <td>1966-04-08</td>\n      <td>Bachelors</td>\n      <td>Professional</td>\n      <td>M</td>\n      <td>M</td>\n      <td>1</td>\n      <td>0</td>\n      <td>0</td>\n      <td>2</td>\n      <td>137947</td>\n    </tr>\n    <tr>\n      <th>2</th>\n      <td>Victoria</td>\n      <td>Australia</td>\n      <td>3198</td>\n      <td>1 (11) 500 555-0110</td>\n      <td>1965-05-14</td>\n      <td>Bachelors</td>\n      <td>Professional</td>\n      <td>M</td>\n      <td>S</td>\n      <td>0</td>\n      <td>1</td>\n      <td>3</td>\n      <td>3</td>\n      <td>101141</td>\n    </tr>\n    <tr>\n      <th>3</th>\n      <td>Tasmania</td>\n      <td>Australia</td>\n      <td>7001</td>\n      <td>1 (11) 500 555-0184</td>\n      <td>1965-08-12</td>\n      <td>Bachelors</td>\n      <td>Professional</td>\n      <td>M</td>\n      <td>M</td>\n      <td>1</td>\n      <td>1</td>\n      <td>3</td>\n      <td>3</td>\n      <td>91945</td>\n    </tr>\n    <tr>\n      <th>4</th>\n      <td>New South Wales</td>\n      <td>Australia</td>\n      <td>2113</td>\n      <td>1 (11) 500 555-0162</td>\n      <td>1968-02-15</td>\n      <td>Bachelors</td>\n      <td>Professional</td>\n      <td>F</td>\n      <td>S</td>\n      <td>0</td>\n      <td>1</td>\n      <td>0</td>\n      <td>0</td>\n      <td>86688</td>\n    </tr>\n    <tr>\n      <th>5</th>\n      <td>New South Wales</td>\n      <td>Australia</td>\n      <td>2500</td>\n      <td>1 (11) 500 555-0131</td>\n      <td>1968-08-08</td>\n      <td>Bachelors</td>\n      <td>Professional</td>\n      <td>F</td>\n      <td>S</td>\n      <td>1</td>\n      <td>4</td>\n      <td>5</td>\n      <td>5</td>\n      <td>92771</td>\n    </tr>\n  </tbody>\n</table>\n</div>",
            "text/plain": "0 StateProvinceName CountryRegionName PostalCode          PhoneNumber  \\\n1        Queensland         Australia       4700  1 (11) 500 555-0162   \n2          Victoria         Australia       3198  1 (11) 500 555-0110   \n3          Tasmania         Australia       7001  1 (11) 500 555-0184   \n4   New South Wales         Australia       2113  1 (11) 500 555-0162   \n5   New South Wales         Australia       2500  1 (11) 500 555-0131   \n\n0   BirthDate   Education    Occupation Gender MaritalStatus HomeOwnerFlag  \\\n1  1966-04-08  Bachelors   Professional      M             M             1   \n2  1965-05-14  Bachelors   Professional      M             S             0   \n3  1965-08-12  Bachelors   Professional      M             M             1   \n4  1968-02-15  Bachelors   Professional      F             S             0   \n5  1968-08-08  Bachelors   Professional      F             S             1   \n\n0 NumberCarsOwned NumberChildrenAtHome TotalChildren YearlyIncome  \n1               0                    0             2       137947  \n2               1                    3             3       101141  \n3               1                    3             3        91945  \n4               1                    0             0        86688  \n5               4                    5             5        92771  "
          },
          "metadata": {}
        }
      ]
    },
    {
      "metadata": {
        "trusted": true
      },
      "cell_type": "code",
      "source": "# Drop Columns not needed\n\nAdvWorksCusts = AdvWorksCusts.drop(['PhoneNumber'], axis=1)\n",
      "execution_count": 45,
      "outputs": []
    },
    {
      "metadata": {
        "trusted": true
      },
      "cell_type": "code",
      "source": "AdvWorksCusts.head()",
      "execution_count": 46,
      "outputs": [
        {
          "output_type": "execute_result",
          "execution_count": 46,
          "data": {
            "text/html": "<div>\n<style scoped>\n    .dataframe tbody tr th:only-of-type {\n        vertical-align: middle;\n    }\n\n    .dataframe tbody tr th {\n        vertical-align: top;\n    }\n\n    .dataframe thead th {\n        text-align: right;\n    }\n</style>\n<table border=\"1\" class=\"dataframe\">\n  <thead>\n    <tr style=\"text-align: right;\">\n      <th></th>\n      <th>CustomerID</th>\n      <th>Title</th>\n      <th>FirstName</th>\n      <th>MiddleName</th>\n      <th>LastName</th>\n      <th>Suffix</th>\n      <th>AddressLine1</th>\n      <th>AddressLine2</th>\n      <th>City</th>\n      <th>StateProvinceName</th>\n      <th>...</th>\n      <th>BirthDate</th>\n      <th>Education</th>\n      <th>Occupation</th>\n      <th>Gender</th>\n      <th>MaritalStatus</th>\n      <th>HomeOwnerFlag</th>\n      <th>NumberCarsOwned</th>\n      <th>NumberChildrenAtHome</th>\n      <th>TotalChildren</th>\n      <th>YearlyIncome</th>\n    </tr>\n  </thead>\n  <tbody>\n    <tr>\n      <th>1</th>\n      <td>11000</td>\n      <td>NaN</td>\n      <td>Jon</td>\n      <td>V</td>\n      <td>Yang</td>\n      <td>NaN</td>\n      <td>3761 N. 14th St</td>\n      <td>NaN</td>\n      <td>Rockhampton</td>\n      <td>Queensland</td>\n      <td>...</td>\n      <td>1966-04-08</td>\n      <td>Bachelors</td>\n      <td>Professional</td>\n      <td>M</td>\n      <td>M</td>\n      <td>1</td>\n      <td>0</td>\n      <td>0</td>\n      <td>2</td>\n      <td>137947</td>\n    </tr>\n    <tr>\n      <th>2</th>\n      <td>11001</td>\n      <td>NaN</td>\n      <td>Eugene</td>\n      <td>L</td>\n      <td>Huang</td>\n      <td>NaN</td>\n      <td>2243 W St.</td>\n      <td>NaN</td>\n      <td>Seaford</td>\n      <td>Victoria</td>\n      <td>...</td>\n      <td>1965-05-14</td>\n      <td>Bachelors</td>\n      <td>Professional</td>\n      <td>M</td>\n      <td>S</td>\n      <td>0</td>\n      <td>1</td>\n      <td>3</td>\n      <td>3</td>\n      <td>101141</td>\n    </tr>\n    <tr>\n      <th>3</th>\n      <td>11002</td>\n      <td>NaN</td>\n      <td>Ruben</td>\n      <td>NaN</td>\n      <td>Torres</td>\n      <td>NaN</td>\n      <td>5844 Linden Land</td>\n      <td>NaN</td>\n      <td>Hobart</td>\n      <td>Tasmania</td>\n      <td>...</td>\n      <td>1965-08-12</td>\n      <td>Bachelors</td>\n      <td>Professional</td>\n      <td>M</td>\n      <td>M</td>\n      <td>1</td>\n      <td>1</td>\n      <td>3</td>\n      <td>3</td>\n      <td>91945</td>\n    </tr>\n    <tr>\n      <th>4</th>\n      <td>11003</td>\n      <td>NaN</td>\n      <td>Christy</td>\n      <td>NaN</td>\n      <td>Zhu</td>\n      <td>NaN</td>\n      <td>1825 Village Pl.</td>\n      <td>NaN</td>\n      <td>North Ryde</td>\n      <td>New South Wales</td>\n      <td>...</td>\n      <td>1968-02-15</td>\n      <td>Bachelors</td>\n      <td>Professional</td>\n      <td>F</td>\n      <td>S</td>\n      <td>0</td>\n      <td>1</td>\n      <td>0</td>\n      <td>0</td>\n      <td>86688</td>\n    </tr>\n    <tr>\n      <th>5</th>\n      <td>11004</td>\n      <td>NaN</td>\n      <td>Elizabeth</td>\n      <td>NaN</td>\n      <td>Johnson</td>\n      <td>NaN</td>\n      <td>7553 Harness Circle</td>\n      <td>NaN</td>\n      <td>Wollongong</td>\n      <td>New South Wales</td>\n      <td>...</td>\n      <td>1968-08-08</td>\n      <td>Bachelors</td>\n      <td>Professional</td>\n      <td>F</td>\n      <td>S</td>\n      <td>1</td>\n      <td>4</td>\n      <td>5</td>\n      <td>5</td>\n      <td>92771</td>\n    </tr>\n  </tbody>\n</table>\n<p>5 rows × 22 columns</p>\n</div>",
            "text/plain": "0 CustomerID Title  FirstName MiddleName LastName Suffix         AddressLine1  \\\n1      11000   NaN        Jon          V     Yang    NaN      3761 N. 14th St   \n2      11001   NaN     Eugene          L    Huang    NaN           2243 W St.   \n3      11002   NaN      Ruben        NaN   Torres    NaN     5844 Linden Land   \n4      11003   NaN    Christy        NaN      Zhu    NaN     1825 Village Pl.   \n5      11004   NaN  Elizabeth        NaN  Johnson    NaN  7553 Harness Circle   \n\n0 AddressLine2         City StateProvinceName     ...        BirthDate  \\\n1          NaN  Rockhampton        Queensland     ...       1966-04-08   \n2          NaN      Seaford          Victoria     ...       1965-05-14   \n3          NaN       Hobart          Tasmania     ...       1965-08-12   \n4          NaN   North Ryde   New South Wales     ...       1968-02-15   \n5          NaN   Wollongong   New South Wales     ...       1968-08-08   \n\n0   Education    Occupation Gender MaritalStatus HomeOwnerFlag  \\\n1  Bachelors   Professional      M             M             1   \n2  Bachelors   Professional      M             S             0   \n3  Bachelors   Professional      M             M             1   \n4  Bachelors   Professional      F             S             0   \n5  Bachelors   Professional      F             S             1   \n\n0 NumberCarsOwned NumberChildrenAtHome TotalChildren YearlyIncome  \n1               0                    0             2       137947  \n2               1                    3             3       101141  \n3               1                    3             3        91945  \n4               1                    0             0        86688  \n5               4                    5             5        92771  \n\n[5 rows x 22 columns]"
          },
          "metadata": {}
        }
      ]
    },
    {
      "metadata": {
        "trusted": true
      },
      "cell_type": "code",
      "source": "AdvWorksCusts['BirthDate'] = pd.to_datetime(AdvWorksCusts['BirthDate'])",
      "execution_count": 37,
      "outputs": []
    },
    {
      "metadata": {
        "trusted": true
      },
      "cell_type": "code",
      "source": "# Convert Birthdate to Age\n\n#from datetime import datetime\n#from datetime import date\n\n\n# Convert Date Of Birth to Time\n# AdvWorksCusts['BirthDate'] = AdvWorksCusts['BirthDate'].astype('datetime64[ns]')\n\ndef calculate_age(born):\n    born = datetime.strptime(born, \"%d.%m.%Y\").date()\n    today = date.today()\n    return today.year - born.year - ((today.month, today.day) < (born.month, born.day))\n\nAdvWorksCusts['BirthDate'] = AdvWorksCusts['BirthDate'].apply(calculate_age)\nprint(AdvWorksCusts)",
      "execution_count": 47,
      "outputs": [
        {
          "output_type": "error",
          "ename": "ValueError",
          "evalue": "time data '1966-04-08' does not match format '%d.%m.%Y'",
          "traceback": [
            "\u001b[0;31m---------------------------------------------------------------------------\u001b[0m",
            "\u001b[0;31mValueError\u001b[0m                                Traceback (most recent call last)",
            "\u001b[0;32m<ipython-input-47-25f834850440>\u001b[0m in \u001b[0;36m<module>\u001b[0;34m\u001b[0m\n\u001b[1;32m     13\u001b[0m     \u001b[0;32mreturn\u001b[0m \u001b[0mtoday\u001b[0m\u001b[0;34m.\u001b[0m\u001b[0myear\u001b[0m \u001b[0;34m-\u001b[0m \u001b[0mborn\u001b[0m\u001b[0;34m.\u001b[0m\u001b[0myear\u001b[0m \u001b[0;34m-\u001b[0m \u001b[0;34m(\u001b[0m\u001b[0;34m(\u001b[0m\u001b[0mtoday\u001b[0m\u001b[0;34m.\u001b[0m\u001b[0mmonth\u001b[0m\u001b[0;34m,\u001b[0m \u001b[0mtoday\u001b[0m\u001b[0;34m.\u001b[0m\u001b[0mday\u001b[0m\u001b[0;34m)\u001b[0m \u001b[0;34m<\u001b[0m \u001b[0;34m(\u001b[0m\u001b[0mborn\u001b[0m\u001b[0;34m.\u001b[0m\u001b[0mmonth\u001b[0m\u001b[0;34m,\u001b[0m \u001b[0mborn\u001b[0m\u001b[0;34m.\u001b[0m\u001b[0mday\u001b[0m\u001b[0;34m)\u001b[0m\u001b[0;34m)\u001b[0m\u001b[0;34m\u001b[0m\u001b[0m\n\u001b[1;32m     14\u001b[0m \u001b[0;34m\u001b[0m\u001b[0m\n\u001b[0;32m---> 15\u001b[0;31m \u001b[0mAdvWorksCusts\u001b[0m\u001b[0;34m[\u001b[0m\u001b[0;34m'BirthDate'\u001b[0m\u001b[0;34m]\u001b[0m \u001b[0;34m=\u001b[0m \u001b[0mAdvWorksCusts\u001b[0m\u001b[0;34m[\u001b[0m\u001b[0;34m'BirthDate'\u001b[0m\u001b[0;34m]\u001b[0m\u001b[0;34m.\u001b[0m\u001b[0mapply\u001b[0m\u001b[0;34m(\u001b[0m\u001b[0mcalculate_age\u001b[0m\u001b[0;34m)\u001b[0m\u001b[0;34m\u001b[0m\u001b[0m\n\u001b[0m\u001b[1;32m     16\u001b[0m \u001b[0mprint\u001b[0m\u001b[0;34m(\u001b[0m\u001b[0mAdvWorksCusts\u001b[0m\u001b[0;34m)\u001b[0m\u001b[0;34m\u001b[0m\u001b[0m\n",
            "\u001b[0;32m~/anaconda3_501/lib/python3.6/site-packages/pandas/core/series.py\u001b[0m in \u001b[0;36mapply\u001b[0;34m(self, func, convert_dtype, args, **kwds)\u001b[0m\n\u001b[1;32m   3192\u001b[0m             \u001b[0;32melse\u001b[0m\u001b[0;34m:\u001b[0m\u001b[0;34m\u001b[0m\u001b[0m\n\u001b[1;32m   3193\u001b[0m                 \u001b[0mvalues\u001b[0m \u001b[0;34m=\u001b[0m \u001b[0mself\u001b[0m\u001b[0;34m.\u001b[0m\u001b[0mastype\u001b[0m\u001b[0;34m(\u001b[0m\u001b[0mobject\u001b[0m\u001b[0;34m)\u001b[0m\u001b[0;34m.\u001b[0m\u001b[0mvalues\u001b[0m\u001b[0;34m\u001b[0m\u001b[0m\n\u001b[0;32m-> 3194\u001b[0;31m                 \u001b[0mmapped\u001b[0m \u001b[0;34m=\u001b[0m \u001b[0mlib\u001b[0m\u001b[0;34m.\u001b[0m\u001b[0mmap_infer\u001b[0m\u001b[0;34m(\u001b[0m\u001b[0mvalues\u001b[0m\u001b[0;34m,\u001b[0m \u001b[0mf\u001b[0m\u001b[0;34m,\u001b[0m \u001b[0mconvert\u001b[0m\u001b[0;34m=\u001b[0m\u001b[0mconvert_dtype\u001b[0m\u001b[0;34m)\u001b[0m\u001b[0;34m\u001b[0m\u001b[0m\n\u001b[0m\u001b[1;32m   3195\u001b[0m \u001b[0;34m\u001b[0m\u001b[0m\n\u001b[1;32m   3196\u001b[0m         \u001b[0;32mif\u001b[0m \u001b[0mlen\u001b[0m\u001b[0;34m(\u001b[0m\u001b[0mmapped\u001b[0m\u001b[0;34m)\u001b[0m \u001b[0;32mand\u001b[0m \u001b[0misinstance\u001b[0m\u001b[0;34m(\u001b[0m\u001b[0mmapped\u001b[0m\u001b[0;34m[\u001b[0m\u001b[0;36m0\u001b[0m\u001b[0;34m]\u001b[0m\u001b[0;34m,\u001b[0m \u001b[0mSeries\u001b[0m\u001b[0;34m)\u001b[0m\u001b[0;34m:\u001b[0m\u001b[0;34m\u001b[0m\u001b[0m\n",
            "\u001b[0;32mpandas/_libs/src/inference.pyx\u001b[0m in \u001b[0;36mpandas._libs.lib.map_infer\u001b[0;34m()\u001b[0m\n",
            "\u001b[0;32m<ipython-input-47-25f834850440>\u001b[0m in \u001b[0;36mcalculate_age\u001b[0;34m(born)\u001b[0m\n\u001b[1;32m      9\u001b[0m \u001b[0;34m\u001b[0m\u001b[0m\n\u001b[1;32m     10\u001b[0m \u001b[0;32mdef\u001b[0m \u001b[0mcalculate_age\u001b[0m\u001b[0;34m(\u001b[0m\u001b[0mborn\u001b[0m\u001b[0;34m)\u001b[0m\u001b[0;34m:\u001b[0m\u001b[0;34m\u001b[0m\u001b[0m\n\u001b[0;32m---> 11\u001b[0;31m     \u001b[0mborn\u001b[0m \u001b[0;34m=\u001b[0m \u001b[0mdatetime\u001b[0m\u001b[0;34m.\u001b[0m\u001b[0mstrptime\u001b[0m\u001b[0;34m(\u001b[0m\u001b[0mborn\u001b[0m\u001b[0;34m,\u001b[0m \u001b[0;34m\"%d.%m.%Y\"\u001b[0m\u001b[0;34m)\u001b[0m\u001b[0;34m.\u001b[0m\u001b[0mdate\u001b[0m\u001b[0;34m(\u001b[0m\u001b[0;34m)\u001b[0m\u001b[0;34m\u001b[0m\u001b[0m\n\u001b[0m\u001b[1;32m     12\u001b[0m     \u001b[0mtoday\u001b[0m \u001b[0;34m=\u001b[0m \u001b[0mdate\u001b[0m\u001b[0;34m.\u001b[0m\u001b[0mtoday\u001b[0m\u001b[0;34m(\u001b[0m\u001b[0;34m)\u001b[0m\u001b[0;34m\u001b[0m\u001b[0m\n\u001b[1;32m     13\u001b[0m     \u001b[0;32mreturn\u001b[0m \u001b[0mtoday\u001b[0m\u001b[0;34m.\u001b[0m\u001b[0myear\u001b[0m \u001b[0;34m-\u001b[0m \u001b[0mborn\u001b[0m\u001b[0;34m.\u001b[0m\u001b[0myear\u001b[0m \u001b[0;34m-\u001b[0m \u001b[0;34m(\u001b[0m\u001b[0;34m(\u001b[0m\u001b[0mtoday\u001b[0m\u001b[0;34m.\u001b[0m\u001b[0mmonth\u001b[0m\u001b[0;34m,\u001b[0m \u001b[0mtoday\u001b[0m\u001b[0;34m.\u001b[0m\u001b[0mday\u001b[0m\u001b[0;34m)\u001b[0m \u001b[0;34m<\u001b[0m \u001b[0;34m(\u001b[0m\u001b[0mborn\u001b[0m\u001b[0;34m.\u001b[0m\u001b[0mmonth\u001b[0m\u001b[0;34m,\u001b[0m \u001b[0mborn\u001b[0m\u001b[0;34m.\u001b[0m\u001b[0mday\u001b[0m\u001b[0;34m)\u001b[0m\u001b[0;34m)\u001b[0m\u001b[0;34m\u001b[0m\u001b[0m\n",
            "\u001b[0;32m~/anaconda3_501/lib/python3.6/_strptime.py\u001b[0m in \u001b[0;36m_strptime_datetime\u001b[0;34m(cls, data_string, format)\u001b[0m\n\u001b[1;32m    563\u001b[0m     \"\"\"Return a class cls instance based on the input string and the\n\u001b[1;32m    564\u001b[0m     format string.\"\"\"\n\u001b[0;32m--> 565\u001b[0;31m     \u001b[0mtt\u001b[0m\u001b[0;34m,\u001b[0m \u001b[0mfraction\u001b[0m \u001b[0;34m=\u001b[0m \u001b[0m_strptime\u001b[0m\u001b[0;34m(\u001b[0m\u001b[0mdata_string\u001b[0m\u001b[0;34m,\u001b[0m \u001b[0mformat\u001b[0m\u001b[0;34m)\u001b[0m\u001b[0;34m\u001b[0m\u001b[0m\n\u001b[0m\u001b[1;32m    566\u001b[0m     \u001b[0mtzname\u001b[0m\u001b[0;34m,\u001b[0m \u001b[0mgmtoff\u001b[0m \u001b[0;34m=\u001b[0m \u001b[0mtt\u001b[0m\u001b[0;34m[\u001b[0m\u001b[0;34m-\u001b[0m\u001b[0;36m2\u001b[0m\u001b[0;34m:\u001b[0m\u001b[0;34m]\u001b[0m\u001b[0;34m\u001b[0m\u001b[0m\n\u001b[1;32m    567\u001b[0m     \u001b[0margs\u001b[0m \u001b[0;34m=\u001b[0m \u001b[0mtt\u001b[0m\u001b[0;34m[\u001b[0m\u001b[0;34m:\u001b[0m\u001b[0;36m6\u001b[0m\u001b[0;34m]\u001b[0m \u001b[0;34m+\u001b[0m \u001b[0;34m(\u001b[0m\u001b[0mfraction\u001b[0m\u001b[0;34m,\u001b[0m\u001b[0;34m)\u001b[0m\u001b[0;34m\u001b[0m\u001b[0m\n",
            "\u001b[0;32m~/anaconda3_501/lib/python3.6/_strptime.py\u001b[0m in \u001b[0;36m_strptime\u001b[0;34m(data_string, format)\u001b[0m\n\u001b[1;32m    360\u001b[0m     \u001b[0;32mif\u001b[0m \u001b[0;32mnot\u001b[0m \u001b[0mfound\u001b[0m\u001b[0;34m:\u001b[0m\u001b[0;34m\u001b[0m\u001b[0m\n\u001b[1;32m    361\u001b[0m         raise ValueError(\"time data %r does not match format %r\" %\n\u001b[0;32m--> 362\u001b[0;31m                          (data_string, format))\n\u001b[0m\u001b[1;32m    363\u001b[0m     \u001b[0;32mif\u001b[0m \u001b[0mlen\u001b[0m\u001b[0;34m(\u001b[0m\u001b[0mdata_string\u001b[0m\u001b[0;34m)\u001b[0m \u001b[0;34m!=\u001b[0m \u001b[0mfound\u001b[0m\u001b[0;34m.\u001b[0m\u001b[0mend\u001b[0m\u001b[0;34m(\u001b[0m\u001b[0;34m)\u001b[0m\u001b[0;34m:\u001b[0m\u001b[0;34m\u001b[0m\u001b[0m\n\u001b[1;32m    364\u001b[0m         raise ValueError(\"unconverted data remains: %s\" %\n",
            "\u001b[0;31mValueError\u001b[0m: time data '1966-04-08' does not match format '%d.%m.%Y'"
          ]
        }
      ]
    },
    {
      "metadata": {
        "trusted": true
      },
      "cell_type": "code",
      "source": "from datetime import date\n\ndef calculate_age(born):\n    today = date.today()\n    try: \n        birthday = born.replace(year=today.year)\n    except ValueError: # raised when birth date is February 29 and the current year is not a leap year\n        birthday = born.replace(year=today.year, month=born.month+1, day=1)\n    if birthday > today:\n        return today.year - born.year - 1\n    else:\n        return today.year - born.year",
      "execution_count": 48,
      "outputs": []
    },
    {
      "metadata": {
        "trusted": true
      },
      "cell_type": "code",
      "source": "AdvWorksCusts['BirthDate'] = AdvWorksCusts['BirthDate'].apply(calculate_age)\nprint(AdvWorksCusts)",
      "execution_count": 49,
      "outputs": [
        {
          "output_type": "error",
          "ename": "TypeError",
          "evalue": "replace() takes no keyword arguments",
          "traceback": [
            "\u001b[0;31m---------------------------------------------------------------------------\u001b[0m",
            "\u001b[0;31mTypeError\u001b[0m                                 Traceback (most recent call last)",
            "\u001b[0;32m<ipython-input-49-a4c25d93e70f>\u001b[0m in \u001b[0;36m<module>\u001b[0;34m\u001b[0m\n\u001b[0;32m----> 1\u001b[0;31m \u001b[0mAdvWorksCusts\u001b[0m\u001b[0;34m[\u001b[0m\u001b[0;34m'BirthDate'\u001b[0m\u001b[0;34m]\u001b[0m \u001b[0;34m=\u001b[0m \u001b[0mAdvWorksCusts\u001b[0m\u001b[0;34m[\u001b[0m\u001b[0;34m'BirthDate'\u001b[0m\u001b[0;34m]\u001b[0m\u001b[0;34m.\u001b[0m\u001b[0mapply\u001b[0m\u001b[0;34m(\u001b[0m\u001b[0mcalculate_age\u001b[0m\u001b[0;34m)\u001b[0m\u001b[0;34m\u001b[0m\u001b[0m\n\u001b[0m\u001b[1;32m      2\u001b[0m \u001b[0mprint\u001b[0m\u001b[0;34m(\u001b[0m\u001b[0mAdvWorksCusts\u001b[0m\u001b[0;34m)\u001b[0m\u001b[0;34m\u001b[0m\u001b[0m\n",
            "\u001b[0;32m~/anaconda3_501/lib/python3.6/site-packages/pandas/core/series.py\u001b[0m in \u001b[0;36mapply\u001b[0;34m(self, func, convert_dtype, args, **kwds)\u001b[0m\n\u001b[1;32m   3192\u001b[0m             \u001b[0;32melse\u001b[0m\u001b[0;34m:\u001b[0m\u001b[0;34m\u001b[0m\u001b[0m\n\u001b[1;32m   3193\u001b[0m                 \u001b[0mvalues\u001b[0m \u001b[0;34m=\u001b[0m \u001b[0mself\u001b[0m\u001b[0;34m.\u001b[0m\u001b[0mastype\u001b[0m\u001b[0;34m(\u001b[0m\u001b[0mobject\u001b[0m\u001b[0;34m)\u001b[0m\u001b[0;34m.\u001b[0m\u001b[0mvalues\u001b[0m\u001b[0;34m\u001b[0m\u001b[0m\n\u001b[0;32m-> 3194\u001b[0;31m                 \u001b[0mmapped\u001b[0m \u001b[0;34m=\u001b[0m \u001b[0mlib\u001b[0m\u001b[0;34m.\u001b[0m\u001b[0mmap_infer\u001b[0m\u001b[0;34m(\u001b[0m\u001b[0mvalues\u001b[0m\u001b[0;34m,\u001b[0m \u001b[0mf\u001b[0m\u001b[0;34m,\u001b[0m \u001b[0mconvert\u001b[0m\u001b[0;34m=\u001b[0m\u001b[0mconvert_dtype\u001b[0m\u001b[0;34m)\u001b[0m\u001b[0;34m\u001b[0m\u001b[0m\n\u001b[0m\u001b[1;32m   3195\u001b[0m \u001b[0;34m\u001b[0m\u001b[0m\n\u001b[1;32m   3196\u001b[0m         \u001b[0;32mif\u001b[0m \u001b[0mlen\u001b[0m\u001b[0;34m(\u001b[0m\u001b[0mmapped\u001b[0m\u001b[0;34m)\u001b[0m \u001b[0;32mand\u001b[0m \u001b[0misinstance\u001b[0m\u001b[0;34m(\u001b[0m\u001b[0mmapped\u001b[0m\u001b[0;34m[\u001b[0m\u001b[0;36m0\u001b[0m\u001b[0;34m]\u001b[0m\u001b[0;34m,\u001b[0m \u001b[0mSeries\u001b[0m\u001b[0;34m)\u001b[0m\u001b[0;34m:\u001b[0m\u001b[0;34m\u001b[0m\u001b[0m\n",
            "\u001b[0;32mpandas/_libs/src/inference.pyx\u001b[0m in \u001b[0;36mpandas._libs.lib.map_infer\u001b[0;34m()\u001b[0m\n",
            "\u001b[0;32m<ipython-input-48-17836c3e6147>\u001b[0m in \u001b[0;36mcalculate_age\u001b[0;34m(born)\u001b[0m\n\u001b[1;32m      4\u001b[0m     \u001b[0mtoday\u001b[0m \u001b[0;34m=\u001b[0m \u001b[0mdate\u001b[0m\u001b[0;34m.\u001b[0m\u001b[0mtoday\u001b[0m\u001b[0;34m(\u001b[0m\u001b[0;34m)\u001b[0m\u001b[0;34m\u001b[0m\u001b[0m\n\u001b[1;32m      5\u001b[0m     \u001b[0;32mtry\u001b[0m\u001b[0;34m:\u001b[0m\u001b[0;34m\u001b[0m\u001b[0m\n\u001b[0;32m----> 6\u001b[0;31m         \u001b[0mbirthday\u001b[0m \u001b[0;34m=\u001b[0m \u001b[0mborn\u001b[0m\u001b[0;34m.\u001b[0m\u001b[0mreplace\u001b[0m\u001b[0;34m(\u001b[0m\u001b[0myear\u001b[0m\u001b[0;34m=\u001b[0m\u001b[0mtoday\u001b[0m\u001b[0;34m.\u001b[0m\u001b[0myear\u001b[0m\u001b[0;34m)\u001b[0m\u001b[0;34m\u001b[0m\u001b[0m\n\u001b[0m\u001b[1;32m      7\u001b[0m     \u001b[0;32mexcept\u001b[0m \u001b[0mValueError\u001b[0m\u001b[0;34m:\u001b[0m \u001b[0;31m# raised when birth date is February 29 and the current year is not a leap year\u001b[0m\u001b[0;34m\u001b[0m\u001b[0m\n\u001b[1;32m      8\u001b[0m         \u001b[0mbirthday\u001b[0m \u001b[0;34m=\u001b[0m \u001b[0mborn\u001b[0m\u001b[0;34m.\u001b[0m\u001b[0mreplace\u001b[0m\u001b[0;34m(\u001b[0m\u001b[0myear\u001b[0m\u001b[0;34m=\u001b[0m\u001b[0mtoday\u001b[0m\u001b[0;34m.\u001b[0m\u001b[0myear\u001b[0m\u001b[0;34m,\u001b[0m \u001b[0mmonth\u001b[0m\u001b[0;34m=\u001b[0m\u001b[0mborn\u001b[0m\u001b[0;34m.\u001b[0m\u001b[0mmonth\u001b[0m\u001b[0;34m+\u001b[0m\u001b[0;36m1\u001b[0m\u001b[0;34m,\u001b[0m \u001b[0mday\u001b[0m\u001b[0;34m=\u001b[0m\u001b[0;36m1\u001b[0m\u001b[0;34m)\u001b[0m\u001b[0;34m\u001b[0m\u001b[0m\n",
            "\u001b[0;31mTypeError\u001b[0m: replace() takes no keyword arguments"
          ]
        }
      ]
    },
    {
      "metadata": {
        "trusted": true
      },
      "cell_type": "code",
      "source": "",
      "execution_count": 51,
      "outputs": []
    },
    {
      "metadata": {
        "trusted": true
      },
      "cell_type": "code",
      "source": "# Load the Dataset\nAdvWorksCusts = pd.read_csv('AdvWorksCustsPrep3.csv', header=None)",
      "execution_count": 53,
      "outputs": []
    },
    {
      "metadata": {
        "trusted": true
      },
      "cell_type": "code",
      "source": "AdvWorksCusts.head()",
      "execution_count": 55,
      "outputs": [
        {
          "output_type": "execute_result",
          "execution_count": 55,
          "data": {
            "text/html": "<div>\n<style scoped>\n    .dataframe tbody tr th:only-of-type {\n        vertical-align: middle;\n    }\n\n    .dataframe tbody tr th {\n        vertical-align: top;\n    }\n\n    .dataframe thead th {\n        text-align: right;\n    }\n</style>\n<table border=\"1\" class=\"dataframe\">\n  <thead>\n    <tr style=\"text-align: right;\">\n      <th></th>\n      <th>0</th>\n      <th>1</th>\n      <th>2</th>\n      <th>3</th>\n      <th>4</th>\n      <th>5</th>\n      <th>6</th>\n      <th>7</th>\n      <th>8</th>\n      <th>9</th>\n      <th>...</th>\n      <th>13</th>\n      <th>14</th>\n      <th>15</th>\n      <th>16</th>\n      <th>17</th>\n      <th>18</th>\n      <th>19</th>\n      <th>20</th>\n      <th>21</th>\n      <th>22</th>\n    </tr>\n  </thead>\n  <tbody>\n    <tr>\n      <th>0</th>\n      <td>CustomerID</td>\n      <td>Title</td>\n      <td>FirstName</td>\n      <td>MiddleName</td>\n      <td>LastName</td>\n      <td>Suffix</td>\n      <td>AddressLine1</td>\n      <td>AddressLine2</td>\n      <td>City</td>\n      <td>StateProvinceName</td>\n      <td>...</td>\n      <td>BirthDate</td>\n      <td>Education</td>\n      <td>Occupation</td>\n      <td>Gender</td>\n      <td>MaritalStatus</td>\n      <td>HomeOwnerFlag</td>\n      <td>NumberCarsOwned</td>\n      <td>NumberChildrenAtHome</td>\n      <td>TotalChildren</td>\n      <td>YearlyIncome</td>\n    </tr>\n    <tr>\n      <th>1</th>\n      <td>11000</td>\n      <td>NaN</td>\n      <td>Jon</td>\n      <td>V</td>\n      <td>Yang</td>\n      <td>NaN</td>\n      <td>3761 N. 14th St</td>\n      <td>NaN</td>\n      <td>Rockhampton</td>\n      <td>Queensland</td>\n      <td>...</td>\n      <td>54</td>\n      <td>Bachelors</td>\n      <td>Professional</td>\n      <td>M</td>\n      <td>M</td>\n      <td>1</td>\n      <td>0</td>\n      <td>0</td>\n      <td>2</td>\n      <td>137947</td>\n    </tr>\n    <tr>\n      <th>2</th>\n      <td>11001</td>\n      <td>NaN</td>\n      <td>Eugene</td>\n      <td>L</td>\n      <td>Huang</td>\n      <td>NaN</td>\n      <td>2243 W St.</td>\n      <td>NaN</td>\n      <td>Seaford</td>\n      <td>Victoria</td>\n      <td>...</td>\n      <td>55</td>\n      <td>Bachelors</td>\n      <td>Professional</td>\n      <td>M</td>\n      <td>S</td>\n      <td>0</td>\n      <td>1</td>\n      <td>3</td>\n      <td>3</td>\n      <td>101141</td>\n    </tr>\n    <tr>\n      <th>3</th>\n      <td>11002</td>\n      <td>NaN</td>\n      <td>Ruben</td>\n      <td>NaN</td>\n      <td>Torres</td>\n      <td>NaN</td>\n      <td>5844 Linden Land</td>\n      <td>NaN</td>\n      <td>Hobart</td>\n      <td>Tasmania</td>\n      <td>...</td>\n      <td>54</td>\n      <td>Bachelors</td>\n      <td>Professional</td>\n      <td>M</td>\n      <td>M</td>\n      <td>1</td>\n      <td>1</td>\n      <td>3</td>\n      <td>3</td>\n      <td>91945</td>\n    </tr>\n    <tr>\n      <th>4</th>\n      <td>11003</td>\n      <td>NaN</td>\n      <td>Christy</td>\n      <td>NaN</td>\n      <td>Zhu</td>\n      <td>NaN</td>\n      <td>1825 Village Pl.</td>\n      <td>NaN</td>\n      <td>North Ryde</td>\n      <td>New South Wales</td>\n      <td>...</td>\n      <td>52</td>\n      <td>Bachelors</td>\n      <td>Professional</td>\n      <td>F</td>\n      <td>S</td>\n      <td>0</td>\n      <td>1</td>\n      <td>0</td>\n      <td>0</td>\n      <td>86688</td>\n    </tr>\n  </tbody>\n</table>\n<p>5 rows × 23 columns</p>\n</div>",
            "text/plain": "           0      1          2           3         4       5   \\\n0  CustomerID  Title  FirstName  MiddleName  LastName  Suffix   \n1       11000    NaN        Jon           V      Yang     NaN   \n2       11001    NaN     Eugene           L     Huang     NaN   \n3       11002    NaN      Ruben         NaN    Torres     NaN   \n4       11003    NaN    Christy         NaN       Zhu     NaN   \n\n                 6             7            8                  9   \\\n0      AddressLine1  AddressLine2         City  StateProvinceName   \n1   3761 N. 14th St           NaN  Rockhampton         Queensland   \n2        2243 W St.           NaN      Seaford           Victoria   \n3  5844 Linden Land           NaN       Hobart           Tasmania   \n4  1825 Village Pl.           NaN   North Ryde    New South Wales   \n\n       ...              13          14            15      16             17  \\\n0      ...       BirthDate   Education    Occupation  Gender  MaritalStatus   \n1      ...              54  Bachelors   Professional       M              M   \n2      ...              55  Bachelors   Professional       M              S   \n3      ...              54  Bachelors   Professional       M              M   \n4      ...              52  Bachelors   Professional       F              S   \n\n              18               19                    20             21  \\\n0  HomeOwnerFlag  NumberCarsOwned  NumberChildrenAtHome  TotalChildren   \n1              1                0                     0              2   \n2              0                1                     3              3   \n3              1                1                     3              3   \n4              0                1                     0              0   \n\n             22  \n0  YearlyIncome  \n1        137947  \n2        101141  \n3         91945  \n4         86688  \n\n[5 rows x 23 columns]"
          },
          "metadata": {}
        }
      ]
    },
    {
      "metadata": {
        "trusted": true
      },
      "cell_type": "code",
      "source": "AdvWorksCusts = AdvWorksCusts.drop(['BirthDate1'], axis=1)",
      "execution_count": 56,
      "outputs": [
        {
          "output_type": "error",
          "ename": "KeyError",
          "evalue": "\"['BirthDate1'] not found in axis\"",
          "traceback": [
            "\u001b[0;31m---------------------------------------------------------------------------\u001b[0m",
            "\u001b[0;31mKeyError\u001b[0m                                  Traceback (most recent call last)",
            "\u001b[0;32m<ipython-input-56-f676f7917341>\u001b[0m in \u001b[0;36m<module>\u001b[0;34m\u001b[0m\n\u001b[0;32m----> 1\u001b[0;31m \u001b[0mAdvWorksCusts\u001b[0m \u001b[0;34m=\u001b[0m \u001b[0mAdvWorksCusts\u001b[0m\u001b[0;34m.\u001b[0m\u001b[0mdrop\u001b[0m\u001b[0;34m(\u001b[0m\u001b[0;34m[\u001b[0m\u001b[0;34m'BirthDate1'\u001b[0m\u001b[0;34m]\u001b[0m\u001b[0;34m,\u001b[0m \u001b[0maxis\u001b[0m\u001b[0;34m=\u001b[0m\u001b[0;36m1\u001b[0m\u001b[0;34m)\u001b[0m\u001b[0;34m\u001b[0m\u001b[0m\n\u001b[0m",
            "\u001b[0;32m~/anaconda3_501/lib/python3.6/site-packages/pandas/core/frame.py\u001b[0m in \u001b[0;36mdrop\u001b[0;34m(self, labels, axis, index, columns, level, inplace, errors)\u001b[0m\n\u001b[1;32m   3695\u001b[0m                                            \u001b[0mindex\u001b[0m\u001b[0;34m=\u001b[0m\u001b[0mindex\u001b[0m\u001b[0;34m,\u001b[0m \u001b[0mcolumns\u001b[0m\u001b[0;34m=\u001b[0m\u001b[0mcolumns\u001b[0m\u001b[0;34m,\u001b[0m\u001b[0;34m\u001b[0m\u001b[0m\n\u001b[1;32m   3696\u001b[0m                                            \u001b[0mlevel\u001b[0m\u001b[0;34m=\u001b[0m\u001b[0mlevel\u001b[0m\u001b[0;34m,\u001b[0m \u001b[0minplace\u001b[0m\u001b[0;34m=\u001b[0m\u001b[0minplace\u001b[0m\u001b[0;34m,\u001b[0m\u001b[0;34m\u001b[0m\u001b[0m\n\u001b[0;32m-> 3697\u001b[0;31m                                            errors=errors)\n\u001b[0m\u001b[1;32m   3698\u001b[0m \u001b[0;34m\u001b[0m\u001b[0m\n\u001b[1;32m   3699\u001b[0m     @rewrite_axis_style_signature('mapper', [('copy', True),\n",
            "\u001b[0;32m~/anaconda3_501/lib/python3.6/site-packages/pandas/core/generic.py\u001b[0m in \u001b[0;36mdrop\u001b[0;34m(self, labels, axis, index, columns, level, inplace, errors)\u001b[0m\n\u001b[1;32m   3109\u001b[0m         \u001b[0;32mfor\u001b[0m \u001b[0maxis\u001b[0m\u001b[0;34m,\u001b[0m \u001b[0mlabels\u001b[0m \u001b[0;32min\u001b[0m \u001b[0maxes\u001b[0m\u001b[0;34m.\u001b[0m\u001b[0mitems\u001b[0m\u001b[0;34m(\u001b[0m\u001b[0;34m)\u001b[0m\u001b[0;34m:\u001b[0m\u001b[0;34m\u001b[0m\u001b[0m\n\u001b[1;32m   3110\u001b[0m             \u001b[0;32mif\u001b[0m \u001b[0mlabels\u001b[0m \u001b[0;32mis\u001b[0m \u001b[0;32mnot\u001b[0m \u001b[0;32mNone\u001b[0m\u001b[0;34m:\u001b[0m\u001b[0;34m\u001b[0m\u001b[0m\n\u001b[0;32m-> 3111\u001b[0;31m                 \u001b[0mobj\u001b[0m \u001b[0;34m=\u001b[0m \u001b[0mobj\u001b[0m\u001b[0;34m.\u001b[0m\u001b[0m_drop_axis\u001b[0m\u001b[0;34m(\u001b[0m\u001b[0mlabels\u001b[0m\u001b[0;34m,\u001b[0m \u001b[0maxis\u001b[0m\u001b[0;34m,\u001b[0m \u001b[0mlevel\u001b[0m\u001b[0;34m=\u001b[0m\u001b[0mlevel\u001b[0m\u001b[0;34m,\u001b[0m \u001b[0merrors\u001b[0m\u001b[0;34m=\u001b[0m\u001b[0merrors\u001b[0m\u001b[0;34m)\u001b[0m\u001b[0;34m\u001b[0m\u001b[0m\n\u001b[0m\u001b[1;32m   3112\u001b[0m \u001b[0;34m\u001b[0m\u001b[0m\n\u001b[1;32m   3113\u001b[0m         \u001b[0;32mif\u001b[0m \u001b[0minplace\u001b[0m\u001b[0;34m:\u001b[0m\u001b[0;34m\u001b[0m\u001b[0m\n",
            "\u001b[0;32m~/anaconda3_501/lib/python3.6/site-packages/pandas/core/generic.py\u001b[0m in \u001b[0;36m_drop_axis\u001b[0;34m(self, labels, axis, level, errors)\u001b[0m\n\u001b[1;32m   3141\u001b[0m                 \u001b[0mnew_axis\u001b[0m \u001b[0;34m=\u001b[0m \u001b[0maxis\u001b[0m\u001b[0;34m.\u001b[0m\u001b[0mdrop\u001b[0m\u001b[0;34m(\u001b[0m\u001b[0mlabels\u001b[0m\u001b[0;34m,\u001b[0m \u001b[0mlevel\u001b[0m\u001b[0;34m=\u001b[0m\u001b[0mlevel\u001b[0m\u001b[0;34m,\u001b[0m \u001b[0merrors\u001b[0m\u001b[0;34m=\u001b[0m\u001b[0merrors\u001b[0m\u001b[0;34m)\u001b[0m\u001b[0;34m\u001b[0m\u001b[0m\n\u001b[1;32m   3142\u001b[0m             \u001b[0;32melse\u001b[0m\u001b[0;34m:\u001b[0m\u001b[0;34m\u001b[0m\u001b[0m\n\u001b[0;32m-> 3143\u001b[0;31m                 \u001b[0mnew_axis\u001b[0m \u001b[0;34m=\u001b[0m \u001b[0maxis\u001b[0m\u001b[0;34m.\u001b[0m\u001b[0mdrop\u001b[0m\u001b[0;34m(\u001b[0m\u001b[0mlabels\u001b[0m\u001b[0;34m,\u001b[0m \u001b[0merrors\u001b[0m\u001b[0;34m=\u001b[0m\u001b[0merrors\u001b[0m\u001b[0;34m)\u001b[0m\u001b[0;34m\u001b[0m\u001b[0m\n\u001b[0m\u001b[1;32m   3144\u001b[0m             \u001b[0mresult\u001b[0m \u001b[0;34m=\u001b[0m \u001b[0mself\u001b[0m\u001b[0;34m.\u001b[0m\u001b[0mreindex\u001b[0m\u001b[0;34m(\u001b[0m\u001b[0;34m**\u001b[0m\u001b[0;34m{\u001b[0m\u001b[0maxis_name\u001b[0m\u001b[0;34m:\u001b[0m \u001b[0mnew_axis\u001b[0m\u001b[0;34m}\u001b[0m\u001b[0;34m)\u001b[0m\u001b[0;34m\u001b[0m\u001b[0m\n\u001b[1;32m   3145\u001b[0m \u001b[0;34m\u001b[0m\u001b[0m\n",
            "\u001b[0;32m~/anaconda3_501/lib/python3.6/site-packages/pandas/core/indexes/base.py\u001b[0m in \u001b[0;36mdrop\u001b[0;34m(self, labels, errors)\u001b[0m\n\u001b[1;32m   4402\u001b[0m             \u001b[0;32mif\u001b[0m \u001b[0merrors\u001b[0m \u001b[0;34m!=\u001b[0m \u001b[0;34m'ignore'\u001b[0m\u001b[0;34m:\u001b[0m\u001b[0;34m\u001b[0m\u001b[0m\n\u001b[1;32m   4403\u001b[0m                 raise KeyError(\n\u001b[0;32m-> 4404\u001b[0;31m                     '{} not found in axis'.format(labels[mask]))\n\u001b[0m\u001b[1;32m   4405\u001b[0m             \u001b[0mindexer\u001b[0m \u001b[0;34m=\u001b[0m \u001b[0mindexer\u001b[0m\u001b[0;34m[\u001b[0m\u001b[0;34m~\u001b[0m\u001b[0mmask\u001b[0m\u001b[0;34m]\u001b[0m\u001b[0;34m\u001b[0m\u001b[0m\n\u001b[1;32m   4406\u001b[0m         \u001b[0;32mreturn\u001b[0m \u001b[0mself\u001b[0m\u001b[0;34m.\u001b[0m\u001b[0mdelete\u001b[0m\u001b[0;34m(\u001b[0m\u001b[0mindexer\u001b[0m\u001b[0;34m)\u001b[0m\u001b[0;34m\u001b[0m\u001b[0m\n",
            "\u001b[0;31mKeyError\u001b[0m: \"['BirthDate1'] not found in axis\""
          ]
        }
      ]
    },
    {
      "metadata": {
        "trusted": true
      },
      "cell_type": "code",
      "source": "# Select the Last 14 Columns \n\nAdvWorksCusts = AdvWorksCusts[AdvWorksCusts.columns[-15:]]",
      "execution_count": 57,
      "outputs": []
    },
    {
      "metadata": {
        "trusted": true
      },
      "cell_type": "code",
      "source": "AdvWorksCusts.head()",
      "execution_count": 58,
      "outputs": [
        {
          "output_type": "execute_result",
          "execution_count": 58,
          "data": {
            "text/html": "<div>\n<style scoped>\n    .dataframe tbody tr th:only-of-type {\n        vertical-align: middle;\n    }\n\n    .dataframe tbody tr th {\n        vertical-align: top;\n    }\n\n    .dataframe thead th {\n        text-align: right;\n    }\n</style>\n<table border=\"1\" class=\"dataframe\">\n  <thead>\n    <tr style=\"text-align: right;\">\n      <th></th>\n      <th>8</th>\n      <th>9</th>\n      <th>10</th>\n      <th>11</th>\n      <th>12</th>\n      <th>13</th>\n      <th>14</th>\n      <th>15</th>\n      <th>16</th>\n      <th>17</th>\n      <th>18</th>\n      <th>19</th>\n      <th>20</th>\n      <th>21</th>\n      <th>22</th>\n    </tr>\n  </thead>\n  <tbody>\n    <tr>\n      <th>0</th>\n      <td>City</td>\n      <td>StateProvinceName</td>\n      <td>CountryRegionName</td>\n      <td>PostalCode</td>\n      <td>BirthDate1</td>\n      <td>BirthDate</td>\n      <td>Education</td>\n      <td>Occupation</td>\n      <td>Gender</td>\n      <td>MaritalStatus</td>\n      <td>HomeOwnerFlag</td>\n      <td>NumberCarsOwned</td>\n      <td>NumberChildrenAtHome</td>\n      <td>TotalChildren</td>\n      <td>YearlyIncome</td>\n    </tr>\n    <tr>\n      <th>1</th>\n      <td>Rockhampton</td>\n      <td>Queensland</td>\n      <td>Australia</td>\n      <td>4700</td>\n      <td>4/8/1966</td>\n      <td>54</td>\n      <td>Bachelors</td>\n      <td>Professional</td>\n      <td>M</td>\n      <td>M</td>\n      <td>1</td>\n      <td>0</td>\n      <td>0</td>\n      <td>2</td>\n      <td>137947</td>\n    </tr>\n    <tr>\n      <th>2</th>\n      <td>Seaford</td>\n      <td>Victoria</td>\n      <td>Australia</td>\n      <td>3198</td>\n      <td>5/14/1965</td>\n      <td>55</td>\n      <td>Bachelors</td>\n      <td>Professional</td>\n      <td>M</td>\n      <td>S</td>\n      <td>0</td>\n      <td>1</td>\n      <td>3</td>\n      <td>3</td>\n      <td>101141</td>\n    </tr>\n    <tr>\n      <th>3</th>\n      <td>Hobart</td>\n      <td>Tasmania</td>\n      <td>Australia</td>\n      <td>7001</td>\n      <td>8/12/1965</td>\n      <td>54</td>\n      <td>Bachelors</td>\n      <td>Professional</td>\n      <td>M</td>\n      <td>M</td>\n      <td>1</td>\n      <td>1</td>\n      <td>3</td>\n      <td>3</td>\n      <td>91945</td>\n    </tr>\n    <tr>\n      <th>4</th>\n      <td>North Ryde</td>\n      <td>New South Wales</td>\n      <td>Australia</td>\n      <td>2113</td>\n      <td>2/15/1968</td>\n      <td>52</td>\n      <td>Bachelors</td>\n      <td>Professional</td>\n      <td>F</td>\n      <td>S</td>\n      <td>0</td>\n      <td>1</td>\n      <td>0</td>\n      <td>0</td>\n      <td>86688</td>\n    </tr>\n  </tbody>\n</table>\n</div>",
            "text/plain": "            8                  9                  10          11          12  \\\n0         City  StateProvinceName  CountryRegionName  PostalCode  BirthDate1   \n1  Rockhampton         Queensland          Australia        4700    4/8/1966   \n2      Seaford           Victoria          Australia        3198   5/14/1965   \n3       Hobart           Tasmania          Australia        7001   8/12/1965   \n4   North Ryde    New South Wales          Australia        2113   2/15/1968   \n\n          13          14            15      16             17             18  \\\n0  BirthDate   Education    Occupation  Gender  MaritalStatus  HomeOwnerFlag   \n1         54  Bachelors   Professional       M              M              1   \n2         55  Bachelors   Professional       M              S              0   \n3         54  Bachelors   Professional       M              M              1   \n4         52  Bachelors   Professional       F              S              0   \n\n                19                    20             21            22  \n0  NumberCarsOwned  NumberChildrenAtHome  TotalChildren  YearlyIncome  \n1                0                     0              2        137947  \n2                1                     3              3        101141  \n3                1                     3              3         91945  \n4                1                     0              0         86688  "
          },
          "metadata": {}
        }
      ]
    },
    {
      "metadata": {
        "trusted": true
      },
      "cell_type": "code",
      "source": "# AdvWorksCusts = AdvWorksCusts['BirthDate1'].drop()\n'''\ndel AdvWorksCusts['BirthDate1']\nAdvWorksCusts.head()\n'''\n\n# Drop Columns not needed\n\nAdvWorksCusts = AdvWorksCusts.drop(['BirthDate1'], axis=1)\nAdvWorksCusts.head()\n\n\n# Choose Columns\n\ncols = ['HomeOwnerFlag', 'NumberCarsOwned', 'NumberChildrenAtHome',\n          'TotalChildren', 'YearlyIncome']",
      "execution_count": 61,
      "outputs": [
        {
          "output_type": "error",
          "ename": "KeyError",
          "evalue": "\"['BirthDate1'] not found in axis\"",
          "traceback": [
            "\u001b[0;31m---------------------------------------------------------------------------\u001b[0m",
            "\u001b[0;31mKeyError\u001b[0m                                  Traceback (most recent call last)",
            "\u001b[0;32m<ipython-input-61-ce477dd63e1c>\u001b[0m in \u001b[0;36m<module>\u001b[0;34m\u001b[0m\n\u001b[1;32m      7\u001b[0m \u001b[0;31m# Drop Columns not needed\u001b[0m\u001b[0;34m\u001b[0m\u001b[0;34m\u001b[0m\u001b[0m\n\u001b[1;32m      8\u001b[0m \u001b[0;34m\u001b[0m\u001b[0m\n\u001b[0;32m----> 9\u001b[0;31m \u001b[0mAdvWorksCusts\u001b[0m \u001b[0;34m=\u001b[0m \u001b[0mAdvWorksCusts\u001b[0m\u001b[0;34m.\u001b[0m\u001b[0mdrop\u001b[0m\u001b[0;34m(\u001b[0m\u001b[0;34m[\u001b[0m\u001b[0;34m'BirthDate1'\u001b[0m\u001b[0;34m]\u001b[0m\u001b[0;34m,\u001b[0m \u001b[0maxis\u001b[0m\u001b[0;34m=\u001b[0m\u001b[0;36m1\u001b[0m\u001b[0;34m)\u001b[0m\u001b[0;34m\u001b[0m\u001b[0m\n\u001b[0m\u001b[1;32m     10\u001b[0m \u001b[0mAdvWorksCusts\u001b[0m\u001b[0;34m.\u001b[0m\u001b[0mhead\u001b[0m\u001b[0;34m(\u001b[0m\u001b[0;34m)\u001b[0m\u001b[0;34m\u001b[0m\u001b[0m\n",
            "\u001b[0;32m~/anaconda3_501/lib/python3.6/site-packages/pandas/core/frame.py\u001b[0m in \u001b[0;36mdrop\u001b[0;34m(self, labels, axis, index, columns, level, inplace, errors)\u001b[0m\n\u001b[1;32m   3695\u001b[0m                                            \u001b[0mindex\u001b[0m\u001b[0;34m=\u001b[0m\u001b[0mindex\u001b[0m\u001b[0;34m,\u001b[0m \u001b[0mcolumns\u001b[0m\u001b[0;34m=\u001b[0m\u001b[0mcolumns\u001b[0m\u001b[0;34m,\u001b[0m\u001b[0;34m\u001b[0m\u001b[0m\n\u001b[1;32m   3696\u001b[0m                                            \u001b[0mlevel\u001b[0m\u001b[0;34m=\u001b[0m\u001b[0mlevel\u001b[0m\u001b[0;34m,\u001b[0m \u001b[0minplace\u001b[0m\u001b[0;34m=\u001b[0m\u001b[0minplace\u001b[0m\u001b[0;34m,\u001b[0m\u001b[0;34m\u001b[0m\u001b[0m\n\u001b[0;32m-> 3697\u001b[0;31m                                            errors=errors)\n\u001b[0m\u001b[1;32m   3698\u001b[0m \u001b[0;34m\u001b[0m\u001b[0m\n\u001b[1;32m   3699\u001b[0m     @rewrite_axis_style_signature('mapper', [('copy', True),\n",
            "\u001b[0;32m~/anaconda3_501/lib/python3.6/site-packages/pandas/core/generic.py\u001b[0m in \u001b[0;36mdrop\u001b[0;34m(self, labels, axis, index, columns, level, inplace, errors)\u001b[0m\n\u001b[1;32m   3109\u001b[0m         \u001b[0;32mfor\u001b[0m \u001b[0maxis\u001b[0m\u001b[0;34m,\u001b[0m \u001b[0mlabels\u001b[0m \u001b[0;32min\u001b[0m \u001b[0maxes\u001b[0m\u001b[0;34m.\u001b[0m\u001b[0mitems\u001b[0m\u001b[0;34m(\u001b[0m\u001b[0;34m)\u001b[0m\u001b[0;34m:\u001b[0m\u001b[0;34m\u001b[0m\u001b[0m\n\u001b[1;32m   3110\u001b[0m             \u001b[0;32mif\u001b[0m \u001b[0mlabels\u001b[0m \u001b[0;32mis\u001b[0m \u001b[0;32mnot\u001b[0m \u001b[0;32mNone\u001b[0m\u001b[0;34m:\u001b[0m\u001b[0;34m\u001b[0m\u001b[0m\n\u001b[0;32m-> 3111\u001b[0;31m                 \u001b[0mobj\u001b[0m \u001b[0;34m=\u001b[0m \u001b[0mobj\u001b[0m\u001b[0;34m.\u001b[0m\u001b[0m_drop_axis\u001b[0m\u001b[0;34m(\u001b[0m\u001b[0mlabels\u001b[0m\u001b[0;34m,\u001b[0m \u001b[0maxis\u001b[0m\u001b[0;34m,\u001b[0m \u001b[0mlevel\u001b[0m\u001b[0;34m=\u001b[0m\u001b[0mlevel\u001b[0m\u001b[0;34m,\u001b[0m \u001b[0merrors\u001b[0m\u001b[0;34m=\u001b[0m\u001b[0merrors\u001b[0m\u001b[0;34m)\u001b[0m\u001b[0;34m\u001b[0m\u001b[0m\n\u001b[0m\u001b[1;32m   3112\u001b[0m \u001b[0;34m\u001b[0m\u001b[0m\n\u001b[1;32m   3113\u001b[0m         \u001b[0;32mif\u001b[0m \u001b[0minplace\u001b[0m\u001b[0;34m:\u001b[0m\u001b[0;34m\u001b[0m\u001b[0m\n",
            "\u001b[0;32m~/anaconda3_501/lib/python3.6/site-packages/pandas/core/generic.py\u001b[0m in \u001b[0;36m_drop_axis\u001b[0;34m(self, labels, axis, level, errors)\u001b[0m\n\u001b[1;32m   3141\u001b[0m                 \u001b[0mnew_axis\u001b[0m \u001b[0;34m=\u001b[0m \u001b[0maxis\u001b[0m\u001b[0;34m.\u001b[0m\u001b[0mdrop\u001b[0m\u001b[0;34m(\u001b[0m\u001b[0mlabels\u001b[0m\u001b[0;34m,\u001b[0m \u001b[0mlevel\u001b[0m\u001b[0;34m=\u001b[0m\u001b[0mlevel\u001b[0m\u001b[0;34m,\u001b[0m \u001b[0merrors\u001b[0m\u001b[0;34m=\u001b[0m\u001b[0merrors\u001b[0m\u001b[0;34m)\u001b[0m\u001b[0;34m\u001b[0m\u001b[0m\n\u001b[1;32m   3142\u001b[0m             \u001b[0;32melse\u001b[0m\u001b[0;34m:\u001b[0m\u001b[0;34m\u001b[0m\u001b[0m\n\u001b[0;32m-> 3143\u001b[0;31m                 \u001b[0mnew_axis\u001b[0m \u001b[0;34m=\u001b[0m \u001b[0maxis\u001b[0m\u001b[0;34m.\u001b[0m\u001b[0mdrop\u001b[0m\u001b[0;34m(\u001b[0m\u001b[0mlabels\u001b[0m\u001b[0;34m,\u001b[0m \u001b[0merrors\u001b[0m\u001b[0;34m=\u001b[0m\u001b[0merrors\u001b[0m\u001b[0;34m)\u001b[0m\u001b[0;34m\u001b[0m\u001b[0m\n\u001b[0m\u001b[1;32m   3144\u001b[0m             \u001b[0mresult\u001b[0m \u001b[0;34m=\u001b[0m \u001b[0mself\u001b[0m\u001b[0;34m.\u001b[0m\u001b[0mreindex\u001b[0m\u001b[0;34m(\u001b[0m\u001b[0;34m**\u001b[0m\u001b[0;34m{\u001b[0m\u001b[0maxis_name\u001b[0m\u001b[0;34m:\u001b[0m \u001b[0mnew_axis\u001b[0m\u001b[0;34m}\u001b[0m\u001b[0;34m)\u001b[0m\u001b[0;34m\u001b[0m\u001b[0m\n\u001b[1;32m   3145\u001b[0m \u001b[0;34m\u001b[0m\u001b[0m\n",
            "\u001b[0;32m~/anaconda3_501/lib/python3.6/site-packages/pandas/core/indexes/base.py\u001b[0m in \u001b[0;36mdrop\u001b[0;34m(self, labels, errors)\u001b[0m\n\u001b[1;32m   4402\u001b[0m             \u001b[0;32mif\u001b[0m \u001b[0merrors\u001b[0m \u001b[0;34m!=\u001b[0m \u001b[0;34m'ignore'\u001b[0m\u001b[0;34m:\u001b[0m\u001b[0;34m\u001b[0m\u001b[0m\n\u001b[1;32m   4403\u001b[0m                 raise KeyError(\n\u001b[0;32m-> 4404\u001b[0;31m                     '{} not found in axis'.format(labels[mask]))\n\u001b[0m\u001b[1;32m   4405\u001b[0m             \u001b[0mindexer\u001b[0m \u001b[0;34m=\u001b[0m \u001b[0mindexer\u001b[0m\u001b[0;34m[\u001b[0m\u001b[0;34m~\u001b[0m\u001b[0mmask\u001b[0m\u001b[0;34m]\u001b[0m\u001b[0;34m\u001b[0m\u001b[0m\n\u001b[1;32m   4406\u001b[0m         \u001b[0;32mreturn\u001b[0m \u001b[0mself\u001b[0m\u001b[0;34m.\u001b[0m\u001b[0mdelete\u001b[0m\u001b[0;34m(\u001b[0m\u001b[0mindexer\u001b[0m\u001b[0;34m)\u001b[0m\u001b[0;34m\u001b[0m\u001b[0m\n",
            "\u001b[0;31mKeyError\u001b[0m: \"['BirthDate1'] not found in axis\""
          ]
        }
      ]
    },
    {
      "metadata": {
        "trusted": true
      },
      "cell_type": "code",
      "source": "AdvWorksCusts.head()\n",
      "execution_count": 62,
      "outputs": [
        {
          "output_type": "execute_result",
          "execution_count": 62,
          "data": {
            "text/html": "<div>\n<style scoped>\n    .dataframe tbody tr th:only-of-type {\n        vertical-align: middle;\n    }\n\n    .dataframe tbody tr th {\n        vertical-align: top;\n    }\n\n    .dataframe thead th {\n        text-align: right;\n    }\n</style>\n<table border=\"1\" class=\"dataframe\">\n  <thead>\n    <tr style=\"text-align: right;\">\n      <th></th>\n      <th>8</th>\n      <th>9</th>\n      <th>10</th>\n      <th>11</th>\n      <th>12</th>\n      <th>13</th>\n      <th>14</th>\n      <th>15</th>\n      <th>16</th>\n      <th>17</th>\n      <th>18</th>\n      <th>19</th>\n      <th>20</th>\n      <th>21</th>\n      <th>22</th>\n    </tr>\n  </thead>\n  <tbody>\n    <tr>\n      <th>0</th>\n      <td>City</td>\n      <td>StateProvinceName</td>\n      <td>CountryRegionName</td>\n      <td>PostalCode</td>\n      <td>BirthDate1</td>\n      <td>BirthDate</td>\n      <td>Education</td>\n      <td>Occupation</td>\n      <td>Gender</td>\n      <td>MaritalStatus</td>\n      <td>HomeOwnerFlag</td>\n      <td>NumberCarsOwned</td>\n      <td>NumberChildrenAtHome</td>\n      <td>TotalChildren</td>\n      <td>YearlyIncome</td>\n    </tr>\n    <tr>\n      <th>1</th>\n      <td>Rockhampton</td>\n      <td>Queensland</td>\n      <td>Australia</td>\n      <td>4700</td>\n      <td>4/8/1966</td>\n      <td>54</td>\n      <td>Bachelors</td>\n      <td>Professional</td>\n      <td>M</td>\n      <td>M</td>\n      <td>1</td>\n      <td>0</td>\n      <td>0</td>\n      <td>2</td>\n      <td>137947</td>\n    </tr>\n    <tr>\n      <th>2</th>\n      <td>Seaford</td>\n      <td>Victoria</td>\n      <td>Australia</td>\n      <td>3198</td>\n      <td>5/14/1965</td>\n      <td>55</td>\n      <td>Bachelors</td>\n      <td>Professional</td>\n      <td>M</td>\n      <td>S</td>\n      <td>0</td>\n      <td>1</td>\n      <td>3</td>\n      <td>3</td>\n      <td>101141</td>\n    </tr>\n    <tr>\n      <th>3</th>\n      <td>Hobart</td>\n      <td>Tasmania</td>\n      <td>Australia</td>\n      <td>7001</td>\n      <td>8/12/1965</td>\n      <td>54</td>\n      <td>Bachelors</td>\n      <td>Professional</td>\n      <td>M</td>\n      <td>M</td>\n      <td>1</td>\n      <td>1</td>\n      <td>3</td>\n      <td>3</td>\n      <td>91945</td>\n    </tr>\n    <tr>\n      <th>4</th>\n      <td>North Ryde</td>\n      <td>New South Wales</td>\n      <td>Australia</td>\n      <td>2113</td>\n      <td>2/15/1968</td>\n      <td>52</td>\n      <td>Bachelors</td>\n      <td>Professional</td>\n      <td>F</td>\n      <td>S</td>\n      <td>0</td>\n      <td>1</td>\n      <td>0</td>\n      <td>0</td>\n      <td>86688</td>\n    </tr>\n  </tbody>\n</table>\n</div>",
            "text/plain": "            8                  9                  10          11          12  \\\n0         City  StateProvinceName  CountryRegionName  PostalCode  BirthDate1   \n1  Rockhampton         Queensland          Australia        4700    4/8/1966   \n2      Seaford           Victoria          Australia        3198   5/14/1965   \n3       Hobart           Tasmania          Australia        7001   8/12/1965   \n4   North Ryde    New South Wales          Australia        2113   2/15/1968   \n\n          13          14            15      16             17             18  \\\n0  BirthDate   Education    Occupation  Gender  MaritalStatus  HomeOwnerFlag   \n1         54  Bachelors   Professional       M              M              1   \n2         55  Bachelors   Professional       M              S              0   \n3         54  Bachelors   Professional       M              M              1   \n4         52  Bachelors   Professional       F              S              0   \n\n                19                    20             21            22  \n0  NumberCarsOwned  NumberChildrenAtHome  TotalChildren  YearlyIncome  \n1                0                     0              2        137947  \n2                1                     3              3        101141  \n3                1                     3              3         91945  \n4                1                     0              0         86688  "
          },
          "metadata": {}
        }
      ]
    },
    {
      "metadata": {
        "trusted": true
      },
      "cell_type": "code",
      "source": "",
      "execution_count": null,
      "outputs": []
    }
  ],
  "metadata": {
    "kernelspec": {
      "name": "python36",
      "display_name": "Python 3.6",
      "language": "python"
    },
    "language_info": {
      "mimetype": "text/x-python",
      "nbconvert_exporter": "python",
      "name": "python",
      "pygments_lexer": "ipython3",
      "version": "3.6.6",
      "file_extension": ".py",
      "codemirror_mode": {
        "version": 3,
        "name": "ipython"
      }
    }
  },
  "nbformat": 4,
  "nbformat_minor": 2
}